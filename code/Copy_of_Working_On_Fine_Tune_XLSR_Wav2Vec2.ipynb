{
  "cells": [
    {
      "cell_type": "markdown",
      "metadata": {
        "id": "LBSYoWbi-45k"
      },
      "source": [
        "# **Fine-tuning XLSR-Wav2Vec2  🤗 Transformers**"
      ]
    },
    {
      "cell_type": "markdown",
      "metadata": {
        "id": "ALz_8bgs6nAi"
      },
      "source": [
        "## Pre-configuration"
      ]
    },
    {
      "cell_type": "code",
      "source": [
        "!pip uninstall -y transformers accelerate\n",
        "!pip install transformers accelerate\n",
        "!pip install datasets\n",
        "!pip install jiwer"
      ],
      "metadata": {
        "id": "usq8GBceAWAD"
      },
      "execution_count": null,
      "outputs": []
    },
    {
      "cell_type": "code",
      "source": [
        "from transformers import Wav2Vec2CTCTokenizer\n",
        "from transformers import Wav2Vec2FeatureExtractor\n",
        "from transformers import Wav2Vec2Processor\n",
        "from transformers import Wav2Vec2ForCTC\n",
        "from transformers import TrainingArguments\n",
        "from transformers import Trainer\n"
      ],
      "metadata": {
        "id": "55AotyqZ5M_c"
      },
      "execution_count": null,
      "outputs": []
    },
    {
      "cell_type": "code",
      "execution_count": null,
      "metadata": {
        "id": "VrA8_HGm6nAj"
      },
      "outputs": [],
      "source": [
        "from ipywidgets import widgets"
      ]
    },
    {
      "cell_type": "code",
      "execution_count": null,
      "metadata": {
        "id": "Y0yRtJFN6nAj"
      },
      "outputs": [],
      "source": [
        "import os"
      ]
    },
    {
      "cell_type": "code",
      "execution_count": null,
      "metadata": {
        "id": "uV8bD6AA6nAj"
      },
      "outputs": [],
      "source": [
        "# # jonatasgrosman/wav2vec2-large-xlsr-53-chinese-zh-cn\n",
        "language_code = 'zh-CN'\n",
        "language_name = 'chinese'\n",
        "# base_model = \"facebook/wav2vec2-large-xlsr-53\"\n",
        "pretrain_model = f\"patrickvonplaten/wav2vec2-large-xlsr-{language_name}-demo\"\n",
        "\n",
        "data_dir = f\"/workspace/data/{language_code}\"\n",
        "output_models_dir = f\"/content/drive/Shareddrives/Hoggy Project/hoggyPro\"\n"
      ]
    },
    {
      "cell_type": "code",
      "source": [
        "from google.colab import drive\n",
        "drive.mount('/content/drive')"
      ],
      "metadata": {
        "colab": {
          "base_uri": "https://localhost:8080/"
        },
        "id": "C6D39ADG4GhS",
        "outputId": "8ee3e9ab-3196-4bd0-ec1d-233984c207d2"
      },
      "execution_count": null,
      "outputs": [
        {
          "output_type": "stream",
          "name": "stdout",
          "text": [
            "Mounted at /content/drive\n"
          ]
        }
      ]
    },
    {
      "cell_type": "code",
      "source": [
        "!mv /models/ /content/drive/MyDrive/model_checkpoints"
      ],
      "metadata": {
        "id": "szOs17qTt_h9",
        "colab": {
          "base_uri": "https://localhost:8080/"
        },
        "outputId": "6839b804-1050-4043-e385-87ff55d4563e"
      },
      "execution_count": null,
      "outputs": [
        {
          "output_type": "stream",
          "name": "stdout",
          "text": [
            "mv: cannot stat '/models/': No such file or directory\n"
          ]
        }
      ]
    },
    {
      "cell_type": "code",
      "source": [
        "from transformers.trainer_utils import get_last_checkpoint\n",
        "checkpoint = get_last_checkpoint(\"/content/drive/MyDrive/model_checkpoints/checkpoint-1600\")"
      ],
      "metadata": {
        "id": "gdlJOWOGGUHV"
      },
      "execution_count": null,
      "outputs": []
    },
    {
      "cell_type": "markdown",
      "metadata": {
        "id": "9KZQLLI66nAk"
      },
      "source": [
        "## Presentation"
      ]
    },
    {
      "cell_type": "code",
      "source": [
        "!gdown --folder https://drive.google.com/drive/folders/1JraFo8ltR6e3TyQqJ-PwUzlaT8ZfVjrL?usp=share_link -O ."
      ],
      "metadata": {
        "id": "5LqXc4tGKBKq",
        "colab": {
          "base_uri": "https://localhost:8080/"
        },
        "outputId": "fe7e688f-a73a-4c6e-a5e8-82c657cc88d0"
      },
      "execution_count": null,
      "outputs": [
        {
          "output_type": "stream",
          "name": "stdout",
          "text": [
            "Retrieving folder list\n",
            "Processing file 1vltdseFMMRZERqi5FG719C1C1ujnxph9 test_df.csv\n",
            "Processing file 10jwnTFVkKAJL47nU35ZdweqXgMMIGTWb train_df.csv\n",
            "Processing file 1glH49rXwX67T1RCiqR1ehFgqwhAt1gjq val_df.csv\n",
            "Retrieving folder list completed\n",
            "Building directory structure\n",
            "Building directory structure completed\n",
            "Downloading...\n",
            "From: https://drive.google.com/uc?id=1vltdseFMMRZERqi5FG719C1C1ujnxph9\n",
            "To: /content/test_df.csv\n",
            "100% 39.8k/39.8k [00:00<00:00, 54.0MB/s]\n",
            "Downloading...\n",
            "From: https://drive.google.com/uc?id=10jwnTFVkKAJL47nU35ZdweqXgMMIGTWb\n",
            "To: /content/train_df.csv\n",
            "100% 159k/159k [00:00<00:00, 115MB/s]\n",
            "Downloading...\n",
            "From: https://drive.google.com/uc?id=1glH49rXwX67T1RCiqR1ehFgqwhAt1gjq\n",
            "To: /content/val_df.csv\n",
            "100% 20.1k/20.1k [00:00<00:00, 71.5MB/s]\n",
            "Download completed\n"
          ]
        }
      ]
    },
    {
      "cell_type": "code",
      "source": [
        "!gdown --id 1Lx6Kxy29Jp5LFtWsszOMUAraTqam2FxG # audio files\n",
        "!gdown --id 1psbZWyPRFJ32g5JpXxcADl7TJDuTh8Wd # transcript"
      ],
      "metadata": {
        "id": "EbWMro3J6z1b",
        "outputId": "508a32c8-d5f4-4ecb-afee-94d82c37839d",
        "colab": {
          "base_uri": "https://localhost:8080/"
        }
      },
      "execution_count": null,
      "outputs": [
        {
          "output_type": "stream",
          "name": "stdout",
          "text": [
            "/usr/local/lib/python3.10/dist-packages/gdown/cli.py:121: FutureWarning: Option `--id` was deprecated in version 4.3.1 and will be removed in 5.0. You don't need to pass it anymore to use a file ID.\n",
            "  warnings.warn(\n",
            "Downloading...\n",
            "From: https://drive.google.com/uc?id=1Lx6Kxy29Jp5LFtWsszOMUAraTqam2FxG\n",
            "To: /content/wav2.zip\n",
            "100% 421M/421M [00:13<00:00, 31.8MB/s]\n",
            "/usr/local/lib/python3.10/dist-packages/gdown/cli.py:121: FutureWarning: Option `--id` was deprecated in version 4.3.1 and will be removed in 5.0. You don't need to pass it anymore to use a file ID.\n",
            "  warnings.warn(\n",
            "Downloading...\n",
            "From: https://drive.google.com/uc?id=1psbZWyPRFJ32g5JpXxcADl7TJDuTh8Wd\n",
            "To: /content/non-native-path.csv\n",
            "100% 220k/220k [00:00<00:00, 188MB/s]\n"
          ]
        }
      ]
    },
    {
      "cell_type": "code",
      "source": [
        "!unzip \"wav2\""
      ],
      "metadata": {
        "id": "_AaFYNKy609l"
      },
      "execution_count": null,
      "outputs": []
    },
    {
      "cell_type": "code",
      "source": [
        "!unzip non-native.zip"
      ],
      "metadata": {
        "colab": {
          "base_uri": "https://localhost:8080/"
        },
        "id": "xOODpKTUjzSA",
        "outputId": "41472962-22a0-4341-f3bb-5f86ce9d5d0e"
      },
      "execution_count": null,
      "outputs": [
        {
          "output_type": "stream",
          "name": "stdout",
          "text": [
            "unzip:  cannot find or open non-native.zip, non-native.zip.zip or non-native.zip.ZIP.\n"
          ]
        }
      ]
    },
    {
      "cell_type": "code",
      "source": [
        "!mv wav2 wav"
      ],
      "metadata": {
        "id": "DD-JvEPz76aG"
      },
      "execution_count": null,
      "outputs": []
    },
    {
      "cell_type": "code",
      "execution_count": null,
      "metadata": {
        "colab": {
          "base_uri": "https://localhost:8080/",
          "height": 238,
          "referenced_widgets": [
            "2557d97ae457498196669a1d09ac26ce",
            "2ffae7ecac974df09bd3c5f2ec058a2b",
            "d4b1060c88624c59921527ba514f8468",
            "fc26378f21104b748044ac93055fb076",
            "79133e03c80f4716a9a8b418362c09bb",
            "293189f639724f499600c4eb8702ac11",
            "0314dbf6fe7c4a8f97ef73f62386d887",
            "9052e075997d488fbc6dbb2baf7982c5",
            "1f6f1a1d1ff54f8987b46da1a15aa06d",
            "51b7578652174350a2b082d31c1c9a90",
            "09b6c2fef1e54c72912189cd56a00b5b",
            "a263d51594024f39b9c8ee25bac2731e",
            "c7c9b7994fbe44f78ed7880db286df26",
            "0a5bb3c4a5274c2f9325d79202517931",
            "cc333c85253d4415a1bed2b6a48b2287",
            "da1033b7a0994fa9a9cabe8268f8ebbe",
            "7db192b9820944508899f85e5388ffe7",
            "6c898712b23c4d69886ff57e7cdfc82f",
            "147399e0f52747d6b698f34dcb4c8522",
            "2341e0af819344c7bbaeac60c3aad1c5",
            "0b73fb1364504781969392308d20c79e",
            "bfbfd28e7ea043eb91b7ca93414a5e09",
            "a2811e2c1a2147e1975a0fc85acb808f",
            "9d4866c596c74be3938d10812e6dab4b",
            "a335f6a828324bdaac099553a638a6a6",
            "a72a3c3663c0470789fe77e234c0c8a9",
            "c643d74928e04502913110ed7aba34cd",
            "b02204bc461c4a4b91b2c82568d41cd4",
            "b8a1c067ad4b42fc8020c079933cf2c0",
            "7d1ba9f78b7340609ad96a78fc4a2806",
            "9b344a16790b48f6a8f6bd4d789b4229",
            "9fb8a261e2e548ff964f6bef789b9f5b",
            "a21589a3f516431a9c350b2c1b23af36",
            "894fa485bd8a40f58f97b9ce1a898ef1",
            "282487a4729845fa967099ced06b0b2f",
            "b3b5d6b6d7f44c93a433cb9a341e996a",
            "0d98c77a52974f2ca81d058cfd4a0f42",
            "a5d5aeb9e1db4ed9b905fed28074a0e8",
            "0e45dc8811d047ffa50199d57790d99b",
            "b09909493f7b44e1b8705ee0bd27d12b",
            "3f188bf285be4cc1b9188219077e15ed",
            "34ef2497e4044fa3bd14f840f94e54c3",
            "2feaa502b4d04db192d027067b7d076f",
            "59f80afc237249d69b1eb4e7f689ec89",
            "a54cc973d7ae40debfdb2bfd091c63d5",
            "fb57c6eabef64a3daff6ffcba2d66a32",
            "8ea507dd766e48e5842ed219b249920d",
            "65c705ff3b8247e9a6fdc092e36f1a6b",
            "e64b94f1fb064bd284cbb1b0ec8ea7c4",
            "afb5b98510104b20afc6a616713a55fe",
            "5c520fe134374612856ae9f9ed4a73da",
            "a7f19e377d934ae594bd62f97116b919",
            "12bf7e868a7740a9923f4a89e692de97",
            "77bb622c817645538c00219053da780e",
            "1a015019e43049a49a708d96b8475749",
            "5ac0fa651cb64fde82a2e37a18206360",
            "e47adfdf04194d40b2d826f805402f92",
            "aa27604eda3f43d39c5216efd035b803",
            "ce9206ce0c31478faa91cb0f7bcf4cd8",
            "ac633120509a436f9add1f1734ff44bc",
            "25ee526f43b34c19a899760839552fc2",
            "351794b2f3e34ff1ae45b3836bae2402",
            "5b31c0bc5c99447591d122ca1980a347",
            "506ad1dbb7de441588851e47bffeee55",
            "93fa1357b7ad4fd19683158e15c0ffc1",
            "19a6429f8b874af9b702a6981d9471a6"
          ]
        },
        "id": "2MMXcWFFgCXU",
        "outputId": "9d09536d-9b16-45e4-cca9-c24dfd44d0c4"
      },
      "outputs": [
        {
          "output_type": "stream",
          "name": "stdout",
          "text": [
            "Downloading and preparing dataset csv/default to /root/.cache/huggingface/datasets/csv/default-b3307c3334dfc3f3/0.0.0/6954658bab30a358235fa864b05cf819af0e179325c740e4bc853bcc7ec513e1...\n"
          ]
        },
        {
          "output_type": "display_data",
          "data": {
            "text/plain": [
              "Downloading data files:   0%|          | 0/1 [00:00<?, ?it/s]"
            ],
            "application/vnd.jupyter.widget-view+json": {
              "version_major": 2,
              "version_minor": 0,
              "model_id": "2557d97ae457498196669a1d09ac26ce"
            }
          },
          "metadata": {}
        },
        {
          "output_type": "display_data",
          "data": {
            "text/plain": [
              "Extracting data files:   0%|          | 0/1 [00:00<?, ?it/s]"
            ],
            "application/vnd.jupyter.widget-view+json": {
              "version_major": 2,
              "version_minor": 0,
              "model_id": "a263d51594024f39b9c8ee25bac2731e"
            }
          },
          "metadata": {}
        },
        {
          "output_type": "display_data",
          "data": {
            "text/plain": [
              "Generating train split: 0 examples [00:00, ? examples/s]"
            ],
            "application/vnd.jupyter.widget-view+json": {
              "version_major": 2,
              "version_minor": 0,
              "model_id": "a2811e2c1a2147e1975a0fc85acb808f"
            }
          },
          "metadata": {}
        },
        {
          "output_type": "stream",
          "name": "stdout",
          "text": [
            "Dataset csv downloaded and prepared to /root/.cache/huggingface/datasets/csv/default-b3307c3334dfc3f3/0.0.0/6954658bab30a358235fa864b05cf819af0e179325c740e4bc853bcc7ec513e1. Subsequent calls will reuse this data.\n",
            "Downloading and preparing dataset csv/default to /root/.cache/huggingface/datasets/csv/default-3987ef410cab3672/0.0.0/6954658bab30a358235fa864b05cf819af0e179325c740e4bc853bcc7ec513e1...\n"
          ]
        },
        {
          "output_type": "display_data",
          "data": {
            "text/plain": [
              "Downloading data files:   0%|          | 0/1 [00:00<?, ?it/s]"
            ],
            "application/vnd.jupyter.widget-view+json": {
              "version_major": 2,
              "version_minor": 0,
              "model_id": "894fa485bd8a40f58f97b9ce1a898ef1"
            }
          },
          "metadata": {}
        },
        {
          "output_type": "display_data",
          "data": {
            "text/plain": [
              "Extracting data files:   0%|          | 0/1 [00:00<?, ?it/s]"
            ],
            "application/vnd.jupyter.widget-view+json": {
              "version_major": 2,
              "version_minor": 0,
              "model_id": "a54cc973d7ae40debfdb2bfd091c63d5"
            }
          },
          "metadata": {}
        },
        {
          "output_type": "display_data",
          "data": {
            "text/plain": [
              "Generating train split: 0 examples [00:00, ? examples/s]"
            ],
            "application/vnd.jupyter.widget-view+json": {
              "version_major": 2,
              "version_minor": 0,
              "model_id": "5ac0fa651cb64fde82a2e37a18206360"
            }
          },
          "metadata": {}
        },
        {
          "output_type": "stream",
          "name": "stdout",
          "text": [
            "Dataset csv downloaded and prepared to /root/.cache/huggingface/datasets/csv/default-3987ef410cab3672/0.0.0/6954658bab30a358235fa864b05cf819af0e179325c740e4bc853bcc7ec513e1. Subsequent calls will reuse this data.\n"
          ]
        }
      ],
      "source": [
        "from datasets import load_dataset, load_metric\n",
        "\n",
        "common_voice_train = load_dataset(\"csv\", data_files=['/content/train_df.csv'], split='train' )\n",
        "common_voice_test = load_dataset(\"csv\", data_files=['/content/val_df.csv'], split='train' )"
      ]
    },
    {
      "cell_type": "code",
      "source": [
        "common_voice_train"
      ],
      "metadata": {
        "id": "tSqOrKgY7mZm",
        "outputId": "bbc20438-0210-48c4-941c-91cd7ce148cd",
        "colab": {
          "base_uri": "https://localhost:8080/"
        }
      },
      "execution_count": null,
      "outputs": [
        {
          "output_type": "execute_result",
          "data": {
            "text/plain": [
              "Dataset({\n",
              "    features: ['sentence', 'path'],\n",
              "    num_rows: 2063\n",
              "})"
            ]
          },
          "metadata": {},
          "execution_count": 35
        }
      ]
    },
    {
      "cell_type": "code",
      "source": [
        "len(common_voice_train)"
      ],
      "metadata": {
        "id": "9uGGg-j77nt6",
        "outputId": "aacb0fef-409f-4003-9096-b4924eb8c7d0",
        "colab": {
          "base_uri": "https://localhost:8080/"
        }
      },
      "execution_count": null,
      "outputs": [
        {
          "output_type": "execute_result",
          "data": {
            "text/plain": [
              "2063"
            ]
          },
          "metadata": {},
          "execution_count": 36
        }
      ]
    },
    {
      "cell_type": "code",
      "execution_count": null,
      "metadata": {
        "id": "72737oog2F6U"
      },
      "outputs": [],
      "source": [
        "from datasets import ClassLabel\n",
        "import random\n",
        "import pandas as pd\n",
        "from IPython.display import display, HTML\n",
        "\n",
        "def show_random_elements(dataset, num_examples=10):\n",
        "    assert num_examples <= len(dataset), \"Can't pick more elements than there are in the dataset.\"\n",
        "    picks = []\n",
        "    for _ in range(num_examples):\n",
        "        pick = random.randint(0, len(dataset)-1)\n",
        "        while pick in picks:\n",
        "            pick = random.randint(0, len(dataset)-1)\n",
        "        picks.append(pick)\n",
        "    \n",
        "    df = pd.DataFrame(dataset[picks])\n",
        "    display(HTML(df.to_html()))"
      ]
    },
    {
      "cell_type": "code",
      "execution_count": null,
      "metadata": {
        "colab": {
          "base_uri": "https://localhost:8080/",
          "height": 363
        },
        "id": "K_JUmf3G3b9S",
        "outputId": "9fd5b4d0-63ff-40c4-c381-5019e74370c5"
      },
      "outputs": [
        {
          "output_type": "display_data",
          "data": {
            "text/plain": [
              "<IPython.core.display.HTML object>"
            ],
            "text/html": [
              "<table border=\"1\" class=\"dataframe\">\n",
              "  <thead>\n",
              "    <tr style=\"text-align: right;\">\n",
              "      <th></th>\n",
              "      <th>sentence</th>\n",
              "    </tr>\n",
              "  </thead>\n",
              "  <tbody>\n",
              "    <tr>\n",
              "      <th>0</th>\n",
              "      <td>北平方浇正正的潮楼可比 。</td>\n",
              "    </tr>\n",
              "    <tr>\n",
              "      <th>1</th>\n",
              "      <td>那那道就可以不用这样这样严格的条件吗 ？</td>\n",
              "    </tr>\n",
              "    <tr>\n",
              "      <th>2</th>\n",
              "      <td>一个一个的都有重赏 。</td>\n",
              "    </tr>\n",
              "    <tr>\n",
              "      <th>3</th>\n",
              "      <td>也不能指出新一潮的将来趋势 。</td>\n",
              "    </tr>\n",
              "    <tr>\n",
              "      <th>4</th>\n",
              "      <td>挖心血 ， 收集材料 ， 征求意见 ， 考察情形 ，</td>\n",
              "    </tr>\n",
              "    <tr>\n",
              "      <th>5</th>\n",
              "      <td>故不如做介绍写绍的事业 ， 借“学理研究”的美名 ，</td>\n",
              "    </tr>\n",
              "    <tr>\n",
              "      <th>6</th>\n",
              "      <td>后来有人觉得单用白话做科书不中用的 ，</td>\n",
              "    </tr>\n",
              "    <tr>\n",
              "      <th>7</th>\n",
              "      <td>还是要想收一点鼠际的效果 ，</td>\n",
              "    </tr>\n",
              "    <tr>\n",
              "      <th>8</th>\n",
              "      <td>都有这种危险 。</td>\n",
              "    </tr>\n",
              "    <tr>\n",
              "      <th>9</th>\n",
              "      <td>故不觉得达尔文的议论的重要 。</td>\n",
              "    </tr>\n",
              "  </tbody>\n",
              "</table>"
            ]
          },
          "metadata": {}
        }
      ],
      "source": [
        "show_random_elements(common_voice_train.remove_columns([\"path\"]), num_examples=10)"
      ]
    },
    {
      "cell_type": "code",
      "execution_count": null,
      "metadata": {
        "id": "svKzVJ_hQGK6"
      },
      "outputs": [],
      "source": [
        "import re\n",
        "chars_to_ignore_regex = '[\\,\\?\\.\\!\\-\\;\\:\\\"\\“\\%\\‘\\”\\�]'\n",
        "\n",
        "def remove_special_characters(batch):\n",
        "    batch[\"sentence\"] = re.sub(chars_to_ignore_regex, '', batch[\"sentence\"]).lower() + \" \"\n",
        "    return batch"
      ]
    },
    {
      "cell_type": "code",
      "execution_count": null,
      "metadata": {
        "id": "XIHocAuTQbBR",
        "colab": {
          "base_uri": "https://localhost:8080/",
          "height": 17,
          "referenced_widgets": [
            "813e06ede61d45429fb0fe892c01213b",
            "51a0b20596a648ab8519f42b6a452049",
            "e3db658b1b7d4b289c1a539bf1038c61",
            "1d8a5e2296f84449862742ae4f14c5f1",
            "9cae39840a7c4be9a28aa061da097386",
            "a6907bc344974b5bad3dc4aab4432904",
            "5504e7b1ea484728b8d9b162f5982d6e",
            "bbd937ada1124d43a5edff3cd03f37c0",
            "1553ab373c0b440d9b9fb71039277114",
            "2386f8e6c075494faba7a129012982c8",
            "83d8c24130ca43638a58e14ca7cce647",
            "6bd5c7eec1bf408d9ce63a74f49824ce",
            "667c5dc7bd4c4686861fbad9bbed68ba",
            "ce0b3150a0274d2cb148691686103362",
            "6bd900a9e55942429e193360b0c5833c",
            "ee476d8297574ed8bc8a9a8dbd3e1289",
            "aad1f38a744d416e961555965564f20c",
            "c7bfeb95bb4646eca91930be4fb3eb62",
            "4568bac349714df6bedf350857d05f12",
            "c261660e729447d4acc9b10977cbd151",
            "aca8165dd46b49d6a96004e1f6920bd3",
            "92dbe52ae7fb452aae6afe8c15541d3e"
          ]
        },
        "outputId": "01d881d6-e5c9-4178-e8d9-6aeeaadafabe"
      },
      "outputs": [
        {
          "output_type": "display_data",
          "data": {
            "text/plain": [
              "Map:   0%|          | 0/2063 [00:00<?, ? examples/s]"
            ],
            "application/vnd.jupyter.widget-view+json": {
              "version_major": 2,
              "version_minor": 0,
              "model_id": "813e06ede61d45429fb0fe892c01213b"
            }
          },
          "metadata": {}
        },
        {
          "output_type": "display_data",
          "data": {
            "text/plain": [
              "Map:   0%|          | 0/258 [00:00<?, ? examples/s]"
            ],
            "application/vnd.jupyter.widget-view+json": {
              "version_major": 2,
              "version_minor": 0,
              "model_id": "6bd5c7eec1bf408d9ce63a74f49824ce"
            }
          },
          "metadata": {}
        }
      ],
      "source": [
        "common_voice_train = common_voice_train.map(remove_special_characters)\n",
        "common_voice_test = common_voice_test.map(remove_special_characters)"
      ]
    },
    {
      "cell_type": "code",
      "execution_count": null,
      "metadata": {
        "id": "RBDRAAYxRE6n",
        "colab": {
          "base_uri": "https://localhost:8080/",
          "height": 363
        },
        "outputId": "9023afa6-d9e9-480f-92f3-4dc11ef002f4"
      },
      "outputs": [
        {
          "output_type": "display_data",
          "data": {
            "text/plain": [
              "<IPython.core.display.HTML object>"
            ],
            "text/html": [
              "<table border=\"1\" class=\"dataframe\">\n",
              "  <thead>\n",
              "    <tr style=\"text-align: right;\">\n",
              "      <th></th>\n",
              "      <th>sentence</th>\n",
              "    </tr>\n",
              "  </thead>\n",
              "  <tbody>\n",
              "    <tr>\n",
              "      <th>0</th>\n",
              "      <td>这些人有了钱 ， 有了势 ， 有了名誉 ，</td>\n",
              "    </tr>\n",
              "    <tr>\n",
              "      <th>1</th>\n",
              "      <td>又没有《大英百科全书》可查 ，</td>\n",
              "    </tr>\n",
              "    <tr>\n",
              "      <th>2</th>\n",
              "      <td>不能不依靠一种啊超超自然的势呃势力 。</td>\n",
              "    </tr>\n",
              "    <tr>\n",
              "      <th>3</th>\n",
              "      <td>努力建设人的乐国人世的天堂 ；</td>\n",
              "    </tr>\n",
              "    <tr>\n",
              "      <th>4</th>\n",
              "      <td>在眼前的尽管用怹或别的向远处推 ；</td>\n",
              "    </tr>\n",
              "    <tr>\n",
              "      <th>5</th>\n",
              "      <td>李嫂 。</td>\n",
              "    </tr>\n",
              "    <tr>\n",
              "      <th>6</th>\n",
              "      <td>做一点实际的改良呢 ？</td>\n",
              "    </tr>\n",
              "    <tr>\n",
              "      <th>7</th>\n",
              "      <td>但是我也没有法子可以否认他 。</td>\n",
              "    </tr>\n",
              "    <tr>\n",
              "      <th>8</th>\n",
              "      <td>越在那不可可捉摸的心心性上玩把戏 ，</td>\n",
              "    </tr>\n",
              "    <tr>\n",
              "      <th>9</th>\n",
              "      <td>我起初觉得我是那威国人 。</td>\n",
              "    </tr>\n",
              "  </tbody>\n",
              "</table>"
            ]
          },
          "metadata": {}
        }
      ],
      "source": [
        "show_random_elements(common_voice_train.remove_columns([\"path\"]))"
      ]
    },
    {
      "cell_type": "code",
      "execution_count": null,
      "metadata": {
        "id": "LwCshNbbeRZR"
      },
      "outputs": [],
      "source": [
        "def extract_all_chars(batch):\n",
        "  all_text = \" \".join(batch[\"sentence\"])\n",
        "  vocab = list(set(all_text))\n",
        "  return {\"vocab\": [vocab], \"all_text\": [all_text]}"
      ]
    },
    {
      "cell_type": "code",
      "execution_count": null,
      "metadata": {
        "id": "_m6uUjjcfbjH",
        "colab": {
          "base_uri": "https://localhost:8080/",
          "height": 17,
          "referenced_widgets": [
            "a9cea1d9497f4c3488e8384901bd2e20",
            "4c0841710aa949d0b17965e300144165",
            "efd6fea162cd451486cfbf7c518d0e80",
            "1e55664744d34d1ba1b1ff07b80e7f79",
            "e2dd8e22711a4f5387b6b5ca3db205b2",
            "2cd62b733c8e40648c8329b99cfbc1da",
            "c486092863e84c4b97cab7943ba71c89",
            "5d715fa41d6548b2a6fff38918ac565d",
            "4cb8c94ec74646ed9a222a219ced299a",
            "46d28f2006584fbfa8ac653dbe0f60e3",
            "d0a732ea80c24e1ab646d3b07d92439b",
            "603ee3e9fa774c03a445ec47b13d4c65",
            "97bd4af915c544a5b43fd7415d76cb44",
            "2ffae66fc0d84b5bb67ca7f48ccd347c",
            "5f00c78f4db24774ae4877451399d304",
            "04799393129d469f99c638f615444bcc",
            "c5697fd068e74357902aa88f42f18743",
            "52f069cfeda249c893b1406f09b8365d",
            "355b8198088b45328d2bbdc7af67fbb9",
            "2f14402a150c43d2b93d503a0202d785",
            "df111c894cde44619994fa950f68a89a",
            "8341cd23fe714d25a2e95cee5aa605dc"
          ]
        },
        "outputId": "08609853-b9b9-4e8b-c836-2445e4688e14"
      },
      "outputs": [
        {
          "output_type": "display_data",
          "data": {
            "text/plain": [
              "Map:   0%|          | 0/2063 [00:00<?, ? examples/s]"
            ],
            "application/vnd.jupyter.widget-view+json": {
              "version_major": 2,
              "version_minor": 0,
              "model_id": "a9cea1d9497f4c3488e8384901bd2e20"
            }
          },
          "metadata": {}
        },
        {
          "output_type": "display_data",
          "data": {
            "text/plain": [
              "Map:   0%|          | 0/258 [00:00<?, ? examples/s]"
            ],
            "application/vnd.jupyter.widget-view+json": {
              "version_major": 2,
              "version_minor": 0,
              "model_id": "603ee3e9fa774c03a445ec47b13d4c65"
            }
          },
          "metadata": {}
        }
      ],
      "source": [
        "vocab_train = common_voice_train.map(extract_all_chars, batched=True, batch_size=-1, keep_in_memory=True, remove_columns=common_voice_train.column_names)\n",
        "vocab_test = common_voice_test.map(extract_all_chars, batched=True, batch_size=-1, keep_in_memory=True, remove_columns=common_voice_test.column_names)"
      ]
    },
    {
      "cell_type": "code",
      "execution_count": null,
      "metadata": {
        "id": "aQfneNsmlJI0"
      },
      "outputs": [],
      "source": [
        "vocab_list = list(set(vocab_train[\"vocab\"][0]) | set(vocab_test[\"vocab\"][0]))\n"
      ]
    },
    {
      "cell_type": "code",
      "execution_count": null,
      "metadata": {
        "id": "_0kRndSvqaKk"
      },
      "outputs": [],
      "source": [
        "vocab_dict = {v: k for k, v in enumerate(vocab_list)}\n",
        "vocab_dict"
      ]
    },
    {
      "cell_type": "code",
      "execution_count": null,
      "metadata": {
        "id": "npbIbBoLgaFX"
      },
      "outputs": [],
      "source": [
        "vocab_dict[\"|\"] = vocab_dict[\" \"]\n",
        "del vocab_dict[\" \"]"
      ]
    },
    {
      "cell_type": "code",
      "execution_count": null,
      "metadata": {
        "id": "znF0bNunsjbl",
        "colab": {
          "base_uri": "https://localhost:8080/"
        },
        "outputId": "924c0d75-651a-4edf-d2b6-50a7cc2cefd7"
      },
      "outputs": [
        {
          "output_type": "execute_result",
          "data": {
            "text/plain": [
              "1887"
            ]
          },
          "metadata": {},
          "execution_count": 32
        }
      ],
      "source": [
        "vocab_dict[\"[UNK]\"] = len(vocab_dict)\n",
        "vocab_dict[\"[PAD]\"] = len(vocab_dict)\n",
        "len(vocab_dict)"
      ]
    },
    {
      "cell_type": "code",
      "execution_count": null,
      "metadata": {
        "id": "ehyUoh9vk191"
      },
      "outputs": [],
      "source": [
        "import json\n",
        "with open('vocab.json', 'w') as vocab_file:\n",
        "    json.dump(vocab_dict, vocab_file)"
      ]
    },
    {
      "cell_type": "code",
      "execution_count": null,
      "metadata": {
        "id": "xriFGEWQkO4M"
      },
      "outputs": [],
      "source": [
        "tokenizer = Wav2Vec2CTCTokenizer(\"./vocab.json\", unk_token=\"[UNK]\", pad_token=\"[PAD]\", word_delimiter_token=\"|\")"
      ]
    },
    {
      "cell_type": "markdown",
      "metadata": {
        "id": "mYcIiR2FQ96i"
      },
      "source": [
        "### Create XLSR-Wav2Vec2 Feature Extractor"
      ]
    },
    {
      "cell_type": "code",
      "execution_count": null,
      "metadata": {
        "id": "kAR0-2KLkopp"
      },
      "outputs": [],
      "source": [
        "\n",
        "feature_extractor = Wav2Vec2FeatureExtractor(feature_size=1, sampling_rate=16000, padding_value=0.0, do_normalize=True, return_attention_mask=True)"
      ]
    },
    {
      "cell_type": "code",
      "execution_count": null,
      "metadata": {
        "id": "KYZtoW-tlZgl"
      },
      "outputs": [],
      "source": [
        "\n",
        "processor = Wav2Vec2Processor(feature_extractor=feature_extractor, tokenizer=tokenizer)"
      ]
    },
    {
      "cell_type": "code",
      "execution_count": null,
      "metadata": {
        "id": "Par9rpypPsml"
      },
      "outputs": [],
      "source": [
        "processor.save_pretrained(\"jonatasgrosman/wav2vec2-large-xlsr-53-chinese-zh-cn\")"
      ]
    },
    {
      "cell_type": "code",
      "execution_count": null,
      "metadata": {
        "id": "TTCS7W6XJ9BG",
        "colab": {
          "base_uri": "https://localhost:8080/"
        },
        "outputId": "0faeceb2-fb10-48a3-e2e9-a369d34d99b6"
      },
      "outputs": [
        {
          "output_type": "execute_result",
          "data": {
            "text/plain": [
              "{'sentence': '明明是不可救药的大病 ， 我们偏说—点病都没有 ', 'path': '/content/wav/000120428.WAV'}"
            ]
          },
          "metadata": {},
          "execution_count": 51
        }
      ],
      "source": [
        "common_voice_train[0]"
      ]
    },
    {
      "cell_type": "code",
      "execution_count": null,
      "metadata": {
        "id": "al9Luo4LPpwJ"
      },
      "outputs": [],
      "source": [
        "import torchaudio\n",
        "\n",
        "def speech_file_to_array_fn(batch):\n",
        "    speech_array, sampling_rate = torchaudio.load(batch[\"path\"])\n",
        "    batch[\"speech\"] = speech_array[0].numpy()\n",
        "    batch[\"sampling_rate\"] = sampling_rate\n",
        "    batch[\"target_text\"] = batch[\"sentence\"]\n",
        "    return batch"
      ]
    },
    {
      "cell_type": "code",
      "execution_count": null,
      "metadata": {
        "id": "afeicUeWlrRL",
        "colab": {
          "base_uri": "https://localhost:8080/",
          "height": 17,
          "referenced_widgets": [
            "f65ee58e8dff44ada0b010c202f62e96",
            "88c1aeba134e4c2db0425f866b852531",
            "07fd3b7d99b9405cb92cb6f10f222a35",
            "83806df98ffb42efb066bb89a9c19994",
            "d865f0707cbf4cf88d9a07a8d8f4d07c",
            "c348f16ecf154651b50f318ad5c6c6b7",
            "66d512a0f47041d3bb2d8384ec0d1fa6",
            "22c265648f434ac89c8586680089937d",
            "6f20fef8613a4a8497e4ff22151b9191",
            "388e835af2e244c9addc12ca76aa7336",
            "84fd8f70039045148a861dc6f14de704"
          ]
        },
        "outputId": "b58b8a50-590a-4ce9-8a6e-f491f6b97878"
      },
      "outputs": [
        {
          "output_type": "display_data",
          "data": {
            "text/plain": [
              "Map:   0%|          | 0/2063 [00:00<?, ? examples/s]"
            ],
            "application/vnd.jupyter.widget-view+json": {
              "version_major": 2,
              "version_minor": 0,
              "model_id": "f65ee58e8dff44ada0b010c202f62e96"
            }
          },
          "metadata": {}
        }
      ],
      "source": [
        "common_voice_train = common_voice_train.map(speech_file_to_array_fn, remove_columns=common_voice_train.column_names)"
      ]
    },
    {
      "cell_type": "code",
      "source": [
        "common_voice_test = common_voice_test.map(speech_file_to_array_fn, remove_columns=common_voice_test.column_names)"
      ],
      "metadata": {
        "id": "sYqN_sLTMYrh",
        "outputId": "6556c0ec-e9bd-4837-a826-cee3608741dc",
        "colab": {
          "base_uri": "https://localhost:8080/",
          "height": 17,
          "referenced_widgets": [
            "4d2441f0395e483b9e70dfd8c56516a6",
            "184d22853574458dab3ccc8e408fc37b",
            "4bec7a91808e4236945055f00fa3b0e7",
            "3c42896731684299baa95ee00e29d2d4",
            "7caaef7a51f84b41bb120ff5be4ae69a",
            "7bea814b4c914a78aba9dca587ce953e",
            "e37b206a245641c0b697e7cff137e092",
            "8d50190874264e62b323c77b2c1678bd",
            "d6f8eb10a76c4885a07542be88fd1b2b",
            "e9fe3c1ae19a405db8f8ec14ae5cf58d",
            "7ee7c0ffd8184991be26817fcee8c0bf"
          ]
        }
      },
      "execution_count": null,
      "outputs": [
        {
          "output_type": "display_data",
          "data": {
            "text/plain": [
              "Map:   0%|          | 0/258 [00:00<?, ? examples/s]"
            ],
            "application/vnd.jupyter.widget-view+json": {
              "version_major": 2,
              "version_minor": 0,
              "model_id": "4d2441f0395e483b9e70dfd8c56516a6"
            }
          },
          "metadata": {}
        }
      ]
    },
    {
      "cell_type": "code",
      "source": [
        "!pip install librosa"
      ],
      "metadata": {
        "id": "OQEy1vbj2ldJ",
        "colab": {
          "base_uri": "https://localhost:8080/"
        },
        "outputId": "72d49090-cbcd-4803-b0a4-c14dda1efc35"
      },
      "execution_count": null,
      "outputs": [
        {
          "output_type": "stream",
          "name": "stdout",
          "text": [
            "Looking in indexes: https://pypi.org/simple, https://us-python.pkg.dev/colab-wheels/public/simple/\n",
            "Requirement already satisfied: librosa in /usr/local/lib/python3.10/dist-packages (0.10.0.post2)\n",
            "Requirement already satisfied: audioread>=2.1.9 in /usr/local/lib/python3.10/dist-packages (from librosa) (3.0.0)\n",
            "Requirement already satisfied: numpy!=1.22.0,!=1.22.1,!=1.22.2,>=1.20.3 in /usr/local/lib/python3.10/dist-packages (from librosa) (1.22.4)\n",
            "Requirement already satisfied: scipy>=1.2.0 in /usr/local/lib/python3.10/dist-packages (from librosa) (1.10.1)\n",
            "Requirement already satisfied: scikit-learn>=0.20.0 in /usr/local/lib/python3.10/dist-packages (from librosa) (1.2.2)\n",
            "Requirement already satisfied: joblib>=0.14 in /usr/local/lib/python3.10/dist-packages (from librosa) (1.2.0)\n",
            "Requirement already satisfied: decorator>=4.3.0 in /usr/local/lib/python3.10/dist-packages (from librosa) (4.4.2)\n",
            "Requirement already satisfied: numba>=0.51.0 in /usr/local/lib/python3.10/dist-packages (from librosa) (0.56.4)\n",
            "Requirement already satisfied: soundfile>=0.12.1 in /usr/local/lib/python3.10/dist-packages (from librosa) (0.12.1)\n",
            "Requirement already satisfied: pooch<1.7,>=1.0 in /usr/local/lib/python3.10/dist-packages (from librosa) (1.6.0)\n",
            "Requirement already satisfied: soxr>=0.3.2 in /usr/local/lib/python3.10/dist-packages (from librosa) (0.3.5)\n",
            "Requirement already satisfied: typing-extensions>=4.1.1 in /usr/local/lib/python3.10/dist-packages (from librosa) (4.5.0)\n",
            "Requirement already satisfied: lazy-loader>=0.1 in /usr/local/lib/python3.10/dist-packages (from librosa) (0.2)\n",
            "Requirement already satisfied: msgpack>=1.0 in /usr/local/lib/python3.10/dist-packages (from librosa) (1.0.5)\n",
            "Requirement already satisfied: llvmlite<0.40,>=0.39.0dev0 in /usr/local/lib/python3.10/dist-packages (from numba>=0.51.0->librosa) (0.39.1)\n",
            "Requirement already satisfied: setuptools in /usr/local/lib/python3.10/dist-packages (from numba>=0.51.0->librosa) (67.7.2)\n",
            "Requirement already satisfied: appdirs>=1.3.0 in /usr/local/lib/python3.10/dist-packages (from pooch<1.7,>=1.0->librosa) (1.4.4)\n",
            "Requirement already satisfied: packaging>=20.0 in /usr/local/lib/python3.10/dist-packages (from pooch<1.7,>=1.0->librosa) (23.1)\n",
            "Requirement already satisfied: requests>=2.19.0 in /usr/local/lib/python3.10/dist-packages (from pooch<1.7,>=1.0->librosa) (2.27.1)\n",
            "Requirement already satisfied: threadpoolctl>=2.0.0 in /usr/local/lib/python3.10/dist-packages (from scikit-learn>=0.20.0->librosa) (3.1.0)\n",
            "Requirement already satisfied: cffi>=1.0 in /usr/local/lib/python3.10/dist-packages (from soundfile>=0.12.1->librosa) (1.15.1)\n",
            "Requirement already satisfied: pycparser in /usr/local/lib/python3.10/dist-packages (from cffi>=1.0->soundfile>=0.12.1->librosa) (2.21)\n",
            "Requirement already satisfied: urllib3<1.27,>=1.21.1 in /usr/local/lib/python3.10/dist-packages (from requests>=2.19.0->pooch<1.7,>=1.0->librosa) (1.26.15)\n",
            "Requirement already satisfied: certifi>=2017.4.17 in /usr/local/lib/python3.10/dist-packages (from requests>=2.19.0->pooch<1.7,>=1.0->librosa) (2022.12.7)\n",
            "Requirement already satisfied: charset-normalizer~=2.0.0 in /usr/local/lib/python3.10/dist-packages (from requests>=2.19.0->pooch<1.7,>=1.0->librosa) (2.0.12)\n",
            "Requirement already satisfied: idna<4,>=2.5 in /usr/local/lib/python3.10/dist-packages (from requests>=2.19.0->pooch<1.7,>=1.0->librosa) (3.4)\n"
          ]
        }
      ]
    },
    {
      "cell_type": "code",
      "execution_count": null,
      "metadata": {
        "id": "dueM6U7Ev0OA",
        "colab": {
          "base_uri": "https://localhost:8080/",
          "height": 93
        },
        "outputId": "7f7dc609-41f7-479e-cc40-48a6a3c06995"
      },
      "outputs": [
        {
          "output_type": "stream",
          "name": "stdout",
          "text": [
            "以上所说 ， 泛论问题与主义 ， \n"
          ]
        },
        {
          "output_type": "execute_result",
          "data": {
            "text/plain": [
              "<IPython.lib.display.Audio object>"
            ],
            "text/html": [
              "\n",
              "                <audio  controls=\"controls\" autoplay=\"autoplay\">\n",
              "                    <source src=\"data:audio/wav;base64,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\" type=\"audio/wav\" />\n",
              "                    Your browser does not support the audio element.\n",
              "                </audio>\n",
              "              "
            ]
          },
          "metadata": {},
          "execution_count": 56
        }
      ],
      "source": [
        "import IPython.display as ipd\n",
        "import numpy as np\n",
        "import random\n",
        "\n",
        "rand_int = random.randint(0, len(common_voice_train)-1)\n",
        "print(common_voice_train[rand_int][\"target_text\"])\n",
        "ipd.Audio(data=np.asarray(common_voice_train[rand_int][\"speech\"]), autoplay=True, rate=16000)"
      ]
    },
    {
      "cell_type": "code",
      "execution_count": null,
      "metadata": {
        "id": "1Po2g7YPuRTx",
        "colab": {
          "base_uri": "https://localhost:8080/"
        },
        "outputId": "48083988-1431-49d4-baa2-70dc01b177f8"
      },
      "outputs": [
        {
          "output_type": "stream",
          "name": "stdout",
          "text": [
            "Target text: 一个一个的重新推崇起来 ， 替他们修墓 ， \n",
            "Input array shape: (144560,)\n",
            "Sampling rate: 16000\n"
          ]
        }
      ],
      "source": [
        "rand_int = random.randint(0, len(common_voice_train)-1)\n",
        "\n",
        "print(\"Target text:\", common_voice_train[rand_int][\"target_text\"])\n",
        "print(\"Input array shape:\", np.asarray(common_voice_train[rand_int][\"speech\"]).shape)\n",
        "print(\"Sampling rate:\", common_voice_train[rand_int][\"sampling_rate\"])"
      ]
    },
    {
      "cell_type": "code",
      "execution_count": null,
      "metadata": {
        "id": "eJY7I0XAwe9p"
      },
      "outputs": [],
      "source": [
        "def prepare_dataset(batch):\n",
        "    # check that all files have the correct sampling rate\n",
        "    assert (\n",
        "        len(set(batch[\"sampling_rate\"])) == 1\n",
        "    ), f\"Make sure all inputs have the same sampling rate of {processor.feature_extractor.sampling_rate}.\"\n",
        "\n",
        "    batch[\"input_values\"] = processor(batch[\"speech\"], sampling_rate=batch[\"sampling_rate\"][0]).input_values\n",
        "    \n",
        "    with processor.as_target_processor():\n",
        "        batch[\"labels\"] = processor(batch[\"target_text\"]).input_ids\n",
        "    return batch"
      ]
    },
    {
      "cell_type": "code",
      "execution_count": null,
      "metadata": {
        "id": "-np9xYK-wl8q",
        "colab": {
          "base_uri": "https://localhost:8080/",
          "height": 621,
          "referenced_widgets": [
            "57084e6e1d014121be524e0c4c3becf8",
            "c095c0fb90ee4754a34c73784306bbdc",
            "77f91b7d2b0d489a92f4e86ee906c881",
            "fc84ca2f6046485e9c4b4ef1eb084c03",
            "be836204a2db42d5955a0d3e52a5fcde",
            "a9ee14c17784485094cb01eeb459ad8c",
            "b612bf126e1144079e15d80f82f75d41",
            "4d58d49cfd644631b01e361f663f58ad",
            "6e0a05be655a4794952e68b5ca0ae6e3",
            "340a36a0709d445a9a52b362ff1734e3",
            "ea7f5e5f4052480681aa14d29bf6ce6e",
            "e78b6bf36c6c4745b0d04a450af72197",
            "82bb521e6a374db1910b46679ddc11b3",
            "ce168953e24f4e339c2f93a01fa6a3f5",
            "4afc30941dbe4f26844c45972d89af36",
            "3839739fe15d4e87bbd05642761d1ae0",
            "dc5a6790ba4f407b8e51ea6ef71e397e",
            "72a0a5c493b449adaf4a29a89ccd23d6",
            "8d576b4e63bc4da49b8298d1ac84addc",
            "827cc496b9c742aab59539bbd4547bb9",
            "12b5577b93e541a587f2f2eb2a9a64f7",
            "924cba9d394e4b0a9bccffad33f14156"
          ]
        },
        "outputId": "7adb20b0-9bbf-41fe-a6f7-20003aaff59f"
      },
      "outputs": [
        {
          "output_type": "display_data",
          "data": {
            "text/plain": [
              "Map (num_proc=4):   0%|          | 0/2063 [00:00<?, ? examples/s]"
            ],
            "application/vnd.jupyter.widget-view+json": {
              "version_major": 2,
              "version_minor": 0,
              "model_id": "57084e6e1d014121be524e0c4c3becf8"
            }
          },
          "metadata": {}
        },
        {
          "output_type": "stream",
          "name": "stderr",
          "text": [
            "/usr/local/lib/python3.10/dist-packages/transformers/feature_extraction_utils.py:166: VisibleDeprecationWarning: Creating an ndarray from ragged nested sequences (which is a list-or-tuple of lists-or-tuples-or ndarrays with different lengths or shapes) is deprecated. If you meant to do this, you must specify 'dtype=object' when creating the ndarray.\n",
            "  tensor = as_tensor(value)\n",
            "/usr/local/lib/python3.10/dist-packages/transformers/feature_extraction_utils.py:166: VisibleDeprecationWarning: Creating an ndarray from ragged nested sequences (which is a list-or-tuple of lists-or-tuples-or ndarrays with different lengths or shapes) is deprecated. If you meant to do this, you must specify 'dtype=object' when creating the ndarray.\n",
            "  tensor = as_tensor(value)\n",
            "/usr/local/lib/python3.10/dist-packages/transformers/feature_extraction_utils.py:166: VisibleDeprecationWarning: Creating an ndarray from ragged nested sequences (which is a list-or-tuple of lists-or-tuples-or ndarrays with different lengths or shapes) is deprecated. If you meant to do this, you must specify 'dtype=object' when creating the ndarray.\n",
            "  tensor = as_tensor(value)\n",
            "/usr/local/lib/python3.10/dist-packages/transformers/models/wav2vec2/processing_wav2vec2.py:155: UserWarning: `as_target_processor` is deprecated and will be removed in v5 of Transformers. You can process your labels by using the argument `text` of the regular `__call__` method (either in the same call as your audio inputs, or in a separate call.\n",
            "  warnings.warn(\n",
            "/usr/local/lib/python3.10/dist-packages/transformers/models/wav2vec2/processing_wav2vec2.py:155: UserWarning: `as_target_processor` is deprecated and will be removed in v5 of Transformers. You can process your labels by using the argument `text` of the regular `__call__` method (either in the same call as your audio inputs, or in a separate call.\n",
            "  warnings.warn(\n",
            "/usr/local/lib/python3.10/dist-packages/transformers/models/wav2vec2/processing_wav2vec2.py:155: UserWarning: `as_target_processor` is deprecated and will be removed in v5 of Transformers. You can process your labels by using the argument `text` of the regular `__call__` method (either in the same call as your audio inputs, or in a separate call.\n",
            "  warnings.warn(\n",
            "/usr/local/lib/python3.10/dist-packages/transformers/feature_extraction_utils.py:166: VisibleDeprecationWarning: Creating an ndarray from ragged nested sequences (which is a list-or-tuple of lists-or-tuples-or ndarrays with different lengths or shapes) is deprecated. If you meant to do this, you must specify 'dtype=object' when creating the ndarray.\n",
            "  tensor = as_tensor(value)\n",
            "/usr/local/lib/python3.10/dist-packages/transformers/models/wav2vec2/processing_wav2vec2.py:155: UserWarning: `as_target_processor` is deprecated and will be removed in v5 of Transformers. You can process your labels by using the argument `text` of the regular `__call__` method (either in the same call as your audio inputs, or in a separate call.\n",
            "  warnings.warn(\n"
          ]
        },
        {
          "output_type": "display_data",
          "data": {
            "text/plain": [
              "Map (num_proc=4):   0%|          | 0/258 [00:00<?, ? examples/s]"
            ],
            "application/vnd.jupyter.widget-view+json": {
              "version_major": 2,
              "version_minor": 0,
              "model_id": "e78b6bf36c6c4745b0d04a450af72197"
            }
          },
          "metadata": {}
        },
        {
          "output_type": "stream",
          "name": "stderr",
          "text": [
            "/usr/local/lib/python3.10/dist-packages/transformers/feature_extraction_utils.py:166: VisibleDeprecationWarning: Creating an ndarray from ragged nested sequences (which is a list-or-tuple of lists-or-tuples-or ndarrays with different lengths or shapes) is deprecated. If you meant to do this, you must specify 'dtype=object' when creating the ndarray.\n",
            "  tensor = as_tensor(value)\n",
            "/usr/local/lib/python3.10/dist-packages/transformers/models/wav2vec2/processing_wav2vec2.py:155: UserWarning: `as_target_processor` is deprecated and will be removed in v5 of Transformers. You can process your labels by using the argument `text` of the regular `__call__` method (either in the same call as your audio inputs, or in a separate call.\n",
            "  warnings.warn(\n",
            "/usr/local/lib/python3.10/dist-packages/transformers/feature_extraction_utils.py:166: VisibleDeprecationWarning: Creating an ndarray from ragged nested sequences (which is a list-or-tuple of lists-or-tuples-or ndarrays with different lengths or shapes) is deprecated. If you meant to do this, you must specify 'dtype=object' when creating the ndarray.\n",
            "  tensor = as_tensor(value)\n",
            "/usr/local/lib/python3.10/dist-packages/transformers/models/wav2vec2/processing_wav2vec2.py:155: UserWarning: `as_target_processor` is deprecated and will be removed in v5 of Transformers. You can process your labels by using the argument `text` of the regular `__call__` method (either in the same call as your audio inputs, or in a separate call.\n",
            "  warnings.warn(\n",
            "/usr/local/lib/python3.10/dist-packages/transformers/feature_extraction_utils.py:166: VisibleDeprecationWarning: Creating an ndarray from ragged nested sequences (which is a list-or-tuple of lists-or-tuples-or ndarrays with different lengths or shapes) is deprecated. If you meant to do this, you must specify 'dtype=object' when creating the ndarray.\n",
            "  tensor = as_tensor(value)\n",
            "/usr/local/lib/python3.10/dist-packages/transformers/models/wav2vec2/processing_wav2vec2.py:155: UserWarning: `as_target_processor` is deprecated and will be removed in v5 of Transformers. You can process your labels by using the argument `text` of the regular `__call__` method (either in the same call as your audio inputs, or in a separate call.\n",
            "  warnings.warn(\n",
            "/usr/local/lib/python3.10/dist-packages/transformers/feature_extraction_utils.py:166: VisibleDeprecationWarning: Creating an ndarray from ragged nested sequences (which is a list-or-tuple of lists-or-tuples-or ndarrays with different lengths or shapes) is deprecated. If you meant to do this, you must specify 'dtype=object' when creating the ndarray.\n",
            "  tensor = as_tensor(value)\n",
            "/usr/local/lib/python3.10/dist-packages/transformers/models/wav2vec2/processing_wav2vec2.py:155: UserWarning: `as_target_processor` is deprecated and will be removed in v5 of Transformers. You can process your labels by using the argument `text` of the regular `__call__` method (either in the same call as your audio inputs, or in a separate call.\n",
            "  warnings.warn(\n"
          ]
        }
      ],
      "source": [
        "common_voice_train = common_voice_train.map(prepare_dataset, remove_columns=common_voice_train.column_names, batch_size=8, num_proc=4, batched=True)\n",
        "common_voice_test = common_voice_test.map(prepare_dataset, remove_columns=common_voice_test.column_names, batch_size=8, num_proc=4, batched=True)"
      ]
    },
    {
      "cell_type": "code",
      "execution_count": null,
      "metadata": {
        "id": "tborvC9hx88e"
      },
      "outputs": [],
      "source": [
        "import torch\n",
        "\n",
        "from dataclasses import dataclass, field\n",
        "from typing import Any, Dict, List, Optional, Union\n",
        "\n",
        "@dataclass\n",
        "class DataCollatorCTCWithPadding:\n",
        "    \"\"\"\n",
        "    Data collator that will dynamically pad the inputs received.\n",
        "    Args:\n",
        "        processor (:class:`~transformers.Wav2Vec2Processor`)\n",
        "            The processor used for proccessing the data.\n",
        "        padding (:obj:`bool`, :obj:`str` or :class:`~transformers.tokenization_utils_base.PaddingStrategy`, `optional`, defaults to :obj:`True`):\n",
        "            Select a strategy to pad the returned sequences (according to the model's padding side and padding index)\n",
        "            among:\n",
        "            * :obj:`True` or :obj:`'longest'`: Pad to the longest sequence in the batch (or no padding if only a single\n",
        "              sequence if provided).\n",
        "            * :obj:`'max_length'`: Pad to a maximum length specified with the argument :obj:`max_length` or to the\n",
        "              maximum acceptable input length for the model if that argument is not provided.\n",
        "            * :obj:`False` or :obj:`'do_not_pad'` (default): No padding (i.e., can output a batch with sequences of\n",
        "              different lengths).\n",
        "        max_length (:obj:`int`, `optional`):\n",
        "            Maximum length of the ``input_values`` of the returned list and optionally padding length (see above).\n",
        "        max_length_labels (:obj:`int`, `optional`):\n",
        "            Maximum length of the ``labels`` returned list and optionally padding length (see above).\n",
        "        pad_to_multiple_of (:obj:`int`, `optional`):\n",
        "            If set will pad the sequence to a multiple of the provided value.\n",
        "            This is especially useful to enable the use of Tensor Cores on NVIDIA hardware with compute capability >=\n",
        "            7.5 (Volta).\n",
        "    \"\"\"\n",
        "\n",
        "    processor: Wav2Vec2Processor\n",
        "    padding: Union[bool, str] = True\n",
        "    max_length: Optional[int] = None\n",
        "    max_length_labels: Optional[int] = None\n",
        "    pad_to_multiple_of: Optional[int] = None\n",
        "    pad_to_multiple_of_labels: Optional[int] = None\n",
        "\n",
        "    def __call__(self, features: List[Dict[str, Union[List[int], torch.Tensor]]]) -> Dict[str, torch.Tensor]:\n",
        "        # split inputs and labels since they have to be of different lenghts and need\n",
        "        # different padding methods\n",
        "        input_features = [{\"input_values\": feature[\"input_values\"]} for feature in features]\n",
        "        label_features = [{\"input_ids\": feature[\"labels\"]} for feature in features]\n",
        "\n",
        "        batch = self.processor.pad(\n",
        "            input_features,\n",
        "            padding=self.padding,\n",
        "            max_length=self.max_length,\n",
        "            pad_to_multiple_of=self.pad_to_multiple_of,\n",
        "            return_tensors=\"pt\",\n",
        "        )\n",
        "        with self.processor.as_target_processor():\n",
        "            labels_batch = self.processor.pad(\n",
        "                label_features,\n",
        "                padding=self.padding,\n",
        "                max_length=self.max_length_labels,\n",
        "                pad_to_multiple_of=self.pad_to_multiple_of_labels,\n",
        "                return_tensors=\"pt\",\n",
        "            )\n",
        "\n",
        "        # replace padding with -100 to ignore loss correctly\n",
        "        labels = labels_batch[\"input_ids\"].masked_fill(labels_batch.attention_mask.ne(1), -100)\n",
        "\n",
        "        batch[\"labels\"] = labels\n",
        "\n",
        "        return batch"
      ]
    },
    {
      "cell_type": "code",
      "execution_count": null,
      "metadata": {
        "id": "lbQf5GuZyQ4_"
      },
      "outputs": [],
      "source": [
        "data_collator = DataCollatorCTCWithPadding(processor=processor, padding=True)"
      ]
    },
    {
      "cell_type": "code",
      "execution_count": null,
      "metadata": {
        "id": "9Xsux2gmyXso",
        "colab": {
          "base_uri": "https://localhost:8080/",
          "referenced_widgets": [
            "29a3da40345b43b9a8ece963ed5d6d1a",
            "ad79b92beb7149ab9db6b0f36bf6a6b7",
            "ebb0ef4300114b1e9a527b68616ffe64",
            "628571f2e73f479eb5ea5206e4778a39",
            "114e138495eb40cca9a4a4531f38882d",
            "3c4e1b66566048d0a89eaeec0685e1ef",
            "81a0c790d52d4c159f03a90265d147f5",
            "566e35a1bf9342b6942ee893f59ccebe",
            "042e4d04c6f242a19ebb50ad4921bfc1",
            "f23c45bdc79042078eae456855cdfe7d",
            "b14de3a769fd493ea216c5b3be5de6a7"
          ]
        },
        "outputId": "1e0017a2-9814-40e6-8c3c-d00be6a59bca"
      },
      "outputs": [
        {
          "output_type": "stream",
          "name": "stderr",
          "text": [
            "<ipython-input-49-605de035dfd7>:1: FutureWarning: load_metric is deprecated and will be removed in the next major version of datasets. Use 'evaluate.load' instead, from the new library 🤗 Evaluate: https://huggingface.co/docs/evaluate\n",
            "  wer_metric = load_metric(\"wer\")\n"
          ]
        },
        {
          "output_type": "display_data",
          "data": {
            "text/plain": [
              "Downloading builder script:   0%|          | 0.00/1.90k [00:00<?, ?B/s]"
            ],
            "application/vnd.jupyter.widget-view+json": {
              "version_major": 2,
              "version_minor": 0,
              "model_id": "29a3da40345b43b9a8ece963ed5d6d1a"
            }
          },
          "metadata": {}
        }
      ],
      "source": [
        "wer_metric = load_metric(\"wer\")"
      ]
    },
    {
      "cell_type": "code",
      "execution_count": null,
      "metadata": {
        "id": "1XZ-kjweyTy_"
      },
      "outputs": [],
      "source": [
        "def compute_metrics(pred):\n",
        "    pred_logits = pred.predictions\n",
        "    pred_ids = np.argmax(pred_logits, axis=-1)\n",
        "\n",
        "    pred.label_ids[pred.label_ids == -100] = processor.tokenizer.pad_token_id\n",
        "\n",
        "    pred_str = processor.batch_decode(pred_ids)\n",
        "    # we do not want to group tokens when computing the metrics\n",
        "    label_str = processor.batch_decode(pred.label_ids, group_tokens=False)\n",
        "\n",
        "    wer = wer_metric.compute(predictions=pred_str, references=label_str)\n",
        "\n",
        "    return {\"wer\": wer}"
      ]
    },
    {
      "cell_type": "code",
      "execution_count": null,
      "metadata": {
        "id": "e7cqAWIayn6w"
      },
      "outputs": [],
      "source": [
        "\n",
        "model = Wav2Vec2ForCTC.from_pretrained(\n",
        "   \"facebook/wav2vec2-large-xlsr-53\", \n",
        "   attention_dropout=0.1,\n",
        "   hidden_dropout=0.1,\n",
        "    feat_proj_dropout=0.0,\n",
        "   mask_time_prob=0.05,\n",
        "   layerdrop=0.1,\n",
        "   gradient_checkpointing=True, \n",
        "   ctc_loss_reduction=\"mean\", \n",
        "   pad_token_id=processor.tokenizer.pad_token_id,\n",
        "   vocab_size=len(processor.tokenizer)\n",
        ")"
      ]
    },
    {
      "cell_type": "code",
      "source": [
        "\n",
        "# model = Wav2Vec2ForCTC.from_pretrained(\n",
        "#     \"/content/drive/Shareddrives/Hoggy Project/hoggyPro/checkpoint-12400\", \n",
        "#     attention_dropout=0.1,\n",
        "#     hidden_dropout=0.1,\n",
        "#     feat_proj_dropout=0.0,\n",
        "#     mask_time_prob=0.05,\n",
        "#     layerdrop=0.1,\n",
        "#     gradient_checkpointing=True, \n",
        "#     ctc_loss_reduction=\"mean\", \n",
        "#     pad_token_id=processor.tokenizer.pad_token_id,\n",
        "#     vocab_size=len(processor.tokenizer)\n",
        "# )"
      ],
      "metadata": {
        "colab": {
          "base_uri": "https://localhost:8080/"
        },
        "id": "_U8Mmhk5Pk-L",
        "outputId": "2ab549a6-0508-4212-f8db-8a77928a346c"
      },
      "execution_count": null,
      "outputs": [
        {
          "output_type": "display_data",
          "data": {
            "text/plain": [
              "\u001b[31m╭─\u001b[0m\u001b[31m──────────────────────────────\u001b[0m\u001b[31m \u001b[0m\u001b[1;31mTraceback \u001b[0m\u001b[1;2;31m(most recent call last)\u001b[0m\u001b[31m \u001b[0m\u001b[31m───────────────────────────────\u001b[0m\u001b[31m─╮\u001b[0m\n",
              "\u001b[31m│\u001b[0m in \u001b[92m<cell line: 1>\u001b[0m:\u001b[94m1\u001b[0m                                                                              \u001b[31m│\u001b[0m\n",
              "\u001b[31m│\u001b[0m                                                                                                  \u001b[31m│\u001b[0m\n",
              "\u001b[31m│\u001b[0m \u001b[2;33m/usr/local/lib/python3.10/dist-packages/transformers/\u001b[0m\u001b[1;33mmodeling_utils.py\u001b[0m:\u001b[94m2611\u001b[0m in \u001b[92mfrom_pretrained\u001b[0m   \u001b[31m│\u001b[0m\n",
              "\u001b[31m│\u001b[0m                                                                                                  \u001b[31m│\u001b[0m\n",
              "\u001b[31m│\u001b[0m   \u001b[2m2608 \u001b[0m\u001b[2m│   │   │   \u001b[0minit_contexts.append(init_empty_weights())                                    \u001b[31m│\u001b[0m\n",
              "\u001b[31m│\u001b[0m   \u001b[2m2609 \u001b[0m\u001b[2m│   │   \u001b[0m                                                                                  \u001b[31m│\u001b[0m\n",
              "\u001b[31m│\u001b[0m   \u001b[2m2610 \u001b[0m\u001b[2m│   │   \u001b[0m\u001b[94mwith\u001b[0m ContextManagers(init_contexts):                                              \u001b[31m│\u001b[0m\n",
              "\u001b[31m│\u001b[0m \u001b[31m❱ \u001b[0m2611 \u001b[2m│   │   │   \u001b[0mmodel = \u001b[96mcls\u001b[0m(config, *model_args, **model_kwargs)                              \u001b[31m│\u001b[0m\n",
              "\u001b[31m│\u001b[0m   \u001b[2m2612 \u001b[0m\u001b[2m│   │   \u001b[0m                                                                                  \u001b[31m│\u001b[0m\n",
              "\u001b[31m│\u001b[0m   \u001b[2m2613 \u001b[0m\u001b[2m│   │   \u001b[0m\u001b[2m# Check first if we are `from_pt`\u001b[0m                                                 \u001b[31m│\u001b[0m\n",
              "\u001b[31m│\u001b[0m   \u001b[2m2614 \u001b[0m\u001b[2m│   │   \u001b[0m\u001b[94mif\u001b[0m use_keep_in_fp32_modules:                                                      \u001b[31m│\u001b[0m\n",
              "\u001b[31m╰──────────────────────────────────────────────────────────────────────────────────────────────────╯\u001b[0m\n",
              "\u001b[1;91mTypeError: \u001b[0m\u001b[1;35mWav2Vec2ForCTC.__init__\u001b[0m\u001b[1m(\u001b[0m\u001b[1m)\u001b[0m got an unexpected keyword argument \u001b[32m'gradient_checkpointing'\u001b[0m\n"
            ],
            "text/html": [
              "<pre style=\"white-space:pre;overflow-x:auto;line-height:normal;font-family:Menlo,'DejaVu Sans Mono',consolas,'Courier New',monospace\"><span style=\"color: #800000; text-decoration-color: #800000\">╭─────────────────────────────── </span><span style=\"color: #800000; text-decoration-color: #800000; font-weight: bold\">Traceback </span><span style=\"color: #bf7f7f; text-decoration-color: #bf7f7f; font-weight: bold\">(most recent call last)</span><span style=\"color: #800000; text-decoration-color: #800000\"> ────────────────────────────────╮</span>\n",
              "<span style=\"color: #800000; text-decoration-color: #800000\">│</span> in <span style=\"color: #00ff00; text-decoration-color: #00ff00\">&lt;cell line: 1&gt;</span>:<span style=\"color: #0000ff; text-decoration-color: #0000ff\">1</span>                                                                              <span style=\"color: #800000; text-decoration-color: #800000\">│</span>\n",
              "<span style=\"color: #800000; text-decoration-color: #800000\">│</span>                                                                                                  <span style=\"color: #800000; text-decoration-color: #800000\">│</span>\n",
              "<span style=\"color: #800000; text-decoration-color: #800000\">│</span> <span style=\"color: #bfbf7f; text-decoration-color: #bfbf7f\">/usr/local/lib/python3.10/dist-packages/transformers/</span><span style=\"color: #808000; text-decoration-color: #808000; font-weight: bold\">modeling_utils.py</span>:<span style=\"color: #0000ff; text-decoration-color: #0000ff\">2611</span> in <span style=\"color: #00ff00; text-decoration-color: #00ff00\">from_pretrained</span>   <span style=\"color: #800000; text-decoration-color: #800000\">│</span>\n",
              "<span style=\"color: #800000; text-decoration-color: #800000\">│</span>                                                                                                  <span style=\"color: #800000; text-decoration-color: #800000\">│</span>\n",
              "<span style=\"color: #800000; text-decoration-color: #800000\">│</span>   <span style=\"color: #7f7f7f; text-decoration-color: #7f7f7f\">2608 │   │   │   </span>init_contexts.append(init_empty_weights())                                    <span style=\"color: #800000; text-decoration-color: #800000\">│</span>\n",
              "<span style=\"color: #800000; text-decoration-color: #800000\">│</span>   <span style=\"color: #7f7f7f; text-decoration-color: #7f7f7f\">2609 │   │   </span>                                                                                  <span style=\"color: #800000; text-decoration-color: #800000\">│</span>\n",
              "<span style=\"color: #800000; text-decoration-color: #800000\">│</span>   <span style=\"color: #7f7f7f; text-decoration-color: #7f7f7f\">2610 │   │   </span><span style=\"color: #0000ff; text-decoration-color: #0000ff\">with</span> ContextManagers(init_contexts):                                              <span style=\"color: #800000; text-decoration-color: #800000\">│</span>\n",
              "<span style=\"color: #800000; text-decoration-color: #800000\">│</span> <span style=\"color: #800000; text-decoration-color: #800000\">❱ </span>2611 <span style=\"color: #7f7f7f; text-decoration-color: #7f7f7f\">│   │   │   </span>model = <span style=\"color: #00ffff; text-decoration-color: #00ffff\">cls</span>(config, *model_args, **model_kwargs)                              <span style=\"color: #800000; text-decoration-color: #800000\">│</span>\n",
              "<span style=\"color: #800000; text-decoration-color: #800000\">│</span>   <span style=\"color: #7f7f7f; text-decoration-color: #7f7f7f\">2612 │   │   </span>                                                                                  <span style=\"color: #800000; text-decoration-color: #800000\">│</span>\n",
              "<span style=\"color: #800000; text-decoration-color: #800000\">│</span>   <span style=\"color: #7f7f7f; text-decoration-color: #7f7f7f\">2613 │   │   # Check first if we are `from_pt`</span>                                                 <span style=\"color: #800000; text-decoration-color: #800000\">│</span>\n",
              "<span style=\"color: #800000; text-decoration-color: #800000\">│</span>   <span style=\"color: #7f7f7f; text-decoration-color: #7f7f7f\">2614 │   │   </span><span style=\"color: #0000ff; text-decoration-color: #0000ff\">if</span> use_keep_in_fp32_modules:                                                      <span style=\"color: #800000; text-decoration-color: #800000\">│</span>\n",
              "<span style=\"color: #800000; text-decoration-color: #800000\">╰──────────────────────────────────────────────────────────────────────────────────────────────────╯</span>\n",
              "<span style=\"color: #ff0000; text-decoration-color: #ff0000; font-weight: bold\">TypeError: </span><span style=\"color: #800080; text-decoration-color: #800080; font-weight: bold\">Wav2Vec2ForCTC.__init__</span><span style=\"font-weight: bold\">()</span> got an unexpected keyword argument <span style=\"color: #008000; text-decoration-color: #008000\">'gradient_checkpointing'</span>\n",
              "</pre>\n"
            ]
          },
          "metadata": {}
        }
      ]
    },
    {
      "cell_type": "code",
      "execution_count": null,
      "metadata": {
        "id": "oGI8zObtZ3V0"
      },
      "outputs": [],
      "source": [
        "model.freeze_feature_extractor()"
      ]
    },
    {
      "cell_type": "code",
      "execution_count": null,
      "metadata": {
        "id": "KbeKSV7uzGPP"
      },
      "outputs": [],
      "source": [
        "\n",
        "training_args = TrainingArguments(\n",
        "  output_dir=output_models_dir,\n",
        "  group_by_length=True,\n",
        "  per_device_train_batch_size=8,\n",
        "  gradient_accumulation_steps=2,\n",
        "  evaluation_strategy=\"steps\",\n",
        "  num_train_epochs=100,\n",
        "  fp16=True,\n",
        "  save_steps=400,\n",
        "  eval_steps=400,\n",
        "  logging_steps=400,\n",
        "  learning_rate=3e-4,\n",
        "  warmup_steps=500,\n",
        "  save_total_limit=2,\n",
        ")"
      ]
    },
    {
      "cell_type": "code",
      "execution_count": null,
      "metadata": {
        "id": "rY7vBmFCPFgC"
      },
      "outputs": [],
      "source": [
        "\n",
        "trainer = Trainer(\n",
        "    model=model,\n",
        "    data_collator=data_collator,\n",
        "    args=training_args,\n",
        "    compute_metrics=compute_metrics,\n",
        "    train_dataset=common_voice_train,\n",
        "    eval_dataset=common_voice_test,\n",
        "    tokenizer=processor.feature_extractor,\n",
        ")"
      ]
    },
    {
      "cell_type": "markdown",
      "metadata": {
        "id": "rpvZHM1xReIW"
      },
      "source": [
        "### Training"
      ]
    },
    {
      "cell_type": "code",
      "source": [
        "trainer.train(resume_from_checkpoint=checkpoint)"
      ],
      "metadata": {
        "id": "aSKwNaZgHH1g"
      },
      "execution_count": null,
      "outputs": []
    },
    {
      "cell_type": "code",
      "source": [
        "!cp /content/vocab.json \"/content/drive/MyDrive/model_checkpoints/checkpoint-1200\"\n",
        "!cp /content/vocab.json \"/content/drive/MyDrive/model_checkpoints/checkpoint-1600\"\n"
      ],
      "metadata": {
        "id": "nG_JgxM1tZoO"
      },
      "execution_count": null,
      "outputs": []
    },
    {
      "cell_type": "code",
      "source": [
        "!cp /content/vocab.json \"/content/drive/Shareddrives/Hoggy Project/hoggyPro/checkpoint-10800\"\n",
        "!cp /content/vocab.json \"/content/drive/Shareddrives/Hoggy Project/hoggyPro/checkpoint-11200\""
      ],
      "metadata": {
        "id": "fRD9t7yklHQF"
      },
      "execution_count": null,
      "outputs": []
    },
    {
      "cell_type": "code",
      "execution_count": null,
      "metadata": {
        "id": "J8E8pxJ9hgZS"
      },
      "outputs": [],
      "source": [
        "model = Wav2Vec2ForCTC.from_pretrained(\"/content/drive/Shareddrives/Hoggy Project/hoggyPro/checkpoint-11200\").to(\"cuda\")\n",
        "processor = Wav2Vec2Processor.from_pretrained(\"/content/drive/Shareddrives/Hoggy Project/hoggyPro/checkpoint-11200\")"
      ]
    },
    {
      "cell_type": "code",
      "source": [
        "import torch"
      ],
      "metadata": {
        "id": "eGvwfKbT6-eD"
      },
      "execution_count": null,
      "outputs": []
    },
    {
      "cell_type": "code",
      "execution_count": null,
      "metadata": {
        "id": "EA6fxk-jiHby"
      },
      "outputs": [],
      "source": [
        "input_dict = processor(common_voice_test[\"input_values\"][1], return_tensors=\"pt\", padding=True, sampling_rate=16_000)\n",
        "\n",
        "logits = model(input_dict.input_values.to(\"cuda\")).logits\n",
        "\n",
        "pred_ids = torch.argmax(logits, dim=-1)[0]"
      ]
    },
    {
      "cell_type": "markdown",
      "metadata": {
        "id": "ApS3MmN4v5P7"
      },
      "source": [
        "Finally, we can decode the example."
      ]
    },
    {
      "cell_type": "code",
      "source": [
        "common_voice_test_ = load_dataset(\"csv\", data_files=['/content/val_df.csv'], split='train')"
      ],
      "metadata": {
        "id": "h8Pvw3La2ybr"
      },
      "execution_count": null,
      "outputs": []
    },
    {
      "cell_type": "code",
      "execution_count": null,
      "metadata": {
        "id": "Phqxa1O1jMDk"
      },
      "outputs": [],
      "source": [
        "print(\"Prediction:\")\n",
        "print(processor.decode(pred_ids))\n",
        "\n",
        "print(\"\\nReference:\")\n",
        "print(common_voice_test_[1]['sentence'].lower())\n"
      ]
    },
    {
      "cell_type": "code",
      "source": [
        "import pandas as pd\n",
        "import re"
      ],
      "metadata": {
        "id": "mBKFX7TzC31k"
      },
      "execution_count": null,
      "outputs": []
    },
    {
      "cell_type": "code",
      "source": [
        "df = pd.read_csv(\"/content/test_df.csv\")"
      ],
      "metadata": {
        "id": "WyQC-Uf9xd53"
      },
      "execution_count": null,
      "outputs": []
    },
    {
      "cell_type": "code",
      "source": [
        "!gdown --id \"1cJrAa3GA0AF258JnCFZWyWa50c3yPmwz\"\n"
      ],
      "metadata": {
        "id": "oFFLyhfOz1dC",
        "colab": {
          "base_uri": "https://localhost:8080/"
        },
        "outputId": "b906efe0-e6fa-445f-9196-aa4432eb55cd"
      },
      "execution_count": null,
      "outputs": [
        {
          "output_type": "stream",
          "name": "stdout",
          "text": [
            "/usr/local/lib/python3.10/dist-packages/gdown/cli.py:121: FutureWarning: Option `--id` was deprecated in version 4.3.1 and will be removed in 5.0. You don't need to pass it anymore to use a file ID.\n",
            "  warnings.warn(\n",
            "Downloading...\n",
            "From: https://drive.google.com/uc?id=1cJrAa3GA0AF258JnCFZWyWa50c3yPmwz\n",
            "To: /content/wav2.zip\n",
            "100% 421M/421M [00:10<00:00, 41.1MB/s]\n"
          ]
        }
      ]
    },
    {
      "cell_type": "code",
      "source": [
        "!unzip \"/content/wav2.zip\""
      ],
      "metadata": {
        "id": "Xa6Rt9tfzw7R"
      },
      "execution_count": null,
      "outputs": []
    },
    {
      "cell_type": "code",
      "source": [
        "df[0:10]"
      ],
      "metadata": {
        "id": "XgRGx5zuyU0K",
        "colab": {
          "base_uri": "https://localhost:8080/",
          "height": 363
        },
        "outputId": "40f7d34e-4959-4f4f-ec1d-69f095a52e7b"
      },
      "execution_count": null,
      "outputs": [
        {
          "output_type": "execute_result",
          "data": {
            "text/plain": [
              "               sentence                        path  labels\n",
              "0               如果你相信这个  /content/wav/000100110.WAV       1\n",
              "1  使我们从实证的方面去解决生物界的根本问题  /content/wav/000100050.WAV       1\n",
              "2        又不是英国的消极自由所谓平等  /content/wav/000120092.WAV       1\n",
              "3                 这就是调和  /content/wav/000120328.WAV       1\n",
              "4    他洋洋得意的据得这种生活狠可以终身了  /content/wav/000110276.WAV       1\n",
              "5      如果那人和那虫的死不是有意注定的  /content/wav/000100112.WAV       1\n",
              "6  只好说我本不爱吃这酸葡萄狐狸吃不着甜葡萄  /content/wav/000110421.WAV       1\n",
              "7         自治的自治的社会共和的国家  /content/wav/000110316.WAV       1\n",
              "8     虽然还有做洋八股有更时髦的党八股的  /content/wav/000130399.WAV       1\n",
              "9           也有亲昵与轻贱两种情调  /content/wav/000120616.WAV       1"
            ],
            "text/html": [
              "\n",
              "  <div id=\"df-10b71ed5-e4b7-4fe0-b274-00e0039aba72\">\n",
              "    <div class=\"colab-df-container\">\n",
              "      <div>\n",
              "<style scoped>\n",
              "    .dataframe tbody tr th:only-of-type {\n",
              "        vertical-align: middle;\n",
              "    }\n",
              "\n",
              "    .dataframe tbody tr th {\n",
              "        vertical-align: top;\n",
              "    }\n",
              "\n",
              "    .dataframe thead th {\n",
              "        text-align: right;\n",
              "    }\n",
              "</style>\n",
              "<table border=\"1\" class=\"dataframe\">\n",
              "  <thead>\n",
              "    <tr style=\"text-align: right;\">\n",
              "      <th></th>\n",
              "      <th>sentence</th>\n",
              "      <th>path</th>\n",
              "      <th>labels</th>\n",
              "    </tr>\n",
              "  </thead>\n",
              "  <tbody>\n",
              "    <tr>\n",
              "      <th>0</th>\n",
              "      <td>如果你相信这个</td>\n",
              "      <td>/content/wav/000100110.WAV</td>\n",
              "      <td>1</td>\n",
              "    </tr>\n",
              "    <tr>\n",
              "      <th>1</th>\n",
              "      <td>使我们从实证的方面去解决生物界的根本问题</td>\n",
              "      <td>/content/wav/000100050.WAV</td>\n",
              "      <td>1</td>\n",
              "    </tr>\n",
              "    <tr>\n",
              "      <th>2</th>\n",
              "      <td>又不是英国的消极自由所谓平等</td>\n",
              "      <td>/content/wav/000120092.WAV</td>\n",
              "      <td>1</td>\n",
              "    </tr>\n",
              "    <tr>\n",
              "      <th>3</th>\n",
              "      <td>这就是调和</td>\n",
              "      <td>/content/wav/000120328.WAV</td>\n",
              "      <td>1</td>\n",
              "    </tr>\n",
              "    <tr>\n",
              "      <th>4</th>\n",
              "      <td>他洋洋得意的据得这种生活狠可以终身了</td>\n",
              "      <td>/content/wav/000110276.WAV</td>\n",
              "      <td>1</td>\n",
              "    </tr>\n",
              "    <tr>\n",
              "      <th>5</th>\n",
              "      <td>如果那人和那虫的死不是有意注定的</td>\n",
              "      <td>/content/wav/000100112.WAV</td>\n",
              "      <td>1</td>\n",
              "    </tr>\n",
              "    <tr>\n",
              "      <th>6</th>\n",
              "      <td>只好说我本不爱吃这酸葡萄狐狸吃不着甜葡萄</td>\n",
              "      <td>/content/wav/000110421.WAV</td>\n",
              "      <td>1</td>\n",
              "    </tr>\n",
              "    <tr>\n",
              "      <th>7</th>\n",
              "      <td>自治的自治的社会共和的国家</td>\n",
              "      <td>/content/wav/000110316.WAV</td>\n",
              "      <td>1</td>\n",
              "    </tr>\n",
              "    <tr>\n",
              "      <th>8</th>\n",
              "      <td>虽然还有做洋八股有更时髦的党八股的</td>\n",
              "      <td>/content/wav/000130399.WAV</td>\n",
              "      <td>1</td>\n",
              "    </tr>\n",
              "    <tr>\n",
              "      <th>9</th>\n",
              "      <td>也有亲昵与轻贱两种情调</td>\n",
              "      <td>/content/wav/000120616.WAV</td>\n",
              "      <td>1</td>\n",
              "    </tr>\n",
              "  </tbody>\n",
              "</table>\n",
              "</div>\n",
              "      <button class=\"colab-df-convert\" onclick=\"convertToInteractive('df-10b71ed5-e4b7-4fe0-b274-00e0039aba72')\"\n",
              "              title=\"Convert this dataframe to an interactive table.\"\n",
              "              style=\"display:none;\">\n",
              "        \n",
              "  <svg xmlns=\"http://www.w3.org/2000/svg\" height=\"24px\"viewBox=\"0 0 24 24\"\n",
              "       width=\"24px\">\n",
              "    <path d=\"M0 0h24v24H0V0z\" fill=\"none\"/>\n",
              "    <path d=\"M18.56 5.44l.94 2.06.94-2.06 2.06-.94-2.06-.94-.94-2.06-.94 2.06-2.06.94zm-11 1L8.5 8.5l.94-2.06 2.06-.94-2.06-.94L8.5 2.5l-.94 2.06-2.06.94zm10 10l.94 2.06.94-2.06 2.06-.94-2.06-.94-.94-2.06-.94 2.06-2.06.94z\"/><path d=\"M17.41 7.96l-1.37-1.37c-.4-.4-.92-.59-1.43-.59-.52 0-1.04.2-1.43.59L10.3 9.45l-7.72 7.72c-.78.78-.78 2.05 0 2.83L4 21.41c.39.39.9.59 1.41.59.51 0 1.02-.2 1.41-.59l7.78-7.78 2.81-2.81c.8-.78.8-2.07 0-2.86zM5.41 20L4 18.59l7.72-7.72 1.47 1.35L5.41 20z\"/>\n",
              "  </svg>\n",
              "      </button>\n",
              "      \n",
              "  <style>\n",
              "    .colab-df-container {\n",
              "      display:flex;\n",
              "      flex-wrap:wrap;\n",
              "      gap: 12px;\n",
              "    }\n",
              "\n",
              "    .colab-df-convert {\n",
              "      background-color: #E8F0FE;\n",
              "      border: none;\n",
              "      border-radius: 50%;\n",
              "      cursor: pointer;\n",
              "      display: none;\n",
              "      fill: #1967D2;\n",
              "      height: 32px;\n",
              "      padding: 0 0 0 0;\n",
              "      width: 32px;\n",
              "    }\n",
              "\n",
              "    .colab-df-convert:hover {\n",
              "      background-color: #E2EBFA;\n",
              "      box-shadow: 0px 1px 2px rgba(60, 64, 67, 0.3), 0px 1px 3px 1px rgba(60, 64, 67, 0.15);\n",
              "      fill: #174EA6;\n",
              "    }\n",
              "\n",
              "    [theme=dark] .colab-df-convert {\n",
              "      background-color: #3B4455;\n",
              "      fill: #D2E3FC;\n",
              "    }\n",
              "\n",
              "    [theme=dark] .colab-df-convert:hover {\n",
              "      background-color: #434B5C;\n",
              "      box-shadow: 0px 1px 3px 1px rgba(0, 0, 0, 0.15);\n",
              "      filter: drop-shadow(0px 1px 2px rgba(0, 0, 0, 0.3));\n",
              "      fill: #FFFFFF;\n",
              "    }\n",
              "  </style>\n",
              "\n",
              "      <script>\n",
              "        const buttonEl =\n",
              "          document.querySelector('#df-10b71ed5-e4b7-4fe0-b274-00e0039aba72 button.colab-df-convert');\n",
              "        buttonEl.style.display =\n",
              "          google.colab.kernel.accessAllowed ? 'block' : 'none';\n",
              "\n",
              "        async function convertToInteractive(key) {\n",
              "          const element = document.querySelector('#df-10b71ed5-e4b7-4fe0-b274-00e0039aba72');\n",
              "          const dataTable =\n",
              "            await google.colab.kernel.invokeFunction('convertToInteractive',\n",
              "                                                     [key], {});\n",
              "          if (!dataTable) return;\n",
              "\n",
              "          const docLinkHtml = 'Like what you see? Visit the ' +\n",
              "            '<a target=\"_blank\" href=https://colab.research.google.com/notebooks/data_table.ipynb>data table notebook</a>'\n",
              "            + ' to learn more about interactive tables.';\n",
              "          element.innerHTML = '';\n",
              "          dataTable['output_type'] = 'display_data';\n",
              "          await google.colab.output.renderOutput(dataTable, element);\n",
              "          const docLink = document.createElement('div');\n",
              "          docLink.innerHTML = docLinkHtml;\n",
              "          element.appendChild(docLink);\n",
              "        }\n",
              "      </script>\n",
              "    </div>\n",
              "  </div>\n",
              "  "
            ]
          },
          "metadata": {},
          "execution_count": 24
        }
      ]
    },
    {
      "cell_type": "code",
      "source": [
        "df[\"sentence\"] = df[\"sentence\"].apply(lambda x: re.sub(\"[a-zA-Z\\<\\>（）“”—— !?:;./ ！ 《》：”“!，。]\", \"\", x))"
      ],
      "metadata": {
        "id": "vCupwE_yJXwV"
      },
      "execution_count": null,
      "outputs": []
    },
    {
      "cell_type": "code",
      "source": [
        "!pip install datasets\n",
        "!pip install transformers"
      ],
      "metadata": {
        "id": "uru6-pU2Gvem"
      },
      "execution_count": null,
      "outputs": []
    },
    {
      "cell_type": "markdown",
      "source": [
        "# Inferencing"
      ],
      "metadata": {
        "id": "LoQJqUKoBj0Z"
      }
    },
    {
      "cell_type": "code",
      "source": [
        "import numpy as np"
      ],
      "metadata": {
        "id": "7VCS-VysB3Re"
      },
      "execution_count": null,
      "outputs": []
    },
    {
      "cell_type": "code",
      "source": [
        "import torch\n",
        "import librosa\n",
        "from datasets import load_dataset\n",
        "from transformers import Wav2Vec2ForCTC, Wav2Vec2Processor\n"
      ],
      "metadata": {
        "id": "yLPXaUqEy2rC"
      },
      "execution_count": null,
      "outputs": []
    },
    {
      "cell_type": "code",
      "source": [
        "def speech_file_to_array_fn(path):\n",
        "    #bath = pathtowav(a[\"id\"])\n",
        "    print(path)\n",
        "    speech_array, sampling_rate = librosa.load(path, sr=16_000)\n",
        "    #batch[\"speech\"] = speech_array\n",
        "    #atch[\"sentence\"] = batch[\"sentence\"].upper()\n",
        "    return speech_array\n"
      ],
      "metadata": {
        "id": "xBT5oGNlyhEv"
      },
      "execution_count": null,
      "outputs": []
    },
    {
      "cell_type": "code",
      "source": [
        "class Realwav:\n",
        "  def __init__(self):\n",
        "    MODEL_ID = \"/content/drive/Shareddrives/Hoggy Project/hoggyPro/checkpoint-12400\"\n",
        "    tokenizer = Wav2Vec2CTCTokenizer(\"./vocab.json\", unk_token=\"[UNK]\", pad_token=\"[PAD]\", word_delimiter_token=\"|\")\n",
        "    feature_extractor = Wav2Vec2FeatureExtractor(feature_size=1, sampling_rate=16000, padding_value=0.0, do_normalize=True, return_attention_mask=True)\n",
        "    self.model = Wav2Vec2ForCTC.from_pretrained(MODEL_ID)\n",
        "    self.processor = Wav2Vec2Processor(feature_extractor=feature_extractor, tokenizer=tokenizer)\n",
        "    \n",
        "\n",
        "  def sound_and_sentence(self,sound,sentence):\n",
        "    inputs = self.processor(sound, sampling_rate=16_000, return_tensors=\"pt\", padding=True)\n",
        "    with torch.no_grad():\n",
        "        logits = self.model(inputs.input_values, attention_mask=inputs.attention_mask).logits\n",
        "    \n",
        "    probs = torch.softmax(logits, dim=-1)\n",
        "    ref_ids = self.processor(text=sentence)[\"input_ids\"]\n",
        "    scores = []\n",
        "    ref_count = 0\n",
        "    pred_ids = torch.argmax(logits[0], dim=-1)\n",
        "    for seq_idx in range(pred_ids.shape[0]):\n",
        "      if pred_ids[seq_idx] != 0:\n",
        "        print(f\"position of the word {sentence[ref_count]}: {seq_idx}\")\n",
        "        ref_id = ref_ids[ref_count]\n",
        "        conf_score = probs[0, seq_idx, ref_id].tolist()\n",
        "        scores.append(conf_score)\n",
        "        print(conf_score)\n",
        "        ref_count += 1\n",
        "        if ref_count >= len(ref_ids):\n",
        "          break\n",
        "    #print(\"-\" * 100)\n",
        "    #print(scores)\n",
        "    print(scores)\n",
        "    sentence_score = np.mean(scores)\n",
        "    #print(sentence_score)\n",
        "    return sentence_score, int(sentence_score > 0.5)"
      ],
      "metadata": {
        "id": "3DEvaf90yoVA"
      },
      "execution_count": null,
      "outputs": []
    },
    {
      "cell_type": "code",
      "source": [
        "rw = Realwav()"
      ],
      "metadata": {
        "id": "hF1ihgAZyzk6"
      },
      "execution_count": null,
      "outputs": []
    },
    {
      "cell_type": "code",
      "source": [
        "def pathtowav(id):\n",
        "  path = f\"{id}\"\n",
        "  return path\n",
        "  #/content/wav/000100001.WAV\n",
        "  #/content/wav/000100110.WAV\t"
      ],
      "metadata": {
        "id": "qjLe88SZnqMB"
      },
      "execution_count": null,
      "outputs": []
    },
    {
      "cell_type": "code",
      "source": [
        "df"
      ],
      "metadata": {
        "colab": {
          "base_uri": "https://localhost:8080/",
          "height": 423
        },
        "id": "j2UG5QT30NTC",
        "outputId": "15381fc3-457b-4b57-f208-60cf9f9721ad"
      },
      "execution_count": null,
      "outputs": [
        {
          "output_type": "execute_result",
          "data": {
            "text/plain": [
              "                 sentence                        path  labels\n",
              "0                 如果你相信这个  /content/wav/000100110.WAV       1\n",
              "1    使我们从实证的方面去解决生物界的根本问题  /content/wav/000100050.WAV       1\n",
              "2          又不是英国的消极自由所谓平等  /content/wav/000120092.WAV       1\n",
              "3                   这就是调和  /content/wav/000120328.WAV       1\n",
              "4      他洋洋得意的据得这种生活狠可以终身了  /content/wav/000110276.WAV       1\n",
              "..                    ...                         ...     ...\n",
              "510  使我们从实证的方面去解决生物界的根本问题  /content/wav/000100142.WAV       0\n",
              "511                     五  /content/wav/000120522.WAV       0\n",
              "512             葡萄太高了他吃不着  /content/wav/000120269.WAV       0\n",
              "513             也许隔开两三万里路  /content/wav/000130123.WAV       0\n",
              "514       主义的大危险就是能使人心满意足  /content/wav/000100411.WAV       0\n",
              "\n",
              "[515 rows x 3 columns]"
            ],
            "text/html": [
              "\n",
              "  <div id=\"df-953425b5-0ab0-4b78-a97f-a4919a3c04ec\">\n",
              "    <div class=\"colab-df-container\">\n",
              "      <div>\n",
              "<style scoped>\n",
              "    .dataframe tbody tr th:only-of-type {\n",
              "        vertical-align: middle;\n",
              "    }\n",
              "\n",
              "    .dataframe tbody tr th {\n",
              "        vertical-align: top;\n",
              "    }\n",
              "\n",
              "    .dataframe thead th {\n",
              "        text-align: right;\n",
              "    }\n",
              "</style>\n",
              "<table border=\"1\" class=\"dataframe\">\n",
              "  <thead>\n",
              "    <tr style=\"text-align: right;\">\n",
              "      <th></th>\n",
              "      <th>sentence</th>\n",
              "      <th>path</th>\n",
              "      <th>labels</th>\n",
              "    </tr>\n",
              "  </thead>\n",
              "  <tbody>\n",
              "    <tr>\n",
              "      <th>0</th>\n",
              "      <td>如果你相信这个</td>\n",
              "      <td>/content/wav/000100110.WAV</td>\n",
              "      <td>1</td>\n",
              "    </tr>\n",
              "    <tr>\n",
              "      <th>1</th>\n",
              "      <td>使我们从实证的方面去解决生物界的根本问题</td>\n",
              "      <td>/content/wav/000100050.WAV</td>\n",
              "      <td>1</td>\n",
              "    </tr>\n",
              "    <tr>\n",
              "      <th>2</th>\n",
              "      <td>又不是英国的消极自由所谓平等</td>\n",
              "      <td>/content/wav/000120092.WAV</td>\n",
              "      <td>1</td>\n",
              "    </tr>\n",
              "    <tr>\n",
              "      <th>3</th>\n",
              "      <td>这就是调和</td>\n",
              "      <td>/content/wav/000120328.WAV</td>\n",
              "      <td>1</td>\n",
              "    </tr>\n",
              "    <tr>\n",
              "      <th>4</th>\n",
              "      <td>他洋洋得意的据得这种生活狠可以终身了</td>\n",
              "      <td>/content/wav/000110276.WAV</td>\n",
              "      <td>1</td>\n",
              "    </tr>\n",
              "    <tr>\n",
              "      <th>...</th>\n",
              "      <td>...</td>\n",
              "      <td>...</td>\n",
              "      <td>...</td>\n",
              "    </tr>\n",
              "    <tr>\n",
              "      <th>510</th>\n",
              "      <td>使我们从实证的方面去解决生物界的根本问题</td>\n",
              "      <td>/content/wav/000100142.WAV</td>\n",
              "      <td>0</td>\n",
              "    </tr>\n",
              "    <tr>\n",
              "      <th>511</th>\n",
              "      <td>五</td>\n",
              "      <td>/content/wav/000120522.WAV</td>\n",
              "      <td>0</td>\n",
              "    </tr>\n",
              "    <tr>\n",
              "      <th>512</th>\n",
              "      <td>葡萄太高了他吃不着</td>\n",
              "      <td>/content/wav/000120269.WAV</td>\n",
              "      <td>0</td>\n",
              "    </tr>\n",
              "    <tr>\n",
              "      <th>513</th>\n",
              "      <td>也许隔开两三万里路</td>\n",
              "      <td>/content/wav/000130123.WAV</td>\n",
              "      <td>0</td>\n",
              "    </tr>\n",
              "    <tr>\n",
              "      <th>514</th>\n",
              "      <td>主义的大危险就是能使人心满意足</td>\n",
              "      <td>/content/wav/000100411.WAV</td>\n",
              "      <td>0</td>\n",
              "    </tr>\n",
              "  </tbody>\n",
              "</table>\n",
              "<p>515 rows × 3 columns</p>\n",
              "</div>\n",
              "      <button class=\"colab-df-convert\" onclick=\"convertToInteractive('df-953425b5-0ab0-4b78-a97f-a4919a3c04ec')\"\n",
              "              title=\"Convert this dataframe to an interactive table.\"\n",
              "              style=\"display:none;\">\n",
              "        \n",
              "  <svg xmlns=\"http://www.w3.org/2000/svg\" height=\"24px\"viewBox=\"0 0 24 24\"\n",
              "       width=\"24px\">\n",
              "    <path d=\"M0 0h24v24H0V0z\" fill=\"none\"/>\n",
              "    <path d=\"M18.56 5.44l.94 2.06.94-2.06 2.06-.94-2.06-.94-.94-2.06-.94 2.06-2.06.94zm-11 1L8.5 8.5l.94-2.06 2.06-.94-2.06-.94L8.5 2.5l-.94 2.06-2.06.94zm10 10l.94 2.06.94-2.06 2.06-.94-2.06-.94-.94-2.06-.94 2.06-2.06.94z\"/><path d=\"M17.41 7.96l-1.37-1.37c-.4-.4-.92-.59-1.43-.59-.52 0-1.04.2-1.43.59L10.3 9.45l-7.72 7.72c-.78.78-.78 2.05 0 2.83L4 21.41c.39.39.9.59 1.41.59.51 0 1.02-.2 1.41-.59l7.78-7.78 2.81-2.81c.8-.78.8-2.07 0-2.86zM5.41 20L4 18.59l7.72-7.72 1.47 1.35L5.41 20z\"/>\n",
              "  </svg>\n",
              "      </button>\n",
              "      \n",
              "  <style>\n",
              "    .colab-df-container {\n",
              "      display:flex;\n",
              "      flex-wrap:wrap;\n",
              "      gap: 12px;\n",
              "    }\n",
              "\n",
              "    .colab-df-convert {\n",
              "      background-color: #E8F0FE;\n",
              "      border: none;\n",
              "      border-radius: 50%;\n",
              "      cursor: pointer;\n",
              "      display: none;\n",
              "      fill: #1967D2;\n",
              "      height: 32px;\n",
              "      padding: 0 0 0 0;\n",
              "      width: 32px;\n",
              "    }\n",
              "\n",
              "    .colab-df-convert:hover {\n",
              "      background-color: #E2EBFA;\n",
              "      box-shadow: 0px 1px 2px rgba(60, 64, 67, 0.3), 0px 1px 3px 1px rgba(60, 64, 67, 0.15);\n",
              "      fill: #174EA6;\n",
              "    }\n",
              "\n",
              "    [theme=dark] .colab-df-convert {\n",
              "      background-color: #3B4455;\n",
              "      fill: #D2E3FC;\n",
              "    }\n",
              "\n",
              "    [theme=dark] .colab-df-convert:hover {\n",
              "      background-color: #434B5C;\n",
              "      box-shadow: 0px 1px 3px 1px rgba(0, 0, 0, 0.15);\n",
              "      filter: drop-shadow(0px 1px 2px rgba(0, 0, 0, 0.3));\n",
              "      fill: #FFFFFF;\n",
              "    }\n",
              "  </style>\n",
              "\n",
              "      <script>\n",
              "        const buttonEl =\n",
              "          document.querySelector('#df-953425b5-0ab0-4b78-a97f-a4919a3c04ec button.colab-df-convert');\n",
              "        buttonEl.style.display =\n",
              "          google.colab.kernel.accessAllowed ? 'block' : 'none';\n",
              "\n",
              "        async function convertToInteractive(key) {\n",
              "          const element = document.querySelector('#df-953425b5-0ab0-4b78-a97f-a4919a3c04ec');\n",
              "          const dataTable =\n",
              "            await google.colab.kernel.invokeFunction('convertToInteractive',\n",
              "                                                     [key], {});\n",
              "          if (!dataTable) return;\n",
              "\n",
              "          const docLinkHtml = 'Like what you see? Visit the ' +\n",
              "            '<a target=\"_blank\" href=https://colab.research.google.com/notebooks/data_table.ipynb>data table notebook</a>'\n",
              "            + ' to learn more about interactive tables.';\n",
              "          element.innerHTML = '';\n",
              "          dataTable['output_type'] = 'display_data';\n",
              "          await google.colab.output.renderOutput(dataTable, element);\n",
              "          const docLink = document.createElement('div');\n",
              "          docLink.innerHTML = docLinkHtml;\n",
              "          element.appendChild(docLink);\n",
              "        }\n",
              "      </script>\n",
              "    </div>\n",
              "  </div>\n",
              "  "
            ]
          },
          "metadata": {},
          "execution_count": 67
        }
      ]
    },
    {
      "cell_type": "code",
      "source": [],
      "metadata": {
        "id": "2zMRwyef0fM9"
      },
      "execution_count": null,
      "outputs": []
    },
    {
      "cell_type": "code",
      "source": [
        "predicts = []\n",
        "for i in range(len(df)):\n",
        "  sample = df.iloc[i]\n",
        "  id = sample[\"path\"]\n",
        "  sentence = sample[\"sentence\"]\n",
        "  pathwav = pathtowav(id)\n",
        "  filesound = speech_file_to_array_fn(pathwav)\n",
        "  output = rw.sound_and_sentence(filesound,sentence)\n",
        "  predicts.append(output[1])"
      ],
      "metadata": {
        "id": "7mq6FZdDxd__"
      },
      "execution_count": null,
      "outputs": []
    },
    {
      "cell_type": "code",
      "source": [
        "id = \"/content/translate_tts.wav\"\n",
        "sentence = \"你好\"\n",
        "#pathwav = pathtowav(id)\n",
        "filesound = speech_file_to_array_fn(id)\n",
        "output = rw.sound_and_sentence(filesound,sentence)\n",
        "predicts.append(output[1])\n",
        "#โมเดลตัวใหม่"
      ],
      "metadata": {
        "id": "S-ZSApKAo39O"
      },
      "execution_count": null,
      "outputs": []
    },
    {
      "cell_type": "code",
      "source": [
        "predicts"
      ],
      "metadata": {
        "id": "FlwvBfZtzCFH"
      },
      "execution_count": null,
      "outputs": []
    },
    {
      "cell_type": "code",
      "source": [
        "import re"
      ],
      "metadata": {
        "id": "2YiyI1uXI18Y"
      },
      "execution_count": null,
      "outputs": []
    },
    {
      "cell_type": "code",
      "source": [
        "df[\"sentence\"] = df[\"sentence\"].apply(lambda x: re.sub(\"[a-zA-Z\\<\\>（）“”—— !?:;./ ！ 《》：”“!，。]\", \"\", x))\n"
      ],
      "metadata": {
        "id": "VnTcS1lL5VTM"
      },
      "execution_count": null,
      "outputs": []
    },
    {
      "cell_type": "code",
      "source": [
        "df"
      ],
      "metadata": {
        "id": "6214AMcpL-gl"
      },
      "execution_count": null,
      "outputs": []
    }
  ],
  "metadata": {
    "accelerator": "GPU",
    "colab": {
      "machine_shape": "hm",
      "provenance": [],
      "gpuType": "T4"
    },
    "kernelspec": {
      "display_name": "Python 3",
      "name": "python3"
    },
    "language_info": {
      "codemirror_mode": {
        "name": "ipython",
        "version": 3
      },
      "file_extension": ".py",
      "mimetype": "text/x-python",
      "name": "python",
      "nbconvert_exporter": "python",
      "pygments_lexer": "ipython3",
      "version": "3.7.6"
    },
    "widgets": {
      "application/vnd.jupyter.widget-state+json": {
        "29a3da40345b43b9a8ece963ed5d6d1a": {
          "model_module": "@jupyter-widgets/controls",
          "model_name": "HBoxModel",
          "model_module_version": "1.5.0",
          "state": {
            "_dom_classes": [],
            "_model_module": "@jupyter-widgets/controls",
            "_model_module_version": "1.5.0",
            "_model_name": "HBoxModel",
            "_view_count": null,
            "_view_module": "@jupyter-widgets/controls",
            "_view_module_version": "1.5.0",
            "_view_name": "HBoxView",
            "box_style": "",
            "children": [
              "IPY_MODEL_ad79b92beb7149ab9db6b0f36bf6a6b7",
              "IPY_MODEL_ebb0ef4300114b1e9a527b68616ffe64",
              "IPY_MODEL_628571f2e73f479eb5ea5206e4778a39"
            ],
            "layout": "IPY_MODEL_114e138495eb40cca9a4a4531f38882d"
          }
        },
        "ad79b92beb7149ab9db6b0f36bf6a6b7": {
          "model_module": "@jupyter-widgets/controls",
          "model_name": "HTMLModel",
          "model_module_version": "1.5.0",
          "state": {
            "_dom_classes": [],
            "_model_module": "@jupyter-widgets/controls",
            "_model_module_version": "1.5.0",
            "_model_name": "HTMLModel",
            "_view_count": null,
            "_view_module": "@jupyter-widgets/controls",
            "_view_module_version": "1.5.0",
            "_view_name": "HTMLView",
            "description": "",
            "description_tooltip": null,
            "layout": "IPY_MODEL_3c4e1b66566048d0a89eaeec0685e1ef",
            "placeholder": "​",
            "style": "IPY_MODEL_81a0c790d52d4c159f03a90265d147f5",
            "value": "Downloading builder script: "
          }
        },
        "ebb0ef4300114b1e9a527b68616ffe64": {
          "model_module": "@jupyter-widgets/controls",
          "model_name": "FloatProgressModel",
          "model_module_version": "1.5.0",
          "state": {
            "_dom_classes": [],
            "_model_module": "@jupyter-widgets/controls",
            "_model_module_version": "1.5.0",
            "_model_name": "FloatProgressModel",
            "_view_count": null,
            "_view_module": "@jupyter-widgets/controls",
            "_view_module_version": "1.5.0",
            "_view_name": "ProgressView",
            "bar_style": "success",
            "description": "",
            "description_tooltip": null,
            "layout": "IPY_MODEL_566e35a1bf9342b6942ee893f59ccebe",
            "max": 1901,
            "min": 0,
            "orientation": "horizontal",
            "style": "IPY_MODEL_042e4d04c6f242a19ebb50ad4921bfc1",
            "value": 1901
          }
        },
        "628571f2e73f479eb5ea5206e4778a39": {
          "model_module": "@jupyter-widgets/controls",
          "model_name": "HTMLModel",
          "model_module_version": "1.5.0",
          "state": {
            "_dom_classes": [],
            "_model_module": "@jupyter-widgets/controls",
            "_model_module_version": "1.5.0",
            "_model_name": "HTMLModel",
            "_view_count": null,
            "_view_module": "@jupyter-widgets/controls",
            "_view_module_version": "1.5.0",
            "_view_name": "HTMLView",
            "description": "",
            "description_tooltip": null,
            "layout": "IPY_MODEL_f23c45bdc79042078eae456855cdfe7d",
            "placeholder": "​",
            "style": "IPY_MODEL_b14de3a769fd493ea216c5b3be5de6a7",
            "value": " 4.48k/? [00:00&lt;00:00, 318kB/s]"
          }
        },
        "114e138495eb40cca9a4a4531f38882d": {
          "model_module": "@jupyter-widgets/base",
          "model_name": "LayoutModel",
          "model_module_version": "1.2.0",
          "state": {
            "_model_module": "@jupyter-widgets/base",
            "_model_module_version": "1.2.0",
            "_model_name": "LayoutModel",
            "_view_count": null,
            "_view_module": "@jupyter-widgets/base",
            "_view_module_version": "1.2.0",
            "_view_name": "LayoutView",
            "align_content": null,
            "align_items": null,
            "align_self": null,
            "border": null,
            "bottom": null,
            "display": null,
            "flex": null,
            "flex_flow": null,
            "grid_area": null,
            "grid_auto_columns": null,
            "grid_auto_flow": null,
            "grid_auto_rows": null,
            "grid_column": null,
            "grid_gap": null,
            "grid_row": null,
            "grid_template_areas": null,
            "grid_template_columns": null,
            "grid_template_rows": null,
            "height": null,
            "justify_content": null,
            "justify_items": null,
            "left": null,
            "margin": null,
            "max_height": null,
            "max_width": null,
            "min_height": null,
            "min_width": null,
            "object_fit": null,
            "object_position": null,
            "order": null,
            "overflow": null,
            "overflow_x": null,
            "overflow_y": null,
            "padding": null,
            "right": null,
            "top": null,
            "visibility": null,
            "width": null
          }
        },
        "3c4e1b66566048d0a89eaeec0685e1ef": {
          "model_module": "@jupyter-widgets/base",
          "model_name": "LayoutModel",
          "model_module_version": "1.2.0",
          "state": {
            "_model_module": "@jupyter-widgets/base",
            "_model_module_version": "1.2.0",
            "_model_name": "LayoutModel",
            "_view_count": null,
            "_view_module": "@jupyter-widgets/base",
            "_view_module_version": "1.2.0",
            "_view_name": "LayoutView",
            "align_content": null,
            "align_items": null,
            "align_self": null,
            "border": null,
            "bottom": null,
            "display": null,
            "flex": null,
            "flex_flow": null,
            "grid_area": null,
            "grid_auto_columns": null,
            "grid_auto_flow": null,
            "grid_auto_rows": null,
            "grid_column": null,
            "grid_gap": null,
            "grid_row": null,
            "grid_template_areas": null,
            "grid_template_columns": null,
            "grid_template_rows": null,
            "height": null,
            "justify_content": null,
            "justify_items": null,
            "left": null,
            "margin": null,
            "max_height": null,
            "max_width": null,
            "min_height": null,
            "min_width": null,
            "object_fit": null,
            "object_position": null,
            "order": null,
            "overflow": null,
            "overflow_x": null,
            "overflow_y": null,
            "padding": null,
            "right": null,
            "top": null,
            "visibility": null,
            "width": null
          }
        },
        "81a0c790d52d4c159f03a90265d147f5": {
          "model_module": "@jupyter-widgets/controls",
          "model_name": "DescriptionStyleModel",
          "model_module_version": "1.5.0",
          "state": {
            "_model_module": "@jupyter-widgets/controls",
            "_model_module_version": "1.5.0",
            "_model_name": "DescriptionStyleModel",
            "_view_count": null,
            "_view_module": "@jupyter-widgets/base",
            "_view_module_version": "1.2.0",
            "_view_name": "StyleView",
            "description_width": ""
          }
        },
        "566e35a1bf9342b6942ee893f59ccebe": {
          "model_module": "@jupyter-widgets/base",
          "model_name": "LayoutModel",
          "model_module_version": "1.2.0",
          "state": {
            "_model_module": "@jupyter-widgets/base",
            "_model_module_version": "1.2.0",
            "_model_name": "LayoutModel",
            "_view_count": null,
            "_view_module": "@jupyter-widgets/base",
            "_view_module_version": "1.2.0",
            "_view_name": "LayoutView",
            "align_content": null,
            "align_items": null,
            "align_self": null,
            "border": null,
            "bottom": null,
            "display": null,
            "flex": null,
            "flex_flow": null,
            "grid_area": null,
            "grid_auto_columns": null,
            "grid_auto_flow": null,
            "grid_auto_rows": null,
            "grid_column": null,
            "grid_gap": null,
            "grid_row": null,
            "grid_template_areas": null,
            "grid_template_columns": null,
            "grid_template_rows": null,
            "height": null,
            "justify_content": null,
            "justify_items": null,
            "left": null,
            "margin": null,
            "max_height": null,
            "max_width": null,
            "min_height": null,
            "min_width": null,
            "object_fit": null,
            "object_position": null,
            "order": null,
            "overflow": null,
            "overflow_x": null,
            "overflow_y": null,
            "padding": null,
            "right": null,
            "top": null,
            "visibility": null,
            "width": null
          }
        },
        "042e4d04c6f242a19ebb50ad4921bfc1": {
          "model_module": "@jupyter-widgets/controls",
          "model_name": "ProgressStyleModel",
          "model_module_version": "1.5.0",
          "state": {
            "_model_module": "@jupyter-widgets/controls",
            "_model_module_version": "1.5.0",
            "_model_name": "ProgressStyleModel",
            "_view_count": null,
            "_view_module": "@jupyter-widgets/base",
            "_view_module_version": "1.2.0",
            "_view_name": "StyleView",
            "bar_color": null,
            "description_width": ""
          }
        },
        "f23c45bdc79042078eae456855cdfe7d": {
          "model_module": "@jupyter-widgets/base",
          "model_name": "LayoutModel",
          "model_module_version": "1.2.0",
          "state": {
            "_model_module": "@jupyter-widgets/base",
            "_model_module_version": "1.2.0",
            "_model_name": "LayoutModel",
            "_view_count": null,
            "_view_module": "@jupyter-widgets/base",
            "_view_module_version": "1.2.0",
            "_view_name": "LayoutView",
            "align_content": null,
            "align_items": null,
            "align_self": null,
            "border": null,
            "bottom": null,
            "display": null,
            "flex": null,
            "flex_flow": null,
            "grid_area": null,
            "grid_auto_columns": null,
            "grid_auto_flow": null,
            "grid_auto_rows": null,
            "grid_column": null,
            "grid_gap": null,
            "grid_row": null,
            "grid_template_areas": null,
            "grid_template_columns": null,
            "grid_template_rows": null,
            "height": null,
            "justify_content": null,
            "justify_items": null,
            "left": null,
            "margin": null,
            "max_height": null,
            "max_width": null,
            "min_height": null,
            "min_width": null,
            "object_fit": null,
            "object_position": null,
            "order": null,
            "overflow": null,
            "overflow_x": null,
            "overflow_y": null,
            "padding": null,
            "right": null,
            "top": null,
            "visibility": null,
            "width": null
          }
        },
        "b14de3a769fd493ea216c5b3be5de6a7": {
          "model_module": "@jupyter-widgets/controls",
          "model_name": "DescriptionStyleModel",
          "model_module_version": "1.5.0",
          "state": {
            "_model_module": "@jupyter-widgets/controls",
            "_model_module_version": "1.5.0",
            "_model_name": "DescriptionStyleModel",
            "_view_count": null,
            "_view_module": "@jupyter-widgets/base",
            "_view_module_version": "1.2.0",
            "_view_name": "StyleView",
            "description_width": ""
          }
        },
        "2557d97ae457498196669a1d09ac26ce": {
          "model_module": "@jupyter-widgets/controls",
          "model_name": "HBoxModel",
          "model_module_version": "1.5.0",
          "state": {
            "_dom_classes": [],
            "_model_module": "@jupyter-widgets/controls",
            "_model_module_version": "1.5.0",
            "_model_name": "HBoxModel",
            "_view_count": null,
            "_view_module": "@jupyter-widgets/controls",
            "_view_module_version": "1.5.0",
            "_view_name": "HBoxView",
            "box_style": "",
            "children": [
              "IPY_MODEL_2ffae7ecac974df09bd3c5f2ec058a2b",
              "IPY_MODEL_d4b1060c88624c59921527ba514f8468",
              "IPY_MODEL_fc26378f21104b748044ac93055fb076"
            ],
            "layout": "IPY_MODEL_79133e03c80f4716a9a8b418362c09bb"
          }
        },
        "2ffae7ecac974df09bd3c5f2ec058a2b": {
          "model_module": "@jupyter-widgets/controls",
          "model_name": "HTMLModel",
          "model_module_version": "1.5.0",
          "state": {
            "_dom_classes": [],
            "_model_module": "@jupyter-widgets/controls",
            "_model_module_version": "1.5.0",
            "_model_name": "HTMLModel",
            "_view_count": null,
            "_view_module": "@jupyter-widgets/controls",
            "_view_module_version": "1.5.0",
            "_view_name": "HTMLView",
            "description": "",
            "description_tooltip": null,
            "layout": "IPY_MODEL_293189f639724f499600c4eb8702ac11",
            "placeholder": "​",
            "style": "IPY_MODEL_0314dbf6fe7c4a8f97ef73f62386d887",
            "value": "Downloading data files: 100%"
          }
        },
        "d4b1060c88624c59921527ba514f8468": {
          "model_module": "@jupyter-widgets/controls",
          "model_name": "FloatProgressModel",
          "model_module_version": "1.5.0",
          "state": {
            "_dom_classes": [],
            "_model_module": "@jupyter-widgets/controls",
            "_model_module_version": "1.5.0",
            "_model_name": "FloatProgressModel",
            "_view_count": null,
            "_view_module": "@jupyter-widgets/controls",
            "_view_module_version": "1.5.0",
            "_view_name": "ProgressView",
            "bar_style": "success",
            "description": "",
            "description_tooltip": null,
            "layout": "IPY_MODEL_9052e075997d488fbc6dbb2baf7982c5",
            "max": 1,
            "min": 0,
            "orientation": "horizontal",
            "style": "IPY_MODEL_1f6f1a1d1ff54f8987b46da1a15aa06d",
            "value": 1
          }
        },
        "fc26378f21104b748044ac93055fb076": {
          "model_module": "@jupyter-widgets/controls",
          "model_name": "HTMLModel",
          "model_module_version": "1.5.0",
          "state": {
            "_dom_classes": [],
            "_model_module": "@jupyter-widgets/controls",
            "_model_module_version": "1.5.0",
            "_model_name": "HTMLModel",
            "_view_count": null,
            "_view_module": "@jupyter-widgets/controls",
            "_view_module_version": "1.5.0",
            "_view_name": "HTMLView",
            "description": "",
            "description_tooltip": null,
            "layout": "IPY_MODEL_51b7578652174350a2b082d31c1c9a90",
            "placeholder": "​",
            "style": "IPY_MODEL_09b6c2fef1e54c72912189cd56a00b5b",
            "value": " 1/1 [00:00&lt;00:00, 81.57it/s]"
          }
        },
        "79133e03c80f4716a9a8b418362c09bb": {
          "model_module": "@jupyter-widgets/base",
          "model_name": "LayoutModel",
          "model_module_version": "1.2.0",
          "state": {
            "_model_module": "@jupyter-widgets/base",
            "_model_module_version": "1.2.0",
            "_model_name": "LayoutModel",
            "_view_count": null,
            "_view_module": "@jupyter-widgets/base",
            "_view_module_version": "1.2.0",
            "_view_name": "LayoutView",
            "align_content": null,
            "align_items": null,
            "align_self": null,
            "border": null,
            "bottom": null,
            "display": null,
            "flex": null,
            "flex_flow": null,
            "grid_area": null,
            "grid_auto_columns": null,
            "grid_auto_flow": null,
            "grid_auto_rows": null,
            "grid_column": null,
            "grid_gap": null,
            "grid_row": null,
            "grid_template_areas": null,
            "grid_template_columns": null,
            "grid_template_rows": null,
            "height": null,
            "justify_content": null,
            "justify_items": null,
            "left": null,
            "margin": null,
            "max_height": null,
            "max_width": null,
            "min_height": null,
            "min_width": null,
            "object_fit": null,
            "object_position": null,
            "order": null,
            "overflow": null,
            "overflow_x": null,
            "overflow_y": null,
            "padding": null,
            "right": null,
            "top": null,
            "visibility": null,
            "width": null
          }
        },
        "293189f639724f499600c4eb8702ac11": {
          "model_module": "@jupyter-widgets/base",
          "model_name": "LayoutModel",
          "model_module_version": "1.2.0",
          "state": {
            "_model_module": "@jupyter-widgets/base",
            "_model_module_version": "1.2.0",
            "_model_name": "LayoutModel",
            "_view_count": null,
            "_view_module": "@jupyter-widgets/base",
            "_view_module_version": "1.2.0",
            "_view_name": "LayoutView",
            "align_content": null,
            "align_items": null,
            "align_self": null,
            "border": null,
            "bottom": null,
            "display": null,
            "flex": null,
            "flex_flow": null,
            "grid_area": null,
            "grid_auto_columns": null,
            "grid_auto_flow": null,
            "grid_auto_rows": null,
            "grid_column": null,
            "grid_gap": null,
            "grid_row": null,
            "grid_template_areas": null,
            "grid_template_columns": null,
            "grid_template_rows": null,
            "height": null,
            "justify_content": null,
            "justify_items": null,
            "left": null,
            "margin": null,
            "max_height": null,
            "max_width": null,
            "min_height": null,
            "min_width": null,
            "object_fit": null,
            "object_position": null,
            "order": null,
            "overflow": null,
            "overflow_x": null,
            "overflow_y": null,
            "padding": null,
            "right": null,
            "top": null,
            "visibility": null,
            "width": null
          }
        },
        "0314dbf6fe7c4a8f97ef73f62386d887": {
          "model_module": "@jupyter-widgets/controls",
          "model_name": "DescriptionStyleModel",
          "model_module_version": "1.5.0",
          "state": {
            "_model_module": "@jupyter-widgets/controls",
            "_model_module_version": "1.5.0",
            "_model_name": "DescriptionStyleModel",
            "_view_count": null,
            "_view_module": "@jupyter-widgets/base",
            "_view_module_version": "1.2.0",
            "_view_name": "StyleView",
            "description_width": ""
          }
        },
        "9052e075997d488fbc6dbb2baf7982c5": {
          "model_module": "@jupyter-widgets/base",
          "model_name": "LayoutModel",
          "model_module_version": "1.2.0",
          "state": {
            "_model_module": "@jupyter-widgets/base",
            "_model_module_version": "1.2.0",
            "_model_name": "LayoutModel",
            "_view_count": null,
            "_view_module": "@jupyter-widgets/base",
            "_view_module_version": "1.2.0",
            "_view_name": "LayoutView",
            "align_content": null,
            "align_items": null,
            "align_self": null,
            "border": null,
            "bottom": null,
            "display": null,
            "flex": null,
            "flex_flow": null,
            "grid_area": null,
            "grid_auto_columns": null,
            "grid_auto_flow": null,
            "grid_auto_rows": null,
            "grid_column": null,
            "grid_gap": null,
            "grid_row": null,
            "grid_template_areas": null,
            "grid_template_columns": null,
            "grid_template_rows": null,
            "height": null,
            "justify_content": null,
            "justify_items": null,
            "left": null,
            "margin": null,
            "max_height": null,
            "max_width": null,
            "min_height": null,
            "min_width": null,
            "object_fit": null,
            "object_position": null,
            "order": null,
            "overflow": null,
            "overflow_x": null,
            "overflow_y": null,
            "padding": null,
            "right": null,
            "top": null,
            "visibility": null,
            "width": null
          }
        },
        "1f6f1a1d1ff54f8987b46da1a15aa06d": {
          "model_module": "@jupyter-widgets/controls",
          "model_name": "ProgressStyleModel",
          "model_module_version": "1.5.0",
          "state": {
            "_model_module": "@jupyter-widgets/controls",
            "_model_module_version": "1.5.0",
            "_model_name": "ProgressStyleModel",
            "_view_count": null,
            "_view_module": "@jupyter-widgets/base",
            "_view_module_version": "1.2.0",
            "_view_name": "StyleView",
            "bar_color": null,
            "description_width": ""
          }
        },
        "51b7578652174350a2b082d31c1c9a90": {
          "model_module": "@jupyter-widgets/base",
          "model_name": "LayoutModel",
          "model_module_version": "1.2.0",
          "state": {
            "_model_module": "@jupyter-widgets/base",
            "_model_module_version": "1.2.0",
            "_model_name": "LayoutModel",
            "_view_count": null,
            "_view_module": "@jupyter-widgets/base",
            "_view_module_version": "1.2.0",
            "_view_name": "LayoutView",
            "align_content": null,
            "align_items": null,
            "align_self": null,
            "border": null,
            "bottom": null,
            "display": null,
            "flex": null,
            "flex_flow": null,
            "grid_area": null,
            "grid_auto_columns": null,
            "grid_auto_flow": null,
            "grid_auto_rows": null,
            "grid_column": null,
            "grid_gap": null,
            "grid_row": null,
            "grid_template_areas": null,
            "grid_template_columns": null,
            "grid_template_rows": null,
            "height": null,
            "justify_content": null,
            "justify_items": null,
            "left": null,
            "margin": null,
            "max_height": null,
            "max_width": null,
            "min_height": null,
            "min_width": null,
            "object_fit": null,
            "object_position": null,
            "order": null,
            "overflow": null,
            "overflow_x": null,
            "overflow_y": null,
            "padding": null,
            "right": null,
            "top": null,
            "visibility": null,
            "width": null
          }
        },
        "09b6c2fef1e54c72912189cd56a00b5b": {
          "model_module": "@jupyter-widgets/controls",
          "model_name": "DescriptionStyleModel",
          "model_module_version": "1.5.0",
          "state": {
            "_model_module": "@jupyter-widgets/controls",
            "_model_module_version": "1.5.0",
            "_model_name": "DescriptionStyleModel",
            "_view_count": null,
            "_view_module": "@jupyter-widgets/base",
            "_view_module_version": "1.2.0",
            "_view_name": "StyleView",
            "description_width": ""
          }
        },
        "a263d51594024f39b9c8ee25bac2731e": {
          "model_module": "@jupyter-widgets/controls",
          "model_name": "HBoxModel",
          "model_module_version": "1.5.0",
          "state": {
            "_dom_classes": [],
            "_model_module": "@jupyter-widgets/controls",
            "_model_module_version": "1.5.0",
            "_model_name": "HBoxModel",
            "_view_count": null,
            "_view_module": "@jupyter-widgets/controls",
            "_view_module_version": "1.5.0",
            "_view_name": "HBoxView",
            "box_style": "",
            "children": [
              "IPY_MODEL_c7c9b7994fbe44f78ed7880db286df26",
              "IPY_MODEL_0a5bb3c4a5274c2f9325d79202517931",
              "IPY_MODEL_cc333c85253d4415a1bed2b6a48b2287"
            ],
            "layout": "IPY_MODEL_da1033b7a0994fa9a9cabe8268f8ebbe"
          }
        },
        "c7c9b7994fbe44f78ed7880db286df26": {
          "model_module": "@jupyter-widgets/controls",
          "model_name": "HTMLModel",
          "model_module_version": "1.5.0",
          "state": {
            "_dom_classes": [],
            "_model_module": "@jupyter-widgets/controls",
            "_model_module_version": "1.5.0",
            "_model_name": "HTMLModel",
            "_view_count": null,
            "_view_module": "@jupyter-widgets/controls",
            "_view_module_version": "1.5.0",
            "_view_name": "HTMLView",
            "description": "",
            "description_tooltip": null,
            "layout": "IPY_MODEL_7db192b9820944508899f85e5388ffe7",
            "placeholder": "​",
            "style": "IPY_MODEL_6c898712b23c4d69886ff57e7cdfc82f",
            "value": "Extracting data files: 100%"
          }
        },
        "0a5bb3c4a5274c2f9325d79202517931": {
          "model_module": "@jupyter-widgets/controls",
          "model_name": "FloatProgressModel",
          "model_module_version": "1.5.0",
          "state": {
            "_dom_classes": [],
            "_model_module": "@jupyter-widgets/controls",
            "_model_module_version": "1.5.0",
            "_model_name": "FloatProgressModel",
            "_view_count": null,
            "_view_module": "@jupyter-widgets/controls",
            "_view_module_version": "1.5.0",
            "_view_name": "ProgressView",
            "bar_style": "success",
            "description": "",
            "description_tooltip": null,
            "layout": "IPY_MODEL_147399e0f52747d6b698f34dcb4c8522",
            "max": 1,
            "min": 0,
            "orientation": "horizontal",
            "style": "IPY_MODEL_2341e0af819344c7bbaeac60c3aad1c5",
            "value": 1
          }
        },
        "cc333c85253d4415a1bed2b6a48b2287": {
          "model_module": "@jupyter-widgets/controls",
          "model_name": "HTMLModel",
          "model_module_version": "1.5.0",
          "state": {
            "_dom_classes": [],
            "_model_module": "@jupyter-widgets/controls",
            "_model_module_version": "1.5.0",
            "_model_name": "HTMLModel",
            "_view_count": null,
            "_view_module": "@jupyter-widgets/controls",
            "_view_module_version": "1.5.0",
            "_view_name": "HTMLView",
            "description": "",
            "description_tooltip": null,
            "layout": "IPY_MODEL_0b73fb1364504781969392308d20c79e",
            "placeholder": "​",
            "style": "IPY_MODEL_bfbfd28e7ea043eb91b7ca93414a5e09",
            "value": " 1/1 [00:00&lt;00:00, 50.35it/s]"
          }
        },
        "da1033b7a0994fa9a9cabe8268f8ebbe": {
          "model_module": "@jupyter-widgets/base",
          "model_name": "LayoutModel",
          "model_module_version": "1.2.0",
          "state": {
            "_model_module": "@jupyter-widgets/base",
            "_model_module_version": "1.2.0",
            "_model_name": "LayoutModel",
            "_view_count": null,
            "_view_module": "@jupyter-widgets/base",
            "_view_module_version": "1.2.0",
            "_view_name": "LayoutView",
            "align_content": null,
            "align_items": null,
            "align_self": null,
            "border": null,
            "bottom": null,
            "display": null,
            "flex": null,
            "flex_flow": null,
            "grid_area": null,
            "grid_auto_columns": null,
            "grid_auto_flow": null,
            "grid_auto_rows": null,
            "grid_column": null,
            "grid_gap": null,
            "grid_row": null,
            "grid_template_areas": null,
            "grid_template_columns": null,
            "grid_template_rows": null,
            "height": null,
            "justify_content": null,
            "justify_items": null,
            "left": null,
            "margin": null,
            "max_height": null,
            "max_width": null,
            "min_height": null,
            "min_width": null,
            "object_fit": null,
            "object_position": null,
            "order": null,
            "overflow": null,
            "overflow_x": null,
            "overflow_y": null,
            "padding": null,
            "right": null,
            "top": null,
            "visibility": null,
            "width": null
          }
        },
        "7db192b9820944508899f85e5388ffe7": {
          "model_module": "@jupyter-widgets/base",
          "model_name": "LayoutModel",
          "model_module_version": "1.2.0",
          "state": {
            "_model_module": "@jupyter-widgets/base",
            "_model_module_version": "1.2.0",
            "_model_name": "LayoutModel",
            "_view_count": null,
            "_view_module": "@jupyter-widgets/base",
            "_view_module_version": "1.2.0",
            "_view_name": "LayoutView",
            "align_content": null,
            "align_items": null,
            "align_self": null,
            "border": null,
            "bottom": null,
            "display": null,
            "flex": null,
            "flex_flow": null,
            "grid_area": null,
            "grid_auto_columns": null,
            "grid_auto_flow": null,
            "grid_auto_rows": null,
            "grid_column": null,
            "grid_gap": null,
            "grid_row": null,
            "grid_template_areas": null,
            "grid_template_columns": null,
            "grid_template_rows": null,
            "height": null,
            "justify_content": null,
            "justify_items": null,
            "left": null,
            "margin": null,
            "max_height": null,
            "max_width": null,
            "min_height": null,
            "min_width": null,
            "object_fit": null,
            "object_position": null,
            "order": null,
            "overflow": null,
            "overflow_x": null,
            "overflow_y": null,
            "padding": null,
            "right": null,
            "top": null,
            "visibility": null,
            "width": null
          }
        },
        "6c898712b23c4d69886ff57e7cdfc82f": {
          "model_module": "@jupyter-widgets/controls",
          "model_name": "DescriptionStyleModel",
          "model_module_version": "1.5.0",
          "state": {
            "_model_module": "@jupyter-widgets/controls",
            "_model_module_version": "1.5.0",
            "_model_name": "DescriptionStyleModel",
            "_view_count": null,
            "_view_module": "@jupyter-widgets/base",
            "_view_module_version": "1.2.0",
            "_view_name": "StyleView",
            "description_width": ""
          }
        },
        "147399e0f52747d6b698f34dcb4c8522": {
          "model_module": "@jupyter-widgets/base",
          "model_name": "LayoutModel",
          "model_module_version": "1.2.0",
          "state": {
            "_model_module": "@jupyter-widgets/base",
            "_model_module_version": "1.2.0",
            "_model_name": "LayoutModel",
            "_view_count": null,
            "_view_module": "@jupyter-widgets/base",
            "_view_module_version": "1.2.0",
            "_view_name": "LayoutView",
            "align_content": null,
            "align_items": null,
            "align_self": null,
            "border": null,
            "bottom": null,
            "display": null,
            "flex": null,
            "flex_flow": null,
            "grid_area": null,
            "grid_auto_columns": null,
            "grid_auto_flow": null,
            "grid_auto_rows": null,
            "grid_column": null,
            "grid_gap": null,
            "grid_row": null,
            "grid_template_areas": null,
            "grid_template_columns": null,
            "grid_template_rows": null,
            "height": null,
            "justify_content": null,
            "justify_items": null,
            "left": null,
            "margin": null,
            "max_height": null,
            "max_width": null,
            "min_height": null,
            "min_width": null,
            "object_fit": null,
            "object_position": null,
            "order": null,
            "overflow": null,
            "overflow_x": null,
            "overflow_y": null,
            "padding": null,
            "right": null,
            "top": null,
            "visibility": null,
            "width": null
          }
        },
        "2341e0af819344c7bbaeac60c3aad1c5": {
          "model_module": "@jupyter-widgets/controls",
          "model_name": "ProgressStyleModel",
          "model_module_version": "1.5.0",
          "state": {
            "_model_module": "@jupyter-widgets/controls",
            "_model_module_version": "1.5.0",
            "_model_name": "ProgressStyleModel",
            "_view_count": null,
            "_view_module": "@jupyter-widgets/base",
            "_view_module_version": "1.2.0",
            "_view_name": "StyleView",
            "bar_color": null,
            "description_width": ""
          }
        },
        "0b73fb1364504781969392308d20c79e": {
          "model_module": "@jupyter-widgets/base",
          "model_name": "LayoutModel",
          "model_module_version": "1.2.0",
          "state": {
            "_model_module": "@jupyter-widgets/base",
            "_model_module_version": "1.2.0",
            "_model_name": "LayoutModel",
            "_view_count": null,
            "_view_module": "@jupyter-widgets/base",
            "_view_module_version": "1.2.0",
            "_view_name": "LayoutView",
            "align_content": null,
            "align_items": null,
            "align_self": null,
            "border": null,
            "bottom": null,
            "display": null,
            "flex": null,
            "flex_flow": null,
            "grid_area": null,
            "grid_auto_columns": null,
            "grid_auto_flow": null,
            "grid_auto_rows": null,
            "grid_column": null,
            "grid_gap": null,
            "grid_row": null,
            "grid_template_areas": null,
            "grid_template_columns": null,
            "grid_template_rows": null,
            "height": null,
            "justify_content": null,
            "justify_items": null,
            "left": null,
            "margin": null,
            "max_height": null,
            "max_width": null,
            "min_height": null,
            "min_width": null,
            "object_fit": null,
            "object_position": null,
            "order": null,
            "overflow": null,
            "overflow_x": null,
            "overflow_y": null,
            "padding": null,
            "right": null,
            "top": null,
            "visibility": null,
            "width": null
          }
        },
        "bfbfd28e7ea043eb91b7ca93414a5e09": {
          "model_module": "@jupyter-widgets/controls",
          "model_name": "DescriptionStyleModel",
          "model_module_version": "1.5.0",
          "state": {
            "_model_module": "@jupyter-widgets/controls",
            "_model_module_version": "1.5.0",
            "_model_name": "DescriptionStyleModel",
            "_view_count": null,
            "_view_module": "@jupyter-widgets/base",
            "_view_module_version": "1.2.0",
            "_view_name": "StyleView",
            "description_width": ""
          }
        },
        "a2811e2c1a2147e1975a0fc85acb808f": {
          "model_module": "@jupyter-widgets/controls",
          "model_name": "HBoxModel",
          "model_module_version": "1.5.0",
          "state": {
            "_dom_classes": [],
            "_model_module": "@jupyter-widgets/controls",
            "_model_module_version": "1.5.0",
            "_model_name": "HBoxModel",
            "_view_count": null,
            "_view_module": "@jupyter-widgets/controls",
            "_view_module_version": "1.5.0",
            "_view_name": "HBoxView",
            "box_style": "",
            "children": [
              "IPY_MODEL_9d4866c596c74be3938d10812e6dab4b",
              "IPY_MODEL_a335f6a828324bdaac099553a638a6a6",
              "IPY_MODEL_a72a3c3663c0470789fe77e234c0c8a9"
            ],
            "layout": "IPY_MODEL_c643d74928e04502913110ed7aba34cd"
          }
        },
        "9d4866c596c74be3938d10812e6dab4b": {
          "model_module": "@jupyter-widgets/controls",
          "model_name": "HTMLModel",
          "model_module_version": "1.5.0",
          "state": {
            "_dom_classes": [],
            "_model_module": "@jupyter-widgets/controls",
            "_model_module_version": "1.5.0",
            "_model_name": "HTMLModel",
            "_view_count": null,
            "_view_module": "@jupyter-widgets/controls",
            "_view_module_version": "1.5.0",
            "_view_name": "HTMLView",
            "description": "",
            "description_tooltip": null,
            "layout": "IPY_MODEL_b02204bc461c4a4b91b2c82568d41cd4",
            "placeholder": "​",
            "style": "IPY_MODEL_b8a1c067ad4b42fc8020c079933cf2c0",
            "value": "Generating train split: "
          }
        },
        "a335f6a828324bdaac099553a638a6a6": {
          "model_module": "@jupyter-widgets/controls",
          "model_name": "FloatProgressModel",
          "model_module_version": "1.5.0",
          "state": {
            "_dom_classes": [],
            "_model_module": "@jupyter-widgets/controls",
            "_model_module_version": "1.5.0",
            "_model_name": "FloatProgressModel",
            "_view_count": null,
            "_view_module": "@jupyter-widgets/controls",
            "_view_module_version": "1.5.0",
            "_view_name": "ProgressView",
            "bar_style": "info",
            "description": "",
            "description_tooltip": null,
            "layout": "IPY_MODEL_7d1ba9f78b7340609ad96a78fc4a2806",
            "max": 1,
            "min": 0,
            "orientation": "horizontal",
            "style": "IPY_MODEL_9b344a16790b48f6a8f6bd4d789b4229",
            "value": 1
          }
        },
        "a72a3c3663c0470789fe77e234c0c8a9": {
          "model_module": "@jupyter-widgets/controls",
          "model_name": "HTMLModel",
          "model_module_version": "1.5.0",
          "state": {
            "_dom_classes": [],
            "_model_module": "@jupyter-widgets/controls",
            "_model_module_version": "1.5.0",
            "_model_name": "HTMLModel",
            "_view_count": null,
            "_view_module": "@jupyter-widgets/controls",
            "_view_module_version": "1.5.0",
            "_view_name": "HTMLView",
            "description": "",
            "description_tooltip": null,
            "layout": "IPY_MODEL_9fb8a261e2e548ff964f6bef789b9f5b",
            "placeholder": "​",
            "style": "IPY_MODEL_a21589a3f516431a9c350b2c1b23af36",
            "value": " 0/0 [00:00&lt;?, ? examples/s]"
          }
        },
        "c643d74928e04502913110ed7aba34cd": {
          "model_module": "@jupyter-widgets/base",
          "model_name": "LayoutModel",
          "model_module_version": "1.2.0",
          "state": {
            "_model_module": "@jupyter-widgets/base",
            "_model_module_version": "1.2.0",
            "_model_name": "LayoutModel",
            "_view_count": null,
            "_view_module": "@jupyter-widgets/base",
            "_view_module_version": "1.2.0",
            "_view_name": "LayoutView",
            "align_content": null,
            "align_items": null,
            "align_self": null,
            "border": null,
            "bottom": null,
            "display": null,
            "flex": null,
            "flex_flow": null,
            "grid_area": null,
            "grid_auto_columns": null,
            "grid_auto_flow": null,
            "grid_auto_rows": null,
            "grid_column": null,
            "grid_gap": null,
            "grid_row": null,
            "grid_template_areas": null,
            "grid_template_columns": null,
            "grid_template_rows": null,
            "height": null,
            "justify_content": null,
            "justify_items": null,
            "left": null,
            "margin": null,
            "max_height": null,
            "max_width": null,
            "min_height": null,
            "min_width": null,
            "object_fit": null,
            "object_position": null,
            "order": null,
            "overflow": null,
            "overflow_x": null,
            "overflow_y": null,
            "padding": null,
            "right": null,
            "top": null,
            "visibility": "hidden",
            "width": null
          }
        },
        "b02204bc461c4a4b91b2c82568d41cd4": {
          "model_module": "@jupyter-widgets/base",
          "model_name": "LayoutModel",
          "model_module_version": "1.2.0",
          "state": {
            "_model_module": "@jupyter-widgets/base",
            "_model_module_version": "1.2.0",
            "_model_name": "LayoutModel",
            "_view_count": null,
            "_view_module": "@jupyter-widgets/base",
            "_view_module_version": "1.2.0",
            "_view_name": "LayoutView",
            "align_content": null,
            "align_items": null,
            "align_self": null,
            "border": null,
            "bottom": null,
            "display": null,
            "flex": null,
            "flex_flow": null,
            "grid_area": null,
            "grid_auto_columns": null,
            "grid_auto_flow": null,
            "grid_auto_rows": null,
            "grid_column": null,
            "grid_gap": null,
            "grid_row": null,
            "grid_template_areas": null,
            "grid_template_columns": null,
            "grid_template_rows": null,
            "height": null,
            "justify_content": null,
            "justify_items": null,
            "left": null,
            "margin": null,
            "max_height": null,
            "max_width": null,
            "min_height": null,
            "min_width": null,
            "object_fit": null,
            "object_position": null,
            "order": null,
            "overflow": null,
            "overflow_x": null,
            "overflow_y": null,
            "padding": null,
            "right": null,
            "top": null,
            "visibility": null,
            "width": null
          }
        },
        "b8a1c067ad4b42fc8020c079933cf2c0": {
          "model_module": "@jupyter-widgets/controls",
          "model_name": "DescriptionStyleModel",
          "model_module_version": "1.5.0",
          "state": {
            "_model_module": "@jupyter-widgets/controls",
            "_model_module_version": "1.5.0",
            "_model_name": "DescriptionStyleModel",
            "_view_count": null,
            "_view_module": "@jupyter-widgets/base",
            "_view_module_version": "1.2.0",
            "_view_name": "StyleView",
            "description_width": ""
          }
        },
        "7d1ba9f78b7340609ad96a78fc4a2806": {
          "model_module": "@jupyter-widgets/base",
          "model_name": "LayoutModel",
          "model_module_version": "1.2.0",
          "state": {
            "_model_module": "@jupyter-widgets/base",
            "_model_module_version": "1.2.0",
            "_model_name": "LayoutModel",
            "_view_count": null,
            "_view_module": "@jupyter-widgets/base",
            "_view_module_version": "1.2.0",
            "_view_name": "LayoutView",
            "align_content": null,
            "align_items": null,
            "align_self": null,
            "border": null,
            "bottom": null,
            "display": null,
            "flex": null,
            "flex_flow": null,
            "grid_area": null,
            "grid_auto_columns": null,
            "grid_auto_flow": null,
            "grid_auto_rows": null,
            "grid_column": null,
            "grid_gap": null,
            "grid_row": null,
            "grid_template_areas": null,
            "grid_template_columns": null,
            "grid_template_rows": null,
            "height": null,
            "justify_content": null,
            "justify_items": null,
            "left": null,
            "margin": null,
            "max_height": null,
            "max_width": null,
            "min_height": null,
            "min_width": null,
            "object_fit": null,
            "object_position": null,
            "order": null,
            "overflow": null,
            "overflow_x": null,
            "overflow_y": null,
            "padding": null,
            "right": null,
            "top": null,
            "visibility": null,
            "width": "20px"
          }
        },
        "9b344a16790b48f6a8f6bd4d789b4229": {
          "model_module": "@jupyter-widgets/controls",
          "model_name": "ProgressStyleModel",
          "model_module_version": "1.5.0",
          "state": {
            "_model_module": "@jupyter-widgets/controls",
            "_model_module_version": "1.5.0",
            "_model_name": "ProgressStyleModel",
            "_view_count": null,
            "_view_module": "@jupyter-widgets/base",
            "_view_module_version": "1.2.0",
            "_view_name": "StyleView",
            "bar_color": null,
            "description_width": ""
          }
        },
        "9fb8a261e2e548ff964f6bef789b9f5b": {
          "model_module": "@jupyter-widgets/base",
          "model_name": "LayoutModel",
          "model_module_version": "1.2.0",
          "state": {
            "_model_module": "@jupyter-widgets/base",
            "_model_module_version": "1.2.0",
            "_model_name": "LayoutModel",
            "_view_count": null,
            "_view_module": "@jupyter-widgets/base",
            "_view_module_version": "1.2.0",
            "_view_name": "LayoutView",
            "align_content": null,
            "align_items": null,
            "align_self": null,
            "border": null,
            "bottom": null,
            "display": null,
            "flex": null,
            "flex_flow": null,
            "grid_area": null,
            "grid_auto_columns": null,
            "grid_auto_flow": null,
            "grid_auto_rows": null,
            "grid_column": null,
            "grid_gap": null,
            "grid_row": null,
            "grid_template_areas": null,
            "grid_template_columns": null,
            "grid_template_rows": null,
            "height": null,
            "justify_content": null,
            "justify_items": null,
            "left": null,
            "margin": null,
            "max_height": null,
            "max_width": null,
            "min_height": null,
            "min_width": null,
            "object_fit": null,
            "object_position": null,
            "order": null,
            "overflow": null,
            "overflow_x": null,
            "overflow_y": null,
            "padding": null,
            "right": null,
            "top": null,
            "visibility": null,
            "width": null
          }
        },
        "a21589a3f516431a9c350b2c1b23af36": {
          "model_module": "@jupyter-widgets/controls",
          "model_name": "DescriptionStyleModel",
          "model_module_version": "1.5.0",
          "state": {
            "_model_module": "@jupyter-widgets/controls",
            "_model_module_version": "1.5.0",
            "_model_name": "DescriptionStyleModel",
            "_view_count": null,
            "_view_module": "@jupyter-widgets/base",
            "_view_module_version": "1.2.0",
            "_view_name": "StyleView",
            "description_width": ""
          }
        },
        "894fa485bd8a40f58f97b9ce1a898ef1": {
          "model_module": "@jupyter-widgets/controls",
          "model_name": "HBoxModel",
          "model_module_version": "1.5.0",
          "state": {
            "_dom_classes": [],
            "_model_module": "@jupyter-widgets/controls",
            "_model_module_version": "1.5.0",
            "_model_name": "HBoxModel",
            "_view_count": null,
            "_view_module": "@jupyter-widgets/controls",
            "_view_module_version": "1.5.0",
            "_view_name": "HBoxView",
            "box_style": "",
            "children": [
              "IPY_MODEL_282487a4729845fa967099ced06b0b2f",
              "IPY_MODEL_b3b5d6b6d7f44c93a433cb9a341e996a",
              "IPY_MODEL_0d98c77a52974f2ca81d058cfd4a0f42"
            ],
            "layout": "IPY_MODEL_a5d5aeb9e1db4ed9b905fed28074a0e8"
          }
        },
        "282487a4729845fa967099ced06b0b2f": {
          "model_module": "@jupyter-widgets/controls",
          "model_name": "HTMLModel",
          "model_module_version": "1.5.0",
          "state": {
            "_dom_classes": [],
            "_model_module": "@jupyter-widgets/controls",
            "_model_module_version": "1.5.0",
            "_model_name": "HTMLModel",
            "_view_count": null,
            "_view_module": "@jupyter-widgets/controls",
            "_view_module_version": "1.5.0",
            "_view_name": "HTMLView",
            "description": "",
            "description_tooltip": null,
            "layout": "IPY_MODEL_0e45dc8811d047ffa50199d57790d99b",
            "placeholder": "​",
            "style": "IPY_MODEL_b09909493f7b44e1b8705ee0bd27d12b",
            "value": "Downloading data files: 100%"
          }
        },
        "b3b5d6b6d7f44c93a433cb9a341e996a": {
          "model_module": "@jupyter-widgets/controls",
          "model_name": "FloatProgressModel",
          "model_module_version": "1.5.0",
          "state": {
            "_dom_classes": [],
            "_model_module": "@jupyter-widgets/controls",
            "_model_module_version": "1.5.0",
            "_model_name": "FloatProgressModel",
            "_view_count": null,
            "_view_module": "@jupyter-widgets/controls",
            "_view_module_version": "1.5.0",
            "_view_name": "ProgressView",
            "bar_style": "success",
            "description": "",
            "description_tooltip": null,
            "layout": "IPY_MODEL_3f188bf285be4cc1b9188219077e15ed",
            "max": 1,
            "min": 0,
            "orientation": "horizontal",
            "style": "IPY_MODEL_34ef2497e4044fa3bd14f840f94e54c3",
            "value": 1
          }
        },
        "0d98c77a52974f2ca81d058cfd4a0f42": {
          "model_module": "@jupyter-widgets/controls",
          "model_name": "HTMLModel",
          "model_module_version": "1.5.0",
          "state": {
            "_dom_classes": [],
            "_model_module": "@jupyter-widgets/controls",
            "_model_module_version": "1.5.0",
            "_model_name": "HTMLModel",
            "_view_count": null,
            "_view_module": "@jupyter-widgets/controls",
            "_view_module_version": "1.5.0",
            "_view_name": "HTMLView",
            "description": "",
            "description_tooltip": null,
            "layout": "IPY_MODEL_2feaa502b4d04db192d027067b7d076f",
            "placeholder": "​",
            "style": "IPY_MODEL_59f80afc237249d69b1eb4e7f689ec89",
            "value": " 1/1 [00:00&lt;00:00, 71.12it/s]"
          }
        },
        "a5d5aeb9e1db4ed9b905fed28074a0e8": {
          "model_module": "@jupyter-widgets/base",
          "model_name": "LayoutModel",
          "model_module_version": "1.2.0",
          "state": {
            "_model_module": "@jupyter-widgets/base",
            "_model_module_version": "1.2.0",
            "_model_name": "LayoutModel",
            "_view_count": null,
            "_view_module": "@jupyter-widgets/base",
            "_view_module_version": "1.2.0",
            "_view_name": "LayoutView",
            "align_content": null,
            "align_items": null,
            "align_self": null,
            "border": null,
            "bottom": null,
            "display": null,
            "flex": null,
            "flex_flow": null,
            "grid_area": null,
            "grid_auto_columns": null,
            "grid_auto_flow": null,
            "grid_auto_rows": null,
            "grid_column": null,
            "grid_gap": null,
            "grid_row": null,
            "grid_template_areas": null,
            "grid_template_columns": null,
            "grid_template_rows": null,
            "height": null,
            "justify_content": null,
            "justify_items": null,
            "left": null,
            "margin": null,
            "max_height": null,
            "max_width": null,
            "min_height": null,
            "min_width": null,
            "object_fit": null,
            "object_position": null,
            "order": null,
            "overflow": null,
            "overflow_x": null,
            "overflow_y": null,
            "padding": null,
            "right": null,
            "top": null,
            "visibility": null,
            "width": null
          }
        },
        "0e45dc8811d047ffa50199d57790d99b": {
          "model_module": "@jupyter-widgets/base",
          "model_name": "LayoutModel",
          "model_module_version": "1.2.0",
          "state": {
            "_model_module": "@jupyter-widgets/base",
            "_model_module_version": "1.2.0",
            "_model_name": "LayoutModel",
            "_view_count": null,
            "_view_module": "@jupyter-widgets/base",
            "_view_module_version": "1.2.0",
            "_view_name": "LayoutView",
            "align_content": null,
            "align_items": null,
            "align_self": null,
            "border": null,
            "bottom": null,
            "display": null,
            "flex": null,
            "flex_flow": null,
            "grid_area": null,
            "grid_auto_columns": null,
            "grid_auto_flow": null,
            "grid_auto_rows": null,
            "grid_column": null,
            "grid_gap": null,
            "grid_row": null,
            "grid_template_areas": null,
            "grid_template_columns": null,
            "grid_template_rows": null,
            "height": null,
            "justify_content": null,
            "justify_items": null,
            "left": null,
            "margin": null,
            "max_height": null,
            "max_width": null,
            "min_height": null,
            "min_width": null,
            "object_fit": null,
            "object_position": null,
            "order": null,
            "overflow": null,
            "overflow_x": null,
            "overflow_y": null,
            "padding": null,
            "right": null,
            "top": null,
            "visibility": null,
            "width": null
          }
        },
        "b09909493f7b44e1b8705ee0bd27d12b": {
          "model_module": "@jupyter-widgets/controls",
          "model_name": "DescriptionStyleModel",
          "model_module_version": "1.5.0",
          "state": {
            "_model_module": "@jupyter-widgets/controls",
            "_model_module_version": "1.5.0",
            "_model_name": "DescriptionStyleModel",
            "_view_count": null,
            "_view_module": "@jupyter-widgets/base",
            "_view_module_version": "1.2.0",
            "_view_name": "StyleView",
            "description_width": ""
          }
        },
        "3f188bf285be4cc1b9188219077e15ed": {
          "model_module": "@jupyter-widgets/base",
          "model_name": "LayoutModel",
          "model_module_version": "1.2.0",
          "state": {
            "_model_module": "@jupyter-widgets/base",
            "_model_module_version": "1.2.0",
            "_model_name": "LayoutModel",
            "_view_count": null,
            "_view_module": "@jupyter-widgets/base",
            "_view_module_version": "1.2.0",
            "_view_name": "LayoutView",
            "align_content": null,
            "align_items": null,
            "align_self": null,
            "border": null,
            "bottom": null,
            "display": null,
            "flex": null,
            "flex_flow": null,
            "grid_area": null,
            "grid_auto_columns": null,
            "grid_auto_flow": null,
            "grid_auto_rows": null,
            "grid_column": null,
            "grid_gap": null,
            "grid_row": null,
            "grid_template_areas": null,
            "grid_template_columns": null,
            "grid_template_rows": null,
            "height": null,
            "justify_content": null,
            "justify_items": null,
            "left": null,
            "margin": null,
            "max_height": null,
            "max_width": null,
            "min_height": null,
            "min_width": null,
            "object_fit": null,
            "object_position": null,
            "order": null,
            "overflow": null,
            "overflow_x": null,
            "overflow_y": null,
            "padding": null,
            "right": null,
            "top": null,
            "visibility": null,
            "width": null
          }
        },
        "34ef2497e4044fa3bd14f840f94e54c3": {
          "model_module": "@jupyter-widgets/controls",
          "model_name": "ProgressStyleModel",
          "model_module_version": "1.5.0",
          "state": {
            "_model_module": "@jupyter-widgets/controls",
            "_model_module_version": "1.5.0",
            "_model_name": "ProgressStyleModel",
            "_view_count": null,
            "_view_module": "@jupyter-widgets/base",
            "_view_module_version": "1.2.0",
            "_view_name": "StyleView",
            "bar_color": null,
            "description_width": ""
          }
        },
        "2feaa502b4d04db192d027067b7d076f": {
          "model_module": "@jupyter-widgets/base",
          "model_name": "LayoutModel",
          "model_module_version": "1.2.0",
          "state": {
            "_model_module": "@jupyter-widgets/base",
            "_model_module_version": "1.2.0",
            "_model_name": "LayoutModel",
            "_view_count": null,
            "_view_module": "@jupyter-widgets/base",
            "_view_module_version": "1.2.0",
            "_view_name": "LayoutView",
            "align_content": null,
            "align_items": null,
            "align_self": null,
            "border": null,
            "bottom": null,
            "display": null,
            "flex": null,
            "flex_flow": null,
            "grid_area": null,
            "grid_auto_columns": null,
            "grid_auto_flow": null,
            "grid_auto_rows": null,
            "grid_column": null,
            "grid_gap": null,
            "grid_row": null,
            "grid_template_areas": null,
            "grid_template_columns": null,
            "grid_template_rows": null,
            "height": null,
            "justify_content": null,
            "justify_items": null,
            "left": null,
            "margin": null,
            "max_height": null,
            "max_width": null,
            "min_height": null,
            "min_width": null,
            "object_fit": null,
            "object_position": null,
            "order": null,
            "overflow": null,
            "overflow_x": null,
            "overflow_y": null,
            "padding": null,
            "right": null,
            "top": null,
            "visibility": null,
            "width": null
          }
        },
        "59f80afc237249d69b1eb4e7f689ec89": {
          "model_module": "@jupyter-widgets/controls",
          "model_name": "DescriptionStyleModel",
          "model_module_version": "1.5.0",
          "state": {
            "_model_module": "@jupyter-widgets/controls",
            "_model_module_version": "1.5.0",
            "_model_name": "DescriptionStyleModel",
            "_view_count": null,
            "_view_module": "@jupyter-widgets/base",
            "_view_module_version": "1.2.0",
            "_view_name": "StyleView",
            "description_width": ""
          }
        },
        "a54cc973d7ae40debfdb2bfd091c63d5": {
          "model_module": "@jupyter-widgets/controls",
          "model_name": "HBoxModel",
          "model_module_version": "1.5.0",
          "state": {
            "_dom_classes": [],
            "_model_module": "@jupyter-widgets/controls",
            "_model_module_version": "1.5.0",
            "_model_name": "HBoxModel",
            "_view_count": null,
            "_view_module": "@jupyter-widgets/controls",
            "_view_module_version": "1.5.0",
            "_view_name": "HBoxView",
            "box_style": "",
            "children": [
              "IPY_MODEL_fb57c6eabef64a3daff6ffcba2d66a32",
              "IPY_MODEL_8ea507dd766e48e5842ed219b249920d",
              "IPY_MODEL_65c705ff3b8247e9a6fdc092e36f1a6b"
            ],
            "layout": "IPY_MODEL_e64b94f1fb064bd284cbb1b0ec8ea7c4"
          }
        },
        "fb57c6eabef64a3daff6ffcba2d66a32": {
          "model_module": "@jupyter-widgets/controls",
          "model_name": "HTMLModel",
          "model_module_version": "1.5.0",
          "state": {
            "_dom_classes": [],
            "_model_module": "@jupyter-widgets/controls",
            "_model_module_version": "1.5.0",
            "_model_name": "HTMLModel",
            "_view_count": null,
            "_view_module": "@jupyter-widgets/controls",
            "_view_module_version": "1.5.0",
            "_view_name": "HTMLView",
            "description": "",
            "description_tooltip": null,
            "layout": "IPY_MODEL_afb5b98510104b20afc6a616713a55fe",
            "placeholder": "​",
            "style": "IPY_MODEL_5c520fe134374612856ae9f9ed4a73da",
            "value": "Extracting data files: 100%"
          }
        },
        "8ea507dd766e48e5842ed219b249920d": {
          "model_module": "@jupyter-widgets/controls",
          "model_name": "FloatProgressModel",
          "model_module_version": "1.5.0",
          "state": {
            "_dom_classes": [],
            "_model_module": "@jupyter-widgets/controls",
            "_model_module_version": "1.5.0",
            "_model_name": "FloatProgressModel",
            "_view_count": null,
            "_view_module": "@jupyter-widgets/controls",
            "_view_module_version": "1.5.0",
            "_view_name": "ProgressView",
            "bar_style": "success",
            "description": "",
            "description_tooltip": null,
            "layout": "IPY_MODEL_a7f19e377d934ae594bd62f97116b919",
            "max": 1,
            "min": 0,
            "orientation": "horizontal",
            "style": "IPY_MODEL_12bf7e868a7740a9923f4a89e692de97",
            "value": 1
          }
        },
        "65c705ff3b8247e9a6fdc092e36f1a6b": {
          "model_module": "@jupyter-widgets/controls",
          "model_name": "HTMLModel",
          "model_module_version": "1.5.0",
          "state": {
            "_dom_classes": [],
            "_model_module": "@jupyter-widgets/controls",
            "_model_module_version": "1.5.0",
            "_model_name": "HTMLModel",
            "_view_count": null,
            "_view_module": "@jupyter-widgets/controls",
            "_view_module_version": "1.5.0",
            "_view_name": "HTMLView",
            "description": "",
            "description_tooltip": null,
            "layout": "IPY_MODEL_77bb622c817645538c00219053da780e",
            "placeholder": "​",
            "style": "IPY_MODEL_1a015019e43049a49a708d96b8475749",
            "value": " 1/1 [00:00&lt;00:00, 52.92it/s]"
          }
        },
        "e64b94f1fb064bd284cbb1b0ec8ea7c4": {
          "model_module": "@jupyter-widgets/base",
          "model_name": "LayoutModel",
          "model_module_version": "1.2.0",
          "state": {
            "_model_module": "@jupyter-widgets/base",
            "_model_module_version": "1.2.0",
            "_model_name": "LayoutModel",
            "_view_count": null,
            "_view_module": "@jupyter-widgets/base",
            "_view_module_version": "1.2.0",
            "_view_name": "LayoutView",
            "align_content": null,
            "align_items": null,
            "align_self": null,
            "border": null,
            "bottom": null,
            "display": null,
            "flex": null,
            "flex_flow": null,
            "grid_area": null,
            "grid_auto_columns": null,
            "grid_auto_flow": null,
            "grid_auto_rows": null,
            "grid_column": null,
            "grid_gap": null,
            "grid_row": null,
            "grid_template_areas": null,
            "grid_template_columns": null,
            "grid_template_rows": null,
            "height": null,
            "justify_content": null,
            "justify_items": null,
            "left": null,
            "margin": null,
            "max_height": null,
            "max_width": null,
            "min_height": null,
            "min_width": null,
            "object_fit": null,
            "object_position": null,
            "order": null,
            "overflow": null,
            "overflow_x": null,
            "overflow_y": null,
            "padding": null,
            "right": null,
            "top": null,
            "visibility": null,
            "width": null
          }
        },
        "afb5b98510104b20afc6a616713a55fe": {
          "model_module": "@jupyter-widgets/base",
          "model_name": "LayoutModel",
          "model_module_version": "1.2.0",
          "state": {
            "_model_module": "@jupyter-widgets/base",
            "_model_module_version": "1.2.0",
            "_model_name": "LayoutModel",
            "_view_count": null,
            "_view_module": "@jupyter-widgets/base",
            "_view_module_version": "1.2.0",
            "_view_name": "LayoutView",
            "align_content": null,
            "align_items": null,
            "align_self": null,
            "border": null,
            "bottom": null,
            "display": null,
            "flex": null,
            "flex_flow": null,
            "grid_area": null,
            "grid_auto_columns": null,
            "grid_auto_flow": null,
            "grid_auto_rows": null,
            "grid_column": null,
            "grid_gap": null,
            "grid_row": null,
            "grid_template_areas": null,
            "grid_template_columns": null,
            "grid_template_rows": null,
            "height": null,
            "justify_content": null,
            "justify_items": null,
            "left": null,
            "margin": null,
            "max_height": null,
            "max_width": null,
            "min_height": null,
            "min_width": null,
            "object_fit": null,
            "object_position": null,
            "order": null,
            "overflow": null,
            "overflow_x": null,
            "overflow_y": null,
            "padding": null,
            "right": null,
            "top": null,
            "visibility": null,
            "width": null
          }
        },
        "5c520fe134374612856ae9f9ed4a73da": {
          "model_module": "@jupyter-widgets/controls",
          "model_name": "DescriptionStyleModel",
          "model_module_version": "1.5.0",
          "state": {
            "_model_module": "@jupyter-widgets/controls",
            "_model_module_version": "1.5.0",
            "_model_name": "DescriptionStyleModel",
            "_view_count": null,
            "_view_module": "@jupyter-widgets/base",
            "_view_module_version": "1.2.0",
            "_view_name": "StyleView",
            "description_width": ""
          }
        },
        "a7f19e377d934ae594bd62f97116b919": {
          "model_module": "@jupyter-widgets/base",
          "model_name": "LayoutModel",
          "model_module_version": "1.2.0",
          "state": {
            "_model_module": "@jupyter-widgets/base",
            "_model_module_version": "1.2.0",
            "_model_name": "LayoutModel",
            "_view_count": null,
            "_view_module": "@jupyter-widgets/base",
            "_view_module_version": "1.2.0",
            "_view_name": "LayoutView",
            "align_content": null,
            "align_items": null,
            "align_self": null,
            "border": null,
            "bottom": null,
            "display": null,
            "flex": null,
            "flex_flow": null,
            "grid_area": null,
            "grid_auto_columns": null,
            "grid_auto_flow": null,
            "grid_auto_rows": null,
            "grid_column": null,
            "grid_gap": null,
            "grid_row": null,
            "grid_template_areas": null,
            "grid_template_columns": null,
            "grid_template_rows": null,
            "height": null,
            "justify_content": null,
            "justify_items": null,
            "left": null,
            "margin": null,
            "max_height": null,
            "max_width": null,
            "min_height": null,
            "min_width": null,
            "object_fit": null,
            "object_position": null,
            "order": null,
            "overflow": null,
            "overflow_x": null,
            "overflow_y": null,
            "padding": null,
            "right": null,
            "top": null,
            "visibility": null,
            "width": null
          }
        },
        "12bf7e868a7740a9923f4a89e692de97": {
          "model_module": "@jupyter-widgets/controls",
          "model_name": "ProgressStyleModel",
          "model_module_version": "1.5.0",
          "state": {
            "_model_module": "@jupyter-widgets/controls",
            "_model_module_version": "1.5.0",
            "_model_name": "ProgressStyleModel",
            "_view_count": null,
            "_view_module": "@jupyter-widgets/base",
            "_view_module_version": "1.2.0",
            "_view_name": "StyleView",
            "bar_color": null,
            "description_width": ""
          }
        },
        "77bb622c817645538c00219053da780e": {
          "model_module": "@jupyter-widgets/base",
          "model_name": "LayoutModel",
          "model_module_version": "1.2.0",
          "state": {
            "_model_module": "@jupyter-widgets/base",
            "_model_module_version": "1.2.0",
            "_model_name": "LayoutModel",
            "_view_count": null,
            "_view_module": "@jupyter-widgets/base",
            "_view_module_version": "1.2.0",
            "_view_name": "LayoutView",
            "align_content": null,
            "align_items": null,
            "align_self": null,
            "border": null,
            "bottom": null,
            "display": null,
            "flex": null,
            "flex_flow": null,
            "grid_area": null,
            "grid_auto_columns": null,
            "grid_auto_flow": null,
            "grid_auto_rows": null,
            "grid_column": null,
            "grid_gap": null,
            "grid_row": null,
            "grid_template_areas": null,
            "grid_template_columns": null,
            "grid_template_rows": null,
            "height": null,
            "justify_content": null,
            "justify_items": null,
            "left": null,
            "margin": null,
            "max_height": null,
            "max_width": null,
            "min_height": null,
            "min_width": null,
            "object_fit": null,
            "object_position": null,
            "order": null,
            "overflow": null,
            "overflow_x": null,
            "overflow_y": null,
            "padding": null,
            "right": null,
            "top": null,
            "visibility": null,
            "width": null
          }
        },
        "1a015019e43049a49a708d96b8475749": {
          "model_module": "@jupyter-widgets/controls",
          "model_name": "DescriptionStyleModel",
          "model_module_version": "1.5.0",
          "state": {
            "_model_module": "@jupyter-widgets/controls",
            "_model_module_version": "1.5.0",
            "_model_name": "DescriptionStyleModel",
            "_view_count": null,
            "_view_module": "@jupyter-widgets/base",
            "_view_module_version": "1.2.0",
            "_view_name": "StyleView",
            "description_width": ""
          }
        },
        "5ac0fa651cb64fde82a2e37a18206360": {
          "model_module": "@jupyter-widgets/controls",
          "model_name": "HBoxModel",
          "model_module_version": "1.5.0",
          "state": {
            "_dom_classes": [],
            "_model_module": "@jupyter-widgets/controls",
            "_model_module_version": "1.5.0",
            "_model_name": "HBoxModel",
            "_view_count": null,
            "_view_module": "@jupyter-widgets/controls",
            "_view_module_version": "1.5.0",
            "_view_name": "HBoxView",
            "box_style": "",
            "children": [
              "IPY_MODEL_e47adfdf04194d40b2d826f805402f92",
              "IPY_MODEL_aa27604eda3f43d39c5216efd035b803",
              "IPY_MODEL_ce9206ce0c31478faa91cb0f7bcf4cd8"
            ],
            "layout": "IPY_MODEL_ac633120509a436f9add1f1734ff44bc"
          }
        },
        "e47adfdf04194d40b2d826f805402f92": {
          "model_module": "@jupyter-widgets/controls",
          "model_name": "HTMLModel",
          "model_module_version": "1.5.0",
          "state": {
            "_dom_classes": [],
            "_model_module": "@jupyter-widgets/controls",
            "_model_module_version": "1.5.0",
            "_model_name": "HTMLModel",
            "_view_count": null,
            "_view_module": "@jupyter-widgets/controls",
            "_view_module_version": "1.5.0",
            "_view_name": "HTMLView",
            "description": "",
            "description_tooltip": null,
            "layout": "IPY_MODEL_25ee526f43b34c19a899760839552fc2",
            "placeholder": "​",
            "style": "IPY_MODEL_351794b2f3e34ff1ae45b3836bae2402",
            "value": "Generating train split: "
          }
        },
        "aa27604eda3f43d39c5216efd035b803": {
          "model_module": "@jupyter-widgets/controls",
          "model_name": "FloatProgressModel",
          "model_module_version": "1.5.0",
          "state": {
            "_dom_classes": [],
            "_model_module": "@jupyter-widgets/controls",
            "_model_module_version": "1.5.0",
            "_model_name": "FloatProgressModel",
            "_view_count": null,
            "_view_module": "@jupyter-widgets/controls",
            "_view_module_version": "1.5.0",
            "_view_name": "ProgressView",
            "bar_style": "info",
            "description": "",
            "description_tooltip": null,
            "layout": "IPY_MODEL_5b31c0bc5c99447591d122ca1980a347",
            "max": 1,
            "min": 0,
            "orientation": "horizontal",
            "style": "IPY_MODEL_506ad1dbb7de441588851e47bffeee55",
            "value": 1
          }
        },
        "ce9206ce0c31478faa91cb0f7bcf4cd8": {
          "model_module": "@jupyter-widgets/controls",
          "model_name": "HTMLModel",
          "model_module_version": "1.5.0",
          "state": {
            "_dom_classes": [],
            "_model_module": "@jupyter-widgets/controls",
            "_model_module_version": "1.5.0",
            "_model_name": "HTMLModel",
            "_view_count": null,
            "_view_module": "@jupyter-widgets/controls",
            "_view_module_version": "1.5.0",
            "_view_name": "HTMLView",
            "description": "",
            "description_tooltip": null,
            "layout": "IPY_MODEL_93fa1357b7ad4fd19683158e15c0ffc1",
            "placeholder": "​",
            "style": "IPY_MODEL_19a6429f8b874af9b702a6981d9471a6",
            "value": " 0/0 [00:00&lt;?, ? examples/s]"
          }
        },
        "ac633120509a436f9add1f1734ff44bc": {
          "model_module": "@jupyter-widgets/base",
          "model_name": "LayoutModel",
          "model_module_version": "1.2.0",
          "state": {
            "_model_module": "@jupyter-widgets/base",
            "_model_module_version": "1.2.0",
            "_model_name": "LayoutModel",
            "_view_count": null,
            "_view_module": "@jupyter-widgets/base",
            "_view_module_version": "1.2.0",
            "_view_name": "LayoutView",
            "align_content": null,
            "align_items": null,
            "align_self": null,
            "border": null,
            "bottom": null,
            "display": null,
            "flex": null,
            "flex_flow": null,
            "grid_area": null,
            "grid_auto_columns": null,
            "grid_auto_flow": null,
            "grid_auto_rows": null,
            "grid_column": null,
            "grid_gap": null,
            "grid_row": null,
            "grid_template_areas": null,
            "grid_template_columns": null,
            "grid_template_rows": null,
            "height": null,
            "justify_content": null,
            "justify_items": null,
            "left": null,
            "margin": null,
            "max_height": null,
            "max_width": null,
            "min_height": null,
            "min_width": null,
            "object_fit": null,
            "object_position": null,
            "order": null,
            "overflow": null,
            "overflow_x": null,
            "overflow_y": null,
            "padding": null,
            "right": null,
            "top": null,
            "visibility": "hidden",
            "width": null
          }
        },
        "25ee526f43b34c19a899760839552fc2": {
          "model_module": "@jupyter-widgets/base",
          "model_name": "LayoutModel",
          "model_module_version": "1.2.0",
          "state": {
            "_model_module": "@jupyter-widgets/base",
            "_model_module_version": "1.2.0",
            "_model_name": "LayoutModel",
            "_view_count": null,
            "_view_module": "@jupyter-widgets/base",
            "_view_module_version": "1.2.0",
            "_view_name": "LayoutView",
            "align_content": null,
            "align_items": null,
            "align_self": null,
            "border": null,
            "bottom": null,
            "display": null,
            "flex": null,
            "flex_flow": null,
            "grid_area": null,
            "grid_auto_columns": null,
            "grid_auto_flow": null,
            "grid_auto_rows": null,
            "grid_column": null,
            "grid_gap": null,
            "grid_row": null,
            "grid_template_areas": null,
            "grid_template_columns": null,
            "grid_template_rows": null,
            "height": null,
            "justify_content": null,
            "justify_items": null,
            "left": null,
            "margin": null,
            "max_height": null,
            "max_width": null,
            "min_height": null,
            "min_width": null,
            "object_fit": null,
            "object_position": null,
            "order": null,
            "overflow": null,
            "overflow_x": null,
            "overflow_y": null,
            "padding": null,
            "right": null,
            "top": null,
            "visibility": null,
            "width": null
          }
        },
        "351794b2f3e34ff1ae45b3836bae2402": {
          "model_module": "@jupyter-widgets/controls",
          "model_name": "DescriptionStyleModel",
          "model_module_version": "1.5.0",
          "state": {
            "_model_module": "@jupyter-widgets/controls",
            "_model_module_version": "1.5.0",
            "_model_name": "DescriptionStyleModel",
            "_view_count": null,
            "_view_module": "@jupyter-widgets/base",
            "_view_module_version": "1.2.0",
            "_view_name": "StyleView",
            "description_width": ""
          }
        },
        "5b31c0bc5c99447591d122ca1980a347": {
          "model_module": "@jupyter-widgets/base",
          "model_name": "LayoutModel",
          "model_module_version": "1.2.0",
          "state": {
            "_model_module": "@jupyter-widgets/base",
            "_model_module_version": "1.2.0",
            "_model_name": "LayoutModel",
            "_view_count": null,
            "_view_module": "@jupyter-widgets/base",
            "_view_module_version": "1.2.0",
            "_view_name": "LayoutView",
            "align_content": null,
            "align_items": null,
            "align_self": null,
            "border": null,
            "bottom": null,
            "display": null,
            "flex": null,
            "flex_flow": null,
            "grid_area": null,
            "grid_auto_columns": null,
            "grid_auto_flow": null,
            "grid_auto_rows": null,
            "grid_column": null,
            "grid_gap": null,
            "grid_row": null,
            "grid_template_areas": null,
            "grid_template_columns": null,
            "grid_template_rows": null,
            "height": null,
            "justify_content": null,
            "justify_items": null,
            "left": null,
            "margin": null,
            "max_height": null,
            "max_width": null,
            "min_height": null,
            "min_width": null,
            "object_fit": null,
            "object_position": null,
            "order": null,
            "overflow": null,
            "overflow_x": null,
            "overflow_y": null,
            "padding": null,
            "right": null,
            "top": null,
            "visibility": null,
            "width": "20px"
          }
        },
        "506ad1dbb7de441588851e47bffeee55": {
          "model_module": "@jupyter-widgets/controls",
          "model_name": "ProgressStyleModel",
          "model_module_version": "1.5.0",
          "state": {
            "_model_module": "@jupyter-widgets/controls",
            "_model_module_version": "1.5.0",
            "_model_name": "ProgressStyleModel",
            "_view_count": null,
            "_view_module": "@jupyter-widgets/base",
            "_view_module_version": "1.2.0",
            "_view_name": "StyleView",
            "bar_color": null,
            "description_width": ""
          }
        },
        "93fa1357b7ad4fd19683158e15c0ffc1": {
          "model_module": "@jupyter-widgets/base",
          "model_name": "LayoutModel",
          "model_module_version": "1.2.0",
          "state": {
            "_model_module": "@jupyter-widgets/base",
            "_model_module_version": "1.2.0",
            "_model_name": "LayoutModel",
            "_view_count": null,
            "_view_module": "@jupyter-widgets/base",
            "_view_module_version": "1.2.0",
            "_view_name": "LayoutView",
            "align_content": null,
            "align_items": null,
            "align_self": null,
            "border": null,
            "bottom": null,
            "display": null,
            "flex": null,
            "flex_flow": null,
            "grid_area": null,
            "grid_auto_columns": null,
            "grid_auto_flow": null,
            "grid_auto_rows": null,
            "grid_column": null,
            "grid_gap": null,
            "grid_row": null,
            "grid_template_areas": null,
            "grid_template_columns": null,
            "grid_template_rows": null,
            "height": null,
            "justify_content": null,
            "justify_items": null,
            "left": null,
            "margin": null,
            "max_height": null,
            "max_width": null,
            "min_height": null,
            "min_width": null,
            "object_fit": null,
            "object_position": null,
            "order": null,
            "overflow": null,
            "overflow_x": null,
            "overflow_y": null,
            "padding": null,
            "right": null,
            "top": null,
            "visibility": null,
            "width": null
          }
        },
        "19a6429f8b874af9b702a6981d9471a6": {
          "model_module": "@jupyter-widgets/controls",
          "model_name": "DescriptionStyleModel",
          "model_module_version": "1.5.0",
          "state": {
            "_model_module": "@jupyter-widgets/controls",
            "_model_module_version": "1.5.0",
            "_model_name": "DescriptionStyleModel",
            "_view_count": null,
            "_view_module": "@jupyter-widgets/base",
            "_view_module_version": "1.2.0",
            "_view_name": "StyleView",
            "description_width": ""
          }
        },
        "813e06ede61d45429fb0fe892c01213b": {
          "model_module": "@jupyter-widgets/controls",
          "model_name": "HBoxModel",
          "model_module_version": "1.5.0",
          "state": {
            "_dom_classes": [],
            "_model_module": "@jupyter-widgets/controls",
            "_model_module_version": "1.5.0",
            "_model_name": "HBoxModel",
            "_view_count": null,
            "_view_module": "@jupyter-widgets/controls",
            "_view_module_version": "1.5.0",
            "_view_name": "HBoxView",
            "box_style": "",
            "children": [
              "IPY_MODEL_51a0b20596a648ab8519f42b6a452049",
              "IPY_MODEL_e3db658b1b7d4b289c1a539bf1038c61",
              "IPY_MODEL_1d8a5e2296f84449862742ae4f14c5f1"
            ],
            "layout": "IPY_MODEL_9cae39840a7c4be9a28aa061da097386"
          }
        },
        "51a0b20596a648ab8519f42b6a452049": {
          "model_module": "@jupyter-widgets/controls",
          "model_name": "HTMLModel",
          "model_module_version": "1.5.0",
          "state": {
            "_dom_classes": [],
            "_model_module": "@jupyter-widgets/controls",
            "_model_module_version": "1.5.0",
            "_model_name": "HTMLModel",
            "_view_count": null,
            "_view_module": "@jupyter-widgets/controls",
            "_view_module_version": "1.5.0",
            "_view_name": "HTMLView",
            "description": "",
            "description_tooltip": null,
            "layout": "IPY_MODEL_a6907bc344974b5bad3dc4aab4432904",
            "placeholder": "​",
            "style": "IPY_MODEL_5504e7b1ea484728b8d9b162f5982d6e",
            "value": "Map:   0%"
          }
        },
        "e3db658b1b7d4b289c1a539bf1038c61": {
          "model_module": "@jupyter-widgets/controls",
          "model_name": "FloatProgressModel",
          "model_module_version": "1.5.0",
          "state": {
            "_dom_classes": [],
            "_model_module": "@jupyter-widgets/controls",
            "_model_module_version": "1.5.0",
            "_model_name": "FloatProgressModel",
            "_view_count": null,
            "_view_module": "@jupyter-widgets/controls",
            "_view_module_version": "1.5.0",
            "_view_name": "ProgressView",
            "bar_style": "",
            "description": "",
            "description_tooltip": null,
            "layout": "IPY_MODEL_bbd937ada1124d43a5edff3cd03f37c0",
            "max": 2063,
            "min": 0,
            "orientation": "horizontal",
            "style": "IPY_MODEL_1553ab373c0b440d9b9fb71039277114",
            "value": 2063
          }
        },
        "1d8a5e2296f84449862742ae4f14c5f1": {
          "model_module": "@jupyter-widgets/controls",
          "model_name": "HTMLModel",
          "model_module_version": "1.5.0",
          "state": {
            "_dom_classes": [],
            "_model_module": "@jupyter-widgets/controls",
            "_model_module_version": "1.5.0",
            "_model_name": "HTMLModel",
            "_view_count": null,
            "_view_module": "@jupyter-widgets/controls",
            "_view_module_version": "1.5.0",
            "_view_name": "HTMLView",
            "description": "",
            "description_tooltip": null,
            "layout": "IPY_MODEL_2386f8e6c075494faba7a129012982c8",
            "placeholder": "​",
            "style": "IPY_MODEL_83d8c24130ca43638a58e14ca7cce647",
            "value": " 0/2063 [00:00&lt;?, ? examples/s]"
          }
        },
        "9cae39840a7c4be9a28aa061da097386": {
          "model_module": "@jupyter-widgets/base",
          "model_name": "LayoutModel",
          "model_module_version": "1.2.0",
          "state": {
            "_model_module": "@jupyter-widgets/base",
            "_model_module_version": "1.2.0",
            "_model_name": "LayoutModel",
            "_view_count": null,
            "_view_module": "@jupyter-widgets/base",
            "_view_module_version": "1.2.0",
            "_view_name": "LayoutView",
            "align_content": null,
            "align_items": null,
            "align_self": null,
            "border": null,
            "bottom": null,
            "display": null,
            "flex": null,
            "flex_flow": null,
            "grid_area": null,
            "grid_auto_columns": null,
            "grid_auto_flow": null,
            "grid_auto_rows": null,
            "grid_column": null,
            "grid_gap": null,
            "grid_row": null,
            "grid_template_areas": null,
            "grid_template_columns": null,
            "grid_template_rows": null,
            "height": null,
            "justify_content": null,
            "justify_items": null,
            "left": null,
            "margin": null,
            "max_height": null,
            "max_width": null,
            "min_height": null,
            "min_width": null,
            "object_fit": null,
            "object_position": null,
            "order": null,
            "overflow": null,
            "overflow_x": null,
            "overflow_y": null,
            "padding": null,
            "right": null,
            "top": null,
            "visibility": "hidden",
            "width": null
          }
        },
        "a6907bc344974b5bad3dc4aab4432904": {
          "model_module": "@jupyter-widgets/base",
          "model_name": "LayoutModel",
          "model_module_version": "1.2.0",
          "state": {
            "_model_module": "@jupyter-widgets/base",
            "_model_module_version": "1.2.0",
            "_model_name": "LayoutModel",
            "_view_count": null,
            "_view_module": "@jupyter-widgets/base",
            "_view_module_version": "1.2.0",
            "_view_name": "LayoutView",
            "align_content": null,
            "align_items": null,
            "align_self": null,
            "border": null,
            "bottom": null,
            "display": null,
            "flex": null,
            "flex_flow": null,
            "grid_area": null,
            "grid_auto_columns": null,
            "grid_auto_flow": null,
            "grid_auto_rows": null,
            "grid_column": null,
            "grid_gap": null,
            "grid_row": null,
            "grid_template_areas": null,
            "grid_template_columns": null,
            "grid_template_rows": null,
            "height": null,
            "justify_content": null,
            "justify_items": null,
            "left": null,
            "margin": null,
            "max_height": null,
            "max_width": null,
            "min_height": null,
            "min_width": null,
            "object_fit": null,
            "object_position": null,
            "order": null,
            "overflow": null,
            "overflow_x": null,
            "overflow_y": null,
            "padding": null,
            "right": null,
            "top": null,
            "visibility": null,
            "width": null
          }
        },
        "5504e7b1ea484728b8d9b162f5982d6e": {
          "model_module": "@jupyter-widgets/controls",
          "model_name": "DescriptionStyleModel",
          "model_module_version": "1.5.0",
          "state": {
            "_model_module": "@jupyter-widgets/controls",
            "_model_module_version": "1.5.0",
            "_model_name": "DescriptionStyleModel",
            "_view_count": null,
            "_view_module": "@jupyter-widgets/base",
            "_view_module_version": "1.2.0",
            "_view_name": "StyleView",
            "description_width": ""
          }
        },
        "bbd937ada1124d43a5edff3cd03f37c0": {
          "model_module": "@jupyter-widgets/base",
          "model_name": "LayoutModel",
          "model_module_version": "1.2.0",
          "state": {
            "_model_module": "@jupyter-widgets/base",
            "_model_module_version": "1.2.0",
            "_model_name": "LayoutModel",
            "_view_count": null,
            "_view_module": "@jupyter-widgets/base",
            "_view_module_version": "1.2.0",
            "_view_name": "LayoutView",
            "align_content": null,
            "align_items": null,
            "align_self": null,
            "border": null,
            "bottom": null,
            "display": null,
            "flex": null,
            "flex_flow": null,
            "grid_area": null,
            "grid_auto_columns": null,
            "grid_auto_flow": null,
            "grid_auto_rows": null,
            "grid_column": null,
            "grid_gap": null,
            "grid_row": null,
            "grid_template_areas": null,
            "grid_template_columns": null,
            "grid_template_rows": null,
            "height": null,
            "justify_content": null,
            "justify_items": null,
            "left": null,
            "margin": null,
            "max_height": null,
            "max_width": null,
            "min_height": null,
            "min_width": null,
            "object_fit": null,
            "object_position": null,
            "order": null,
            "overflow": null,
            "overflow_x": null,
            "overflow_y": null,
            "padding": null,
            "right": null,
            "top": null,
            "visibility": null,
            "width": null
          }
        },
        "1553ab373c0b440d9b9fb71039277114": {
          "model_module": "@jupyter-widgets/controls",
          "model_name": "ProgressStyleModel",
          "model_module_version": "1.5.0",
          "state": {
            "_model_module": "@jupyter-widgets/controls",
            "_model_module_version": "1.5.0",
            "_model_name": "ProgressStyleModel",
            "_view_count": null,
            "_view_module": "@jupyter-widgets/base",
            "_view_module_version": "1.2.0",
            "_view_name": "StyleView",
            "bar_color": null,
            "description_width": ""
          }
        },
        "2386f8e6c075494faba7a129012982c8": {
          "model_module": "@jupyter-widgets/base",
          "model_name": "LayoutModel",
          "model_module_version": "1.2.0",
          "state": {
            "_model_module": "@jupyter-widgets/base",
            "_model_module_version": "1.2.0",
            "_model_name": "LayoutModel",
            "_view_count": null,
            "_view_module": "@jupyter-widgets/base",
            "_view_module_version": "1.2.0",
            "_view_name": "LayoutView",
            "align_content": null,
            "align_items": null,
            "align_self": null,
            "border": null,
            "bottom": null,
            "display": null,
            "flex": null,
            "flex_flow": null,
            "grid_area": null,
            "grid_auto_columns": null,
            "grid_auto_flow": null,
            "grid_auto_rows": null,
            "grid_column": null,
            "grid_gap": null,
            "grid_row": null,
            "grid_template_areas": null,
            "grid_template_columns": null,
            "grid_template_rows": null,
            "height": null,
            "justify_content": null,
            "justify_items": null,
            "left": null,
            "margin": null,
            "max_height": null,
            "max_width": null,
            "min_height": null,
            "min_width": null,
            "object_fit": null,
            "object_position": null,
            "order": null,
            "overflow": null,
            "overflow_x": null,
            "overflow_y": null,
            "padding": null,
            "right": null,
            "top": null,
            "visibility": null,
            "width": null
          }
        },
        "83d8c24130ca43638a58e14ca7cce647": {
          "model_module": "@jupyter-widgets/controls",
          "model_name": "DescriptionStyleModel",
          "model_module_version": "1.5.0",
          "state": {
            "_model_module": "@jupyter-widgets/controls",
            "_model_module_version": "1.5.0",
            "_model_name": "DescriptionStyleModel",
            "_view_count": null,
            "_view_module": "@jupyter-widgets/base",
            "_view_module_version": "1.2.0",
            "_view_name": "StyleView",
            "description_width": ""
          }
        },
        "6bd5c7eec1bf408d9ce63a74f49824ce": {
          "model_module": "@jupyter-widgets/controls",
          "model_name": "HBoxModel",
          "model_module_version": "1.5.0",
          "state": {
            "_dom_classes": [],
            "_model_module": "@jupyter-widgets/controls",
            "_model_module_version": "1.5.0",
            "_model_name": "HBoxModel",
            "_view_count": null,
            "_view_module": "@jupyter-widgets/controls",
            "_view_module_version": "1.5.0",
            "_view_name": "HBoxView",
            "box_style": "",
            "children": [
              "IPY_MODEL_667c5dc7bd4c4686861fbad9bbed68ba",
              "IPY_MODEL_ce0b3150a0274d2cb148691686103362",
              "IPY_MODEL_6bd900a9e55942429e193360b0c5833c"
            ],
            "layout": "IPY_MODEL_ee476d8297574ed8bc8a9a8dbd3e1289"
          }
        },
        "667c5dc7bd4c4686861fbad9bbed68ba": {
          "model_module": "@jupyter-widgets/controls",
          "model_name": "HTMLModel",
          "model_module_version": "1.5.0",
          "state": {
            "_dom_classes": [],
            "_model_module": "@jupyter-widgets/controls",
            "_model_module_version": "1.5.0",
            "_model_name": "HTMLModel",
            "_view_count": null,
            "_view_module": "@jupyter-widgets/controls",
            "_view_module_version": "1.5.0",
            "_view_name": "HTMLView",
            "description": "",
            "description_tooltip": null,
            "layout": "IPY_MODEL_aad1f38a744d416e961555965564f20c",
            "placeholder": "​",
            "style": "IPY_MODEL_c7bfeb95bb4646eca91930be4fb3eb62",
            "value": "Map:   0%"
          }
        },
        "ce0b3150a0274d2cb148691686103362": {
          "model_module": "@jupyter-widgets/controls",
          "model_name": "FloatProgressModel",
          "model_module_version": "1.5.0",
          "state": {
            "_dom_classes": [],
            "_model_module": "@jupyter-widgets/controls",
            "_model_module_version": "1.5.0",
            "_model_name": "FloatProgressModel",
            "_view_count": null,
            "_view_module": "@jupyter-widgets/controls",
            "_view_module_version": "1.5.0",
            "_view_name": "ProgressView",
            "bar_style": "",
            "description": "",
            "description_tooltip": null,
            "layout": "IPY_MODEL_4568bac349714df6bedf350857d05f12",
            "max": 258,
            "min": 0,
            "orientation": "horizontal",
            "style": "IPY_MODEL_c261660e729447d4acc9b10977cbd151",
            "value": 258
          }
        },
        "6bd900a9e55942429e193360b0c5833c": {
          "model_module": "@jupyter-widgets/controls",
          "model_name": "HTMLModel",
          "model_module_version": "1.5.0",
          "state": {
            "_dom_classes": [],
            "_model_module": "@jupyter-widgets/controls",
            "_model_module_version": "1.5.0",
            "_model_name": "HTMLModel",
            "_view_count": null,
            "_view_module": "@jupyter-widgets/controls",
            "_view_module_version": "1.5.0",
            "_view_name": "HTMLView",
            "description": "",
            "description_tooltip": null,
            "layout": "IPY_MODEL_aca8165dd46b49d6a96004e1f6920bd3",
            "placeholder": "​",
            "style": "IPY_MODEL_92dbe52ae7fb452aae6afe8c15541d3e",
            "value": " 0/258 [00:00&lt;?, ? examples/s]"
          }
        },
        "ee476d8297574ed8bc8a9a8dbd3e1289": {
          "model_module": "@jupyter-widgets/base",
          "model_name": "LayoutModel",
          "model_module_version": "1.2.0",
          "state": {
            "_model_module": "@jupyter-widgets/base",
            "_model_module_version": "1.2.0",
            "_model_name": "LayoutModel",
            "_view_count": null,
            "_view_module": "@jupyter-widgets/base",
            "_view_module_version": "1.2.0",
            "_view_name": "LayoutView",
            "align_content": null,
            "align_items": null,
            "align_self": null,
            "border": null,
            "bottom": null,
            "display": null,
            "flex": null,
            "flex_flow": null,
            "grid_area": null,
            "grid_auto_columns": null,
            "grid_auto_flow": null,
            "grid_auto_rows": null,
            "grid_column": null,
            "grid_gap": null,
            "grid_row": null,
            "grid_template_areas": null,
            "grid_template_columns": null,
            "grid_template_rows": null,
            "height": null,
            "justify_content": null,
            "justify_items": null,
            "left": null,
            "margin": null,
            "max_height": null,
            "max_width": null,
            "min_height": null,
            "min_width": null,
            "object_fit": null,
            "object_position": null,
            "order": null,
            "overflow": null,
            "overflow_x": null,
            "overflow_y": null,
            "padding": null,
            "right": null,
            "top": null,
            "visibility": "hidden",
            "width": null
          }
        },
        "aad1f38a744d416e961555965564f20c": {
          "model_module": "@jupyter-widgets/base",
          "model_name": "LayoutModel",
          "model_module_version": "1.2.0",
          "state": {
            "_model_module": "@jupyter-widgets/base",
            "_model_module_version": "1.2.0",
            "_model_name": "LayoutModel",
            "_view_count": null,
            "_view_module": "@jupyter-widgets/base",
            "_view_module_version": "1.2.0",
            "_view_name": "LayoutView",
            "align_content": null,
            "align_items": null,
            "align_self": null,
            "border": null,
            "bottom": null,
            "display": null,
            "flex": null,
            "flex_flow": null,
            "grid_area": null,
            "grid_auto_columns": null,
            "grid_auto_flow": null,
            "grid_auto_rows": null,
            "grid_column": null,
            "grid_gap": null,
            "grid_row": null,
            "grid_template_areas": null,
            "grid_template_columns": null,
            "grid_template_rows": null,
            "height": null,
            "justify_content": null,
            "justify_items": null,
            "left": null,
            "margin": null,
            "max_height": null,
            "max_width": null,
            "min_height": null,
            "min_width": null,
            "object_fit": null,
            "object_position": null,
            "order": null,
            "overflow": null,
            "overflow_x": null,
            "overflow_y": null,
            "padding": null,
            "right": null,
            "top": null,
            "visibility": null,
            "width": null
          }
        },
        "c7bfeb95bb4646eca91930be4fb3eb62": {
          "model_module": "@jupyter-widgets/controls",
          "model_name": "DescriptionStyleModel",
          "model_module_version": "1.5.0",
          "state": {
            "_model_module": "@jupyter-widgets/controls",
            "_model_module_version": "1.5.0",
            "_model_name": "DescriptionStyleModel",
            "_view_count": null,
            "_view_module": "@jupyter-widgets/base",
            "_view_module_version": "1.2.0",
            "_view_name": "StyleView",
            "description_width": ""
          }
        },
        "4568bac349714df6bedf350857d05f12": {
          "model_module": "@jupyter-widgets/base",
          "model_name": "LayoutModel",
          "model_module_version": "1.2.0",
          "state": {
            "_model_module": "@jupyter-widgets/base",
            "_model_module_version": "1.2.0",
            "_model_name": "LayoutModel",
            "_view_count": null,
            "_view_module": "@jupyter-widgets/base",
            "_view_module_version": "1.2.0",
            "_view_name": "LayoutView",
            "align_content": null,
            "align_items": null,
            "align_self": null,
            "border": null,
            "bottom": null,
            "display": null,
            "flex": null,
            "flex_flow": null,
            "grid_area": null,
            "grid_auto_columns": null,
            "grid_auto_flow": null,
            "grid_auto_rows": null,
            "grid_column": null,
            "grid_gap": null,
            "grid_row": null,
            "grid_template_areas": null,
            "grid_template_columns": null,
            "grid_template_rows": null,
            "height": null,
            "justify_content": null,
            "justify_items": null,
            "left": null,
            "margin": null,
            "max_height": null,
            "max_width": null,
            "min_height": null,
            "min_width": null,
            "object_fit": null,
            "object_position": null,
            "order": null,
            "overflow": null,
            "overflow_x": null,
            "overflow_y": null,
            "padding": null,
            "right": null,
            "top": null,
            "visibility": null,
            "width": null
          }
        },
        "c261660e729447d4acc9b10977cbd151": {
          "model_module": "@jupyter-widgets/controls",
          "model_name": "ProgressStyleModel",
          "model_module_version": "1.5.0",
          "state": {
            "_model_module": "@jupyter-widgets/controls",
            "_model_module_version": "1.5.0",
            "_model_name": "ProgressStyleModel",
            "_view_count": null,
            "_view_module": "@jupyter-widgets/base",
            "_view_module_version": "1.2.0",
            "_view_name": "StyleView",
            "bar_color": null,
            "description_width": ""
          }
        },
        "aca8165dd46b49d6a96004e1f6920bd3": {
          "model_module": "@jupyter-widgets/base",
          "model_name": "LayoutModel",
          "model_module_version": "1.2.0",
          "state": {
            "_model_module": "@jupyter-widgets/base",
            "_model_module_version": "1.2.0",
            "_model_name": "LayoutModel",
            "_view_count": null,
            "_view_module": "@jupyter-widgets/base",
            "_view_module_version": "1.2.0",
            "_view_name": "LayoutView",
            "align_content": null,
            "align_items": null,
            "align_self": null,
            "border": null,
            "bottom": null,
            "display": null,
            "flex": null,
            "flex_flow": null,
            "grid_area": null,
            "grid_auto_columns": null,
            "grid_auto_flow": null,
            "grid_auto_rows": null,
            "grid_column": null,
            "grid_gap": null,
            "grid_row": null,
            "grid_template_areas": null,
            "grid_template_columns": null,
            "grid_template_rows": null,
            "height": null,
            "justify_content": null,
            "justify_items": null,
            "left": null,
            "margin": null,
            "max_height": null,
            "max_width": null,
            "min_height": null,
            "min_width": null,
            "object_fit": null,
            "object_position": null,
            "order": null,
            "overflow": null,
            "overflow_x": null,
            "overflow_y": null,
            "padding": null,
            "right": null,
            "top": null,
            "visibility": null,
            "width": null
          }
        },
        "92dbe52ae7fb452aae6afe8c15541d3e": {
          "model_module": "@jupyter-widgets/controls",
          "model_name": "DescriptionStyleModel",
          "model_module_version": "1.5.0",
          "state": {
            "_model_module": "@jupyter-widgets/controls",
            "_model_module_version": "1.5.0",
            "_model_name": "DescriptionStyleModel",
            "_view_count": null,
            "_view_module": "@jupyter-widgets/base",
            "_view_module_version": "1.2.0",
            "_view_name": "StyleView",
            "description_width": ""
          }
        },
        "a9cea1d9497f4c3488e8384901bd2e20": {
          "model_module": "@jupyter-widgets/controls",
          "model_name": "HBoxModel",
          "model_module_version": "1.5.0",
          "state": {
            "_dom_classes": [],
            "_model_module": "@jupyter-widgets/controls",
            "_model_module_version": "1.5.0",
            "_model_name": "HBoxModel",
            "_view_count": null,
            "_view_module": "@jupyter-widgets/controls",
            "_view_module_version": "1.5.0",
            "_view_name": "HBoxView",
            "box_style": "",
            "children": [
              "IPY_MODEL_4c0841710aa949d0b17965e300144165",
              "IPY_MODEL_efd6fea162cd451486cfbf7c518d0e80",
              "IPY_MODEL_1e55664744d34d1ba1b1ff07b80e7f79"
            ],
            "layout": "IPY_MODEL_e2dd8e22711a4f5387b6b5ca3db205b2"
          }
        },
        "4c0841710aa949d0b17965e300144165": {
          "model_module": "@jupyter-widgets/controls",
          "model_name": "HTMLModel",
          "model_module_version": "1.5.0",
          "state": {
            "_dom_classes": [],
            "_model_module": "@jupyter-widgets/controls",
            "_model_module_version": "1.5.0",
            "_model_name": "HTMLModel",
            "_view_count": null,
            "_view_module": "@jupyter-widgets/controls",
            "_view_module_version": "1.5.0",
            "_view_name": "HTMLView",
            "description": "",
            "description_tooltip": null,
            "layout": "IPY_MODEL_2cd62b733c8e40648c8329b99cfbc1da",
            "placeholder": "​",
            "style": "IPY_MODEL_c486092863e84c4b97cab7943ba71c89",
            "value": "Map:   0%"
          }
        },
        "efd6fea162cd451486cfbf7c518d0e80": {
          "model_module": "@jupyter-widgets/controls",
          "model_name": "FloatProgressModel",
          "model_module_version": "1.5.0",
          "state": {
            "_dom_classes": [],
            "_model_module": "@jupyter-widgets/controls",
            "_model_module_version": "1.5.0",
            "_model_name": "FloatProgressModel",
            "_view_count": null,
            "_view_module": "@jupyter-widgets/controls",
            "_view_module_version": "1.5.0",
            "_view_name": "ProgressView",
            "bar_style": "",
            "description": "",
            "description_tooltip": null,
            "layout": "IPY_MODEL_5d715fa41d6548b2a6fff38918ac565d",
            "max": 2063,
            "min": 0,
            "orientation": "horizontal",
            "style": "IPY_MODEL_4cb8c94ec74646ed9a222a219ced299a",
            "value": 2063
          }
        },
        "1e55664744d34d1ba1b1ff07b80e7f79": {
          "model_module": "@jupyter-widgets/controls",
          "model_name": "HTMLModel",
          "model_module_version": "1.5.0",
          "state": {
            "_dom_classes": [],
            "_model_module": "@jupyter-widgets/controls",
            "_model_module_version": "1.5.0",
            "_model_name": "HTMLModel",
            "_view_count": null,
            "_view_module": "@jupyter-widgets/controls",
            "_view_module_version": "1.5.0",
            "_view_name": "HTMLView",
            "description": "",
            "description_tooltip": null,
            "layout": "IPY_MODEL_46d28f2006584fbfa8ac653dbe0f60e3",
            "placeholder": "​",
            "style": "IPY_MODEL_d0a732ea80c24e1ab646d3b07d92439b",
            "value": " 0/2063 [00:00&lt;?, ? examples/s]"
          }
        },
        "e2dd8e22711a4f5387b6b5ca3db205b2": {
          "model_module": "@jupyter-widgets/base",
          "model_name": "LayoutModel",
          "model_module_version": "1.2.0",
          "state": {
            "_model_module": "@jupyter-widgets/base",
            "_model_module_version": "1.2.0",
            "_model_name": "LayoutModel",
            "_view_count": null,
            "_view_module": "@jupyter-widgets/base",
            "_view_module_version": "1.2.0",
            "_view_name": "LayoutView",
            "align_content": null,
            "align_items": null,
            "align_self": null,
            "border": null,
            "bottom": null,
            "display": null,
            "flex": null,
            "flex_flow": null,
            "grid_area": null,
            "grid_auto_columns": null,
            "grid_auto_flow": null,
            "grid_auto_rows": null,
            "grid_column": null,
            "grid_gap": null,
            "grid_row": null,
            "grid_template_areas": null,
            "grid_template_columns": null,
            "grid_template_rows": null,
            "height": null,
            "justify_content": null,
            "justify_items": null,
            "left": null,
            "margin": null,
            "max_height": null,
            "max_width": null,
            "min_height": null,
            "min_width": null,
            "object_fit": null,
            "object_position": null,
            "order": null,
            "overflow": null,
            "overflow_x": null,
            "overflow_y": null,
            "padding": null,
            "right": null,
            "top": null,
            "visibility": "hidden",
            "width": null
          }
        },
        "2cd62b733c8e40648c8329b99cfbc1da": {
          "model_module": "@jupyter-widgets/base",
          "model_name": "LayoutModel",
          "model_module_version": "1.2.0",
          "state": {
            "_model_module": "@jupyter-widgets/base",
            "_model_module_version": "1.2.0",
            "_model_name": "LayoutModel",
            "_view_count": null,
            "_view_module": "@jupyter-widgets/base",
            "_view_module_version": "1.2.0",
            "_view_name": "LayoutView",
            "align_content": null,
            "align_items": null,
            "align_self": null,
            "border": null,
            "bottom": null,
            "display": null,
            "flex": null,
            "flex_flow": null,
            "grid_area": null,
            "grid_auto_columns": null,
            "grid_auto_flow": null,
            "grid_auto_rows": null,
            "grid_column": null,
            "grid_gap": null,
            "grid_row": null,
            "grid_template_areas": null,
            "grid_template_columns": null,
            "grid_template_rows": null,
            "height": null,
            "justify_content": null,
            "justify_items": null,
            "left": null,
            "margin": null,
            "max_height": null,
            "max_width": null,
            "min_height": null,
            "min_width": null,
            "object_fit": null,
            "object_position": null,
            "order": null,
            "overflow": null,
            "overflow_x": null,
            "overflow_y": null,
            "padding": null,
            "right": null,
            "top": null,
            "visibility": null,
            "width": null
          }
        },
        "c486092863e84c4b97cab7943ba71c89": {
          "model_module": "@jupyter-widgets/controls",
          "model_name": "DescriptionStyleModel",
          "model_module_version": "1.5.0",
          "state": {
            "_model_module": "@jupyter-widgets/controls",
            "_model_module_version": "1.5.0",
            "_model_name": "DescriptionStyleModel",
            "_view_count": null,
            "_view_module": "@jupyter-widgets/base",
            "_view_module_version": "1.2.0",
            "_view_name": "StyleView",
            "description_width": ""
          }
        },
        "5d715fa41d6548b2a6fff38918ac565d": {
          "model_module": "@jupyter-widgets/base",
          "model_name": "LayoutModel",
          "model_module_version": "1.2.0",
          "state": {
            "_model_module": "@jupyter-widgets/base",
            "_model_module_version": "1.2.0",
            "_model_name": "LayoutModel",
            "_view_count": null,
            "_view_module": "@jupyter-widgets/base",
            "_view_module_version": "1.2.0",
            "_view_name": "LayoutView",
            "align_content": null,
            "align_items": null,
            "align_self": null,
            "border": null,
            "bottom": null,
            "display": null,
            "flex": null,
            "flex_flow": null,
            "grid_area": null,
            "grid_auto_columns": null,
            "grid_auto_flow": null,
            "grid_auto_rows": null,
            "grid_column": null,
            "grid_gap": null,
            "grid_row": null,
            "grid_template_areas": null,
            "grid_template_columns": null,
            "grid_template_rows": null,
            "height": null,
            "justify_content": null,
            "justify_items": null,
            "left": null,
            "margin": null,
            "max_height": null,
            "max_width": null,
            "min_height": null,
            "min_width": null,
            "object_fit": null,
            "object_position": null,
            "order": null,
            "overflow": null,
            "overflow_x": null,
            "overflow_y": null,
            "padding": null,
            "right": null,
            "top": null,
            "visibility": null,
            "width": null
          }
        },
        "4cb8c94ec74646ed9a222a219ced299a": {
          "model_module": "@jupyter-widgets/controls",
          "model_name": "ProgressStyleModel",
          "model_module_version": "1.5.0",
          "state": {
            "_model_module": "@jupyter-widgets/controls",
            "_model_module_version": "1.5.0",
            "_model_name": "ProgressStyleModel",
            "_view_count": null,
            "_view_module": "@jupyter-widgets/base",
            "_view_module_version": "1.2.0",
            "_view_name": "StyleView",
            "bar_color": null,
            "description_width": ""
          }
        },
        "46d28f2006584fbfa8ac653dbe0f60e3": {
          "model_module": "@jupyter-widgets/base",
          "model_name": "LayoutModel",
          "model_module_version": "1.2.0",
          "state": {
            "_model_module": "@jupyter-widgets/base",
            "_model_module_version": "1.2.0",
            "_model_name": "LayoutModel",
            "_view_count": null,
            "_view_module": "@jupyter-widgets/base",
            "_view_module_version": "1.2.0",
            "_view_name": "LayoutView",
            "align_content": null,
            "align_items": null,
            "align_self": null,
            "border": null,
            "bottom": null,
            "display": null,
            "flex": null,
            "flex_flow": null,
            "grid_area": null,
            "grid_auto_columns": null,
            "grid_auto_flow": null,
            "grid_auto_rows": null,
            "grid_column": null,
            "grid_gap": null,
            "grid_row": null,
            "grid_template_areas": null,
            "grid_template_columns": null,
            "grid_template_rows": null,
            "height": null,
            "justify_content": null,
            "justify_items": null,
            "left": null,
            "margin": null,
            "max_height": null,
            "max_width": null,
            "min_height": null,
            "min_width": null,
            "object_fit": null,
            "object_position": null,
            "order": null,
            "overflow": null,
            "overflow_x": null,
            "overflow_y": null,
            "padding": null,
            "right": null,
            "top": null,
            "visibility": null,
            "width": null
          }
        },
        "d0a732ea80c24e1ab646d3b07d92439b": {
          "model_module": "@jupyter-widgets/controls",
          "model_name": "DescriptionStyleModel",
          "model_module_version": "1.5.0",
          "state": {
            "_model_module": "@jupyter-widgets/controls",
            "_model_module_version": "1.5.0",
            "_model_name": "DescriptionStyleModel",
            "_view_count": null,
            "_view_module": "@jupyter-widgets/base",
            "_view_module_version": "1.2.0",
            "_view_name": "StyleView",
            "description_width": ""
          }
        },
        "603ee3e9fa774c03a445ec47b13d4c65": {
          "model_module": "@jupyter-widgets/controls",
          "model_name": "HBoxModel",
          "model_module_version": "1.5.0",
          "state": {
            "_dom_classes": [],
            "_model_module": "@jupyter-widgets/controls",
            "_model_module_version": "1.5.0",
            "_model_name": "HBoxModel",
            "_view_count": null,
            "_view_module": "@jupyter-widgets/controls",
            "_view_module_version": "1.5.0",
            "_view_name": "HBoxView",
            "box_style": "",
            "children": [
              "IPY_MODEL_97bd4af915c544a5b43fd7415d76cb44",
              "IPY_MODEL_2ffae66fc0d84b5bb67ca7f48ccd347c",
              "IPY_MODEL_5f00c78f4db24774ae4877451399d304"
            ],
            "layout": "IPY_MODEL_04799393129d469f99c638f615444bcc"
          }
        },
        "97bd4af915c544a5b43fd7415d76cb44": {
          "model_module": "@jupyter-widgets/controls",
          "model_name": "HTMLModel",
          "model_module_version": "1.5.0",
          "state": {
            "_dom_classes": [],
            "_model_module": "@jupyter-widgets/controls",
            "_model_module_version": "1.5.0",
            "_model_name": "HTMLModel",
            "_view_count": null,
            "_view_module": "@jupyter-widgets/controls",
            "_view_module_version": "1.5.0",
            "_view_name": "HTMLView",
            "description": "",
            "description_tooltip": null,
            "layout": "IPY_MODEL_c5697fd068e74357902aa88f42f18743",
            "placeholder": "​",
            "style": "IPY_MODEL_52f069cfeda249c893b1406f09b8365d",
            "value": "Map:   0%"
          }
        },
        "2ffae66fc0d84b5bb67ca7f48ccd347c": {
          "model_module": "@jupyter-widgets/controls",
          "model_name": "FloatProgressModel",
          "model_module_version": "1.5.0",
          "state": {
            "_dom_classes": [],
            "_model_module": "@jupyter-widgets/controls",
            "_model_module_version": "1.5.0",
            "_model_name": "FloatProgressModel",
            "_view_count": null,
            "_view_module": "@jupyter-widgets/controls",
            "_view_module_version": "1.5.0",
            "_view_name": "ProgressView",
            "bar_style": "",
            "description": "",
            "description_tooltip": null,
            "layout": "IPY_MODEL_355b8198088b45328d2bbdc7af67fbb9",
            "max": 258,
            "min": 0,
            "orientation": "horizontal",
            "style": "IPY_MODEL_2f14402a150c43d2b93d503a0202d785",
            "value": 258
          }
        },
        "5f00c78f4db24774ae4877451399d304": {
          "model_module": "@jupyter-widgets/controls",
          "model_name": "HTMLModel",
          "model_module_version": "1.5.0",
          "state": {
            "_dom_classes": [],
            "_model_module": "@jupyter-widgets/controls",
            "_model_module_version": "1.5.0",
            "_model_name": "HTMLModel",
            "_view_count": null,
            "_view_module": "@jupyter-widgets/controls",
            "_view_module_version": "1.5.0",
            "_view_name": "HTMLView",
            "description": "",
            "description_tooltip": null,
            "layout": "IPY_MODEL_df111c894cde44619994fa950f68a89a",
            "placeholder": "​",
            "style": "IPY_MODEL_8341cd23fe714d25a2e95cee5aa605dc",
            "value": " 0/258 [00:00&lt;?, ? examples/s]"
          }
        },
        "04799393129d469f99c638f615444bcc": {
          "model_module": "@jupyter-widgets/base",
          "model_name": "LayoutModel",
          "model_module_version": "1.2.0",
          "state": {
            "_model_module": "@jupyter-widgets/base",
            "_model_module_version": "1.2.0",
            "_model_name": "LayoutModel",
            "_view_count": null,
            "_view_module": "@jupyter-widgets/base",
            "_view_module_version": "1.2.0",
            "_view_name": "LayoutView",
            "align_content": null,
            "align_items": null,
            "align_self": null,
            "border": null,
            "bottom": null,
            "display": null,
            "flex": null,
            "flex_flow": null,
            "grid_area": null,
            "grid_auto_columns": null,
            "grid_auto_flow": null,
            "grid_auto_rows": null,
            "grid_column": null,
            "grid_gap": null,
            "grid_row": null,
            "grid_template_areas": null,
            "grid_template_columns": null,
            "grid_template_rows": null,
            "height": null,
            "justify_content": null,
            "justify_items": null,
            "left": null,
            "margin": null,
            "max_height": null,
            "max_width": null,
            "min_height": null,
            "min_width": null,
            "object_fit": null,
            "object_position": null,
            "order": null,
            "overflow": null,
            "overflow_x": null,
            "overflow_y": null,
            "padding": null,
            "right": null,
            "top": null,
            "visibility": "hidden",
            "width": null
          }
        },
        "c5697fd068e74357902aa88f42f18743": {
          "model_module": "@jupyter-widgets/base",
          "model_name": "LayoutModel",
          "model_module_version": "1.2.0",
          "state": {
            "_model_module": "@jupyter-widgets/base",
            "_model_module_version": "1.2.0",
            "_model_name": "LayoutModel",
            "_view_count": null,
            "_view_module": "@jupyter-widgets/base",
            "_view_module_version": "1.2.0",
            "_view_name": "LayoutView",
            "align_content": null,
            "align_items": null,
            "align_self": null,
            "border": null,
            "bottom": null,
            "display": null,
            "flex": null,
            "flex_flow": null,
            "grid_area": null,
            "grid_auto_columns": null,
            "grid_auto_flow": null,
            "grid_auto_rows": null,
            "grid_column": null,
            "grid_gap": null,
            "grid_row": null,
            "grid_template_areas": null,
            "grid_template_columns": null,
            "grid_template_rows": null,
            "height": null,
            "justify_content": null,
            "justify_items": null,
            "left": null,
            "margin": null,
            "max_height": null,
            "max_width": null,
            "min_height": null,
            "min_width": null,
            "object_fit": null,
            "object_position": null,
            "order": null,
            "overflow": null,
            "overflow_x": null,
            "overflow_y": null,
            "padding": null,
            "right": null,
            "top": null,
            "visibility": null,
            "width": null
          }
        },
        "52f069cfeda249c893b1406f09b8365d": {
          "model_module": "@jupyter-widgets/controls",
          "model_name": "DescriptionStyleModel",
          "model_module_version": "1.5.0",
          "state": {
            "_model_module": "@jupyter-widgets/controls",
            "_model_module_version": "1.5.0",
            "_model_name": "DescriptionStyleModel",
            "_view_count": null,
            "_view_module": "@jupyter-widgets/base",
            "_view_module_version": "1.2.0",
            "_view_name": "StyleView",
            "description_width": ""
          }
        },
        "355b8198088b45328d2bbdc7af67fbb9": {
          "model_module": "@jupyter-widgets/base",
          "model_name": "LayoutModel",
          "model_module_version": "1.2.0",
          "state": {
            "_model_module": "@jupyter-widgets/base",
            "_model_module_version": "1.2.0",
            "_model_name": "LayoutModel",
            "_view_count": null,
            "_view_module": "@jupyter-widgets/base",
            "_view_module_version": "1.2.0",
            "_view_name": "LayoutView",
            "align_content": null,
            "align_items": null,
            "align_self": null,
            "border": null,
            "bottom": null,
            "display": null,
            "flex": null,
            "flex_flow": null,
            "grid_area": null,
            "grid_auto_columns": null,
            "grid_auto_flow": null,
            "grid_auto_rows": null,
            "grid_column": null,
            "grid_gap": null,
            "grid_row": null,
            "grid_template_areas": null,
            "grid_template_columns": null,
            "grid_template_rows": null,
            "height": null,
            "justify_content": null,
            "justify_items": null,
            "left": null,
            "margin": null,
            "max_height": null,
            "max_width": null,
            "min_height": null,
            "min_width": null,
            "object_fit": null,
            "object_position": null,
            "order": null,
            "overflow": null,
            "overflow_x": null,
            "overflow_y": null,
            "padding": null,
            "right": null,
            "top": null,
            "visibility": null,
            "width": null
          }
        },
        "2f14402a150c43d2b93d503a0202d785": {
          "model_module": "@jupyter-widgets/controls",
          "model_name": "ProgressStyleModel",
          "model_module_version": "1.5.0",
          "state": {
            "_model_module": "@jupyter-widgets/controls",
            "_model_module_version": "1.5.0",
            "_model_name": "ProgressStyleModel",
            "_view_count": null,
            "_view_module": "@jupyter-widgets/base",
            "_view_module_version": "1.2.0",
            "_view_name": "StyleView",
            "bar_color": null,
            "description_width": ""
          }
        },
        "df111c894cde44619994fa950f68a89a": {
          "model_module": "@jupyter-widgets/base",
          "model_name": "LayoutModel",
          "model_module_version": "1.2.0",
          "state": {
            "_model_module": "@jupyter-widgets/base",
            "_model_module_version": "1.2.0",
            "_model_name": "LayoutModel",
            "_view_count": null,
            "_view_module": "@jupyter-widgets/base",
            "_view_module_version": "1.2.0",
            "_view_name": "LayoutView",
            "align_content": null,
            "align_items": null,
            "align_self": null,
            "border": null,
            "bottom": null,
            "display": null,
            "flex": null,
            "flex_flow": null,
            "grid_area": null,
            "grid_auto_columns": null,
            "grid_auto_flow": null,
            "grid_auto_rows": null,
            "grid_column": null,
            "grid_gap": null,
            "grid_row": null,
            "grid_template_areas": null,
            "grid_template_columns": null,
            "grid_template_rows": null,
            "height": null,
            "justify_content": null,
            "justify_items": null,
            "left": null,
            "margin": null,
            "max_height": null,
            "max_width": null,
            "min_height": null,
            "min_width": null,
            "object_fit": null,
            "object_position": null,
            "order": null,
            "overflow": null,
            "overflow_x": null,
            "overflow_y": null,
            "padding": null,
            "right": null,
            "top": null,
            "visibility": null,
            "width": null
          }
        },
        "8341cd23fe714d25a2e95cee5aa605dc": {
          "model_module": "@jupyter-widgets/controls",
          "model_name": "DescriptionStyleModel",
          "model_module_version": "1.5.0",
          "state": {
            "_model_module": "@jupyter-widgets/controls",
            "_model_module_version": "1.5.0",
            "_model_name": "DescriptionStyleModel",
            "_view_count": null,
            "_view_module": "@jupyter-widgets/base",
            "_view_module_version": "1.2.0",
            "_view_name": "StyleView",
            "description_width": ""
          }
        },
        "f65ee58e8dff44ada0b010c202f62e96": {
          "model_module": "@jupyter-widgets/controls",
          "model_name": "HBoxModel",
          "model_module_version": "1.5.0",
          "state": {
            "_dom_classes": [],
            "_model_module": "@jupyter-widgets/controls",
            "_model_module_version": "1.5.0",
            "_model_name": "HBoxModel",
            "_view_count": null,
            "_view_module": "@jupyter-widgets/controls",
            "_view_module_version": "1.5.0",
            "_view_name": "HBoxView",
            "box_style": "",
            "children": [
              "IPY_MODEL_88c1aeba134e4c2db0425f866b852531",
              "IPY_MODEL_07fd3b7d99b9405cb92cb6f10f222a35",
              "IPY_MODEL_83806df98ffb42efb066bb89a9c19994"
            ],
            "layout": "IPY_MODEL_d865f0707cbf4cf88d9a07a8d8f4d07c"
          }
        },
        "88c1aeba134e4c2db0425f866b852531": {
          "model_module": "@jupyter-widgets/controls",
          "model_name": "HTMLModel",
          "model_module_version": "1.5.0",
          "state": {
            "_dom_classes": [],
            "_model_module": "@jupyter-widgets/controls",
            "_model_module_version": "1.5.0",
            "_model_name": "HTMLModel",
            "_view_count": null,
            "_view_module": "@jupyter-widgets/controls",
            "_view_module_version": "1.5.0",
            "_view_name": "HTMLView",
            "description": "",
            "description_tooltip": null,
            "layout": "IPY_MODEL_c348f16ecf154651b50f318ad5c6c6b7",
            "placeholder": "​",
            "style": "IPY_MODEL_66d512a0f47041d3bb2d8384ec0d1fa6",
            "value": "Map:  97%"
          }
        },
        "07fd3b7d99b9405cb92cb6f10f222a35": {
          "model_module": "@jupyter-widgets/controls",
          "model_name": "FloatProgressModel",
          "model_module_version": "1.5.0",
          "state": {
            "_dom_classes": [],
            "_model_module": "@jupyter-widgets/controls",
            "_model_module_version": "1.5.0",
            "_model_name": "FloatProgressModel",
            "_view_count": null,
            "_view_module": "@jupyter-widgets/controls",
            "_view_module_version": "1.5.0",
            "_view_name": "ProgressView",
            "bar_style": "",
            "description": "",
            "description_tooltip": null,
            "layout": "IPY_MODEL_22c265648f434ac89c8586680089937d",
            "max": 2063,
            "min": 0,
            "orientation": "horizontal",
            "style": "IPY_MODEL_6f20fef8613a4a8497e4ff22151b9191",
            "value": 2063
          }
        },
        "83806df98ffb42efb066bb89a9c19994": {
          "model_module": "@jupyter-widgets/controls",
          "model_name": "HTMLModel",
          "model_module_version": "1.5.0",
          "state": {
            "_dom_classes": [],
            "_model_module": "@jupyter-widgets/controls",
            "_model_module_version": "1.5.0",
            "_model_name": "HTMLModel",
            "_view_count": null,
            "_view_module": "@jupyter-widgets/controls",
            "_view_module_version": "1.5.0",
            "_view_name": "HTMLView",
            "description": "",
            "description_tooltip": null,
            "layout": "IPY_MODEL_388e835af2e244c9addc12ca76aa7336",
            "placeholder": "​",
            "style": "IPY_MODEL_84fd8f70039045148a861dc6f14de704",
            "value": " 2000/2063 [00:04&lt;00:00, 223.30 examples/s]"
          }
        },
        "d865f0707cbf4cf88d9a07a8d8f4d07c": {
          "model_module": "@jupyter-widgets/base",
          "model_name": "LayoutModel",
          "model_module_version": "1.2.0",
          "state": {
            "_model_module": "@jupyter-widgets/base",
            "_model_module_version": "1.2.0",
            "_model_name": "LayoutModel",
            "_view_count": null,
            "_view_module": "@jupyter-widgets/base",
            "_view_module_version": "1.2.0",
            "_view_name": "LayoutView",
            "align_content": null,
            "align_items": null,
            "align_self": null,
            "border": null,
            "bottom": null,
            "display": null,
            "flex": null,
            "flex_flow": null,
            "grid_area": null,
            "grid_auto_columns": null,
            "grid_auto_flow": null,
            "grid_auto_rows": null,
            "grid_column": null,
            "grid_gap": null,
            "grid_row": null,
            "grid_template_areas": null,
            "grid_template_columns": null,
            "grid_template_rows": null,
            "height": null,
            "justify_content": null,
            "justify_items": null,
            "left": null,
            "margin": null,
            "max_height": null,
            "max_width": null,
            "min_height": null,
            "min_width": null,
            "object_fit": null,
            "object_position": null,
            "order": null,
            "overflow": null,
            "overflow_x": null,
            "overflow_y": null,
            "padding": null,
            "right": null,
            "top": null,
            "visibility": "hidden",
            "width": null
          }
        },
        "c348f16ecf154651b50f318ad5c6c6b7": {
          "model_module": "@jupyter-widgets/base",
          "model_name": "LayoutModel",
          "model_module_version": "1.2.0",
          "state": {
            "_model_module": "@jupyter-widgets/base",
            "_model_module_version": "1.2.0",
            "_model_name": "LayoutModel",
            "_view_count": null,
            "_view_module": "@jupyter-widgets/base",
            "_view_module_version": "1.2.0",
            "_view_name": "LayoutView",
            "align_content": null,
            "align_items": null,
            "align_self": null,
            "border": null,
            "bottom": null,
            "display": null,
            "flex": null,
            "flex_flow": null,
            "grid_area": null,
            "grid_auto_columns": null,
            "grid_auto_flow": null,
            "grid_auto_rows": null,
            "grid_column": null,
            "grid_gap": null,
            "grid_row": null,
            "grid_template_areas": null,
            "grid_template_columns": null,
            "grid_template_rows": null,
            "height": null,
            "justify_content": null,
            "justify_items": null,
            "left": null,
            "margin": null,
            "max_height": null,
            "max_width": null,
            "min_height": null,
            "min_width": null,
            "object_fit": null,
            "object_position": null,
            "order": null,
            "overflow": null,
            "overflow_x": null,
            "overflow_y": null,
            "padding": null,
            "right": null,
            "top": null,
            "visibility": null,
            "width": null
          }
        },
        "66d512a0f47041d3bb2d8384ec0d1fa6": {
          "model_module": "@jupyter-widgets/controls",
          "model_name": "DescriptionStyleModel",
          "model_module_version": "1.5.0",
          "state": {
            "_model_module": "@jupyter-widgets/controls",
            "_model_module_version": "1.5.0",
            "_model_name": "DescriptionStyleModel",
            "_view_count": null,
            "_view_module": "@jupyter-widgets/base",
            "_view_module_version": "1.2.0",
            "_view_name": "StyleView",
            "description_width": ""
          }
        },
        "22c265648f434ac89c8586680089937d": {
          "model_module": "@jupyter-widgets/base",
          "model_name": "LayoutModel",
          "model_module_version": "1.2.0",
          "state": {
            "_model_module": "@jupyter-widgets/base",
            "_model_module_version": "1.2.0",
            "_model_name": "LayoutModel",
            "_view_count": null,
            "_view_module": "@jupyter-widgets/base",
            "_view_module_version": "1.2.0",
            "_view_name": "LayoutView",
            "align_content": null,
            "align_items": null,
            "align_self": null,
            "border": null,
            "bottom": null,
            "display": null,
            "flex": null,
            "flex_flow": null,
            "grid_area": null,
            "grid_auto_columns": null,
            "grid_auto_flow": null,
            "grid_auto_rows": null,
            "grid_column": null,
            "grid_gap": null,
            "grid_row": null,
            "grid_template_areas": null,
            "grid_template_columns": null,
            "grid_template_rows": null,
            "height": null,
            "justify_content": null,
            "justify_items": null,
            "left": null,
            "margin": null,
            "max_height": null,
            "max_width": null,
            "min_height": null,
            "min_width": null,
            "object_fit": null,
            "object_position": null,
            "order": null,
            "overflow": null,
            "overflow_x": null,
            "overflow_y": null,
            "padding": null,
            "right": null,
            "top": null,
            "visibility": null,
            "width": null
          }
        },
        "6f20fef8613a4a8497e4ff22151b9191": {
          "model_module": "@jupyter-widgets/controls",
          "model_name": "ProgressStyleModel",
          "model_module_version": "1.5.0",
          "state": {
            "_model_module": "@jupyter-widgets/controls",
            "_model_module_version": "1.5.0",
            "_model_name": "ProgressStyleModel",
            "_view_count": null,
            "_view_module": "@jupyter-widgets/base",
            "_view_module_version": "1.2.0",
            "_view_name": "StyleView",
            "bar_color": null,
            "description_width": ""
          }
        },
        "388e835af2e244c9addc12ca76aa7336": {
          "model_module": "@jupyter-widgets/base",
          "model_name": "LayoutModel",
          "model_module_version": "1.2.0",
          "state": {
            "_model_module": "@jupyter-widgets/base",
            "_model_module_version": "1.2.0",
            "_model_name": "LayoutModel",
            "_view_count": null,
            "_view_module": "@jupyter-widgets/base",
            "_view_module_version": "1.2.0",
            "_view_name": "LayoutView",
            "align_content": null,
            "align_items": null,
            "align_self": null,
            "border": null,
            "bottom": null,
            "display": null,
            "flex": null,
            "flex_flow": null,
            "grid_area": null,
            "grid_auto_columns": null,
            "grid_auto_flow": null,
            "grid_auto_rows": null,
            "grid_column": null,
            "grid_gap": null,
            "grid_row": null,
            "grid_template_areas": null,
            "grid_template_columns": null,
            "grid_template_rows": null,
            "height": null,
            "justify_content": null,
            "justify_items": null,
            "left": null,
            "margin": null,
            "max_height": null,
            "max_width": null,
            "min_height": null,
            "min_width": null,
            "object_fit": null,
            "object_position": null,
            "order": null,
            "overflow": null,
            "overflow_x": null,
            "overflow_y": null,
            "padding": null,
            "right": null,
            "top": null,
            "visibility": null,
            "width": null
          }
        },
        "84fd8f70039045148a861dc6f14de704": {
          "model_module": "@jupyter-widgets/controls",
          "model_name": "DescriptionStyleModel",
          "model_module_version": "1.5.0",
          "state": {
            "_model_module": "@jupyter-widgets/controls",
            "_model_module_version": "1.5.0",
            "_model_name": "DescriptionStyleModel",
            "_view_count": null,
            "_view_module": "@jupyter-widgets/base",
            "_view_module_version": "1.2.0",
            "_view_name": "StyleView",
            "description_width": ""
          }
        },
        "4d2441f0395e483b9e70dfd8c56516a6": {
          "model_module": "@jupyter-widgets/controls",
          "model_name": "HBoxModel",
          "model_module_version": "1.5.0",
          "state": {
            "_dom_classes": [],
            "_model_module": "@jupyter-widgets/controls",
            "_model_module_version": "1.5.0",
            "_model_name": "HBoxModel",
            "_view_count": null,
            "_view_module": "@jupyter-widgets/controls",
            "_view_module_version": "1.5.0",
            "_view_name": "HBoxView",
            "box_style": "",
            "children": [
              "IPY_MODEL_184d22853574458dab3ccc8e408fc37b",
              "IPY_MODEL_4bec7a91808e4236945055f00fa3b0e7",
              "IPY_MODEL_3c42896731684299baa95ee00e29d2d4"
            ],
            "layout": "IPY_MODEL_7caaef7a51f84b41bb120ff5be4ae69a"
          }
        },
        "184d22853574458dab3ccc8e408fc37b": {
          "model_module": "@jupyter-widgets/controls",
          "model_name": "HTMLModel",
          "model_module_version": "1.5.0",
          "state": {
            "_dom_classes": [],
            "_model_module": "@jupyter-widgets/controls",
            "_model_module_version": "1.5.0",
            "_model_name": "HTMLModel",
            "_view_count": null,
            "_view_module": "@jupyter-widgets/controls",
            "_view_module_version": "1.5.0",
            "_view_name": "HTMLView",
            "description": "",
            "description_tooltip": null,
            "layout": "IPY_MODEL_7bea814b4c914a78aba9dca587ce953e",
            "placeholder": "​",
            "style": "IPY_MODEL_e37b206a245641c0b697e7cff137e092",
            "value": "Map:  78%"
          }
        },
        "4bec7a91808e4236945055f00fa3b0e7": {
          "model_module": "@jupyter-widgets/controls",
          "model_name": "FloatProgressModel",
          "model_module_version": "1.5.0",
          "state": {
            "_dom_classes": [],
            "_model_module": "@jupyter-widgets/controls",
            "_model_module_version": "1.5.0",
            "_model_name": "FloatProgressModel",
            "_view_count": null,
            "_view_module": "@jupyter-widgets/controls",
            "_view_module_version": "1.5.0",
            "_view_name": "ProgressView",
            "bar_style": "",
            "description": "",
            "description_tooltip": null,
            "layout": "IPY_MODEL_8d50190874264e62b323c77b2c1678bd",
            "max": 258,
            "min": 0,
            "orientation": "horizontal",
            "style": "IPY_MODEL_d6f8eb10a76c4885a07542be88fd1b2b",
            "value": 258
          }
        },
        "3c42896731684299baa95ee00e29d2d4": {
          "model_module": "@jupyter-widgets/controls",
          "model_name": "HTMLModel",
          "model_module_version": "1.5.0",
          "state": {
            "_dom_classes": [],
            "_model_module": "@jupyter-widgets/controls",
            "_model_module_version": "1.5.0",
            "_model_name": "HTMLModel",
            "_view_count": null,
            "_view_module": "@jupyter-widgets/controls",
            "_view_module_version": "1.5.0",
            "_view_name": "HTMLView",
            "description": "",
            "description_tooltip": null,
            "layout": "IPY_MODEL_e9fe3c1ae19a405db8f8ec14ae5cf58d",
            "placeholder": "​",
            "style": "IPY_MODEL_7ee7c0ffd8184991be26817fcee8c0bf",
            "value": " 201/258 [00:00&lt;00:00, 949.08 examples/s]"
          }
        },
        "7caaef7a51f84b41bb120ff5be4ae69a": {
          "model_module": "@jupyter-widgets/base",
          "model_name": "LayoutModel",
          "model_module_version": "1.2.0",
          "state": {
            "_model_module": "@jupyter-widgets/base",
            "_model_module_version": "1.2.0",
            "_model_name": "LayoutModel",
            "_view_count": null,
            "_view_module": "@jupyter-widgets/base",
            "_view_module_version": "1.2.0",
            "_view_name": "LayoutView",
            "align_content": null,
            "align_items": null,
            "align_self": null,
            "border": null,
            "bottom": null,
            "display": null,
            "flex": null,
            "flex_flow": null,
            "grid_area": null,
            "grid_auto_columns": null,
            "grid_auto_flow": null,
            "grid_auto_rows": null,
            "grid_column": null,
            "grid_gap": null,
            "grid_row": null,
            "grid_template_areas": null,
            "grid_template_columns": null,
            "grid_template_rows": null,
            "height": null,
            "justify_content": null,
            "justify_items": null,
            "left": null,
            "margin": null,
            "max_height": null,
            "max_width": null,
            "min_height": null,
            "min_width": null,
            "object_fit": null,
            "object_position": null,
            "order": null,
            "overflow": null,
            "overflow_x": null,
            "overflow_y": null,
            "padding": null,
            "right": null,
            "top": null,
            "visibility": "hidden",
            "width": null
          }
        },
        "7bea814b4c914a78aba9dca587ce953e": {
          "model_module": "@jupyter-widgets/base",
          "model_name": "LayoutModel",
          "model_module_version": "1.2.0",
          "state": {
            "_model_module": "@jupyter-widgets/base",
            "_model_module_version": "1.2.0",
            "_model_name": "LayoutModel",
            "_view_count": null,
            "_view_module": "@jupyter-widgets/base",
            "_view_module_version": "1.2.0",
            "_view_name": "LayoutView",
            "align_content": null,
            "align_items": null,
            "align_self": null,
            "border": null,
            "bottom": null,
            "display": null,
            "flex": null,
            "flex_flow": null,
            "grid_area": null,
            "grid_auto_columns": null,
            "grid_auto_flow": null,
            "grid_auto_rows": null,
            "grid_column": null,
            "grid_gap": null,
            "grid_row": null,
            "grid_template_areas": null,
            "grid_template_columns": null,
            "grid_template_rows": null,
            "height": null,
            "justify_content": null,
            "justify_items": null,
            "left": null,
            "margin": null,
            "max_height": null,
            "max_width": null,
            "min_height": null,
            "min_width": null,
            "object_fit": null,
            "object_position": null,
            "order": null,
            "overflow": null,
            "overflow_x": null,
            "overflow_y": null,
            "padding": null,
            "right": null,
            "top": null,
            "visibility": null,
            "width": null
          }
        },
        "e37b206a245641c0b697e7cff137e092": {
          "model_module": "@jupyter-widgets/controls",
          "model_name": "DescriptionStyleModel",
          "model_module_version": "1.5.0",
          "state": {
            "_model_module": "@jupyter-widgets/controls",
            "_model_module_version": "1.5.0",
            "_model_name": "DescriptionStyleModel",
            "_view_count": null,
            "_view_module": "@jupyter-widgets/base",
            "_view_module_version": "1.2.0",
            "_view_name": "StyleView",
            "description_width": ""
          }
        },
        "8d50190874264e62b323c77b2c1678bd": {
          "model_module": "@jupyter-widgets/base",
          "model_name": "LayoutModel",
          "model_module_version": "1.2.0",
          "state": {
            "_model_module": "@jupyter-widgets/base",
            "_model_module_version": "1.2.0",
            "_model_name": "LayoutModel",
            "_view_count": null,
            "_view_module": "@jupyter-widgets/base",
            "_view_module_version": "1.2.0",
            "_view_name": "LayoutView",
            "align_content": null,
            "align_items": null,
            "align_self": null,
            "border": null,
            "bottom": null,
            "display": null,
            "flex": null,
            "flex_flow": null,
            "grid_area": null,
            "grid_auto_columns": null,
            "grid_auto_flow": null,
            "grid_auto_rows": null,
            "grid_column": null,
            "grid_gap": null,
            "grid_row": null,
            "grid_template_areas": null,
            "grid_template_columns": null,
            "grid_template_rows": null,
            "height": null,
            "justify_content": null,
            "justify_items": null,
            "left": null,
            "margin": null,
            "max_height": null,
            "max_width": null,
            "min_height": null,
            "min_width": null,
            "object_fit": null,
            "object_position": null,
            "order": null,
            "overflow": null,
            "overflow_x": null,
            "overflow_y": null,
            "padding": null,
            "right": null,
            "top": null,
            "visibility": null,
            "width": null
          }
        },
        "d6f8eb10a76c4885a07542be88fd1b2b": {
          "model_module": "@jupyter-widgets/controls",
          "model_name": "ProgressStyleModel",
          "model_module_version": "1.5.0",
          "state": {
            "_model_module": "@jupyter-widgets/controls",
            "_model_module_version": "1.5.0",
            "_model_name": "ProgressStyleModel",
            "_view_count": null,
            "_view_module": "@jupyter-widgets/base",
            "_view_module_version": "1.2.0",
            "_view_name": "StyleView",
            "bar_color": null,
            "description_width": ""
          }
        },
        "e9fe3c1ae19a405db8f8ec14ae5cf58d": {
          "model_module": "@jupyter-widgets/base",
          "model_name": "LayoutModel",
          "model_module_version": "1.2.0",
          "state": {
            "_model_module": "@jupyter-widgets/base",
            "_model_module_version": "1.2.0",
            "_model_name": "LayoutModel",
            "_view_count": null,
            "_view_module": "@jupyter-widgets/base",
            "_view_module_version": "1.2.0",
            "_view_name": "LayoutView",
            "align_content": null,
            "align_items": null,
            "align_self": null,
            "border": null,
            "bottom": null,
            "display": null,
            "flex": null,
            "flex_flow": null,
            "grid_area": null,
            "grid_auto_columns": null,
            "grid_auto_flow": null,
            "grid_auto_rows": null,
            "grid_column": null,
            "grid_gap": null,
            "grid_row": null,
            "grid_template_areas": null,
            "grid_template_columns": null,
            "grid_template_rows": null,
            "height": null,
            "justify_content": null,
            "justify_items": null,
            "left": null,
            "margin": null,
            "max_height": null,
            "max_width": null,
            "min_height": null,
            "min_width": null,
            "object_fit": null,
            "object_position": null,
            "order": null,
            "overflow": null,
            "overflow_x": null,
            "overflow_y": null,
            "padding": null,
            "right": null,
            "top": null,
            "visibility": null,
            "width": null
          }
        },
        "7ee7c0ffd8184991be26817fcee8c0bf": {
          "model_module": "@jupyter-widgets/controls",
          "model_name": "DescriptionStyleModel",
          "model_module_version": "1.5.0",
          "state": {
            "_model_module": "@jupyter-widgets/controls",
            "_model_module_version": "1.5.0",
            "_model_name": "DescriptionStyleModel",
            "_view_count": null,
            "_view_module": "@jupyter-widgets/base",
            "_view_module_version": "1.2.0",
            "_view_name": "StyleView",
            "description_width": ""
          }
        },
        "57084e6e1d014121be524e0c4c3becf8": {
          "model_module": "@jupyter-widgets/controls",
          "model_name": "HBoxModel",
          "model_module_version": "1.5.0",
          "state": {
            "_dom_classes": [],
            "_model_module": "@jupyter-widgets/controls",
            "_model_module_version": "1.5.0",
            "_model_name": "HBoxModel",
            "_view_count": null,
            "_view_module": "@jupyter-widgets/controls",
            "_view_module_version": "1.5.0",
            "_view_name": "HBoxView",
            "box_style": "",
            "children": [
              "IPY_MODEL_c095c0fb90ee4754a34c73784306bbdc",
              "IPY_MODEL_77f91b7d2b0d489a92f4e86ee906c881",
              "IPY_MODEL_fc84ca2f6046485e9c4b4ef1eb084c03"
            ],
            "layout": "IPY_MODEL_be836204a2db42d5955a0d3e52a5fcde"
          }
        },
        "c095c0fb90ee4754a34c73784306bbdc": {
          "model_module": "@jupyter-widgets/controls",
          "model_name": "HTMLModel",
          "model_module_version": "1.5.0",
          "state": {
            "_dom_classes": [],
            "_model_module": "@jupyter-widgets/controls",
            "_model_module_version": "1.5.0",
            "_model_name": "HTMLModel",
            "_view_count": null,
            "_view_module": "@jupyter-widgets/controls",
            "_view_module_version": "1.5.0",
            "_view_name": "HTMLView",
            "description": "",
            "description_tooltip": null,
            "layout": "IPY_MODEL_a9ee14c17784485094cb01eeb459ad8c",
            "placeholder": "​",
            "style": "IPY_MODEL_b612bf126e1144079e15d80f82f75d41",
            "value": "Map (num_proc=4): 100%"
          }
        },
        "77f91b7d2b0d489a92f4e86ee906c881": {
          "model_module": "@jupyter-widgets/controls",
          "model_name": "FloatProgressModel",
          "model_module_version": "1.5.0",
          "state": {
            "_dom_classes": [],
            "_model_module": "@jupyter-widgets/controls",
            "_model_module_version": "1.5.0",
            "_model_name": "FloatProgressModel",
            "_view_count": null,
            "_view_module": "@jupyter-widgets/controls",
            "_view_module_version": "1.5.0",
            "_view_name": "ProgressView",
            "bar_style": "",
            "description": "",
            "description_tooltip": null,
            "layout": "IPY_MODEL_4d58d49cfd644631b01e361f663f58ad",
            "max": 2063,
            "min": 0,
            "orientation": "horizontal",
            "style": "IPY_MODEL_6e0a05be655a4794952e68b5ca0ae6e3",
            "value": 2063
          }
        },
        "fc84ca2f6046485e9c4b4ef1eb084c03": {
          "model_module": "@jupyter-widgets/controls",
          "model_name": "HTMLModel",
          "model_module_version": "1.5.0",
          "state": {
            "_dom_classes": [],
            "_model_module": "@jupyter-widgets/controls",
            "_model_module_version": "1.5.0",
            "_model_name": "HTMLModel",
            "_view_count": null,
            "_view_module": "@jupyter-widgets/controls",
            "_view_module_version": "1.5.0",
            "_view_name": "HTMLView",
            "description": "",
            "description_tooltip": null,
            "layout": "IPY_MODEL_340a36a0709d445a9a52b362ff1734e3",
            "placeholder": "​",
            "style": "IPY_MODEL_ea7f5e5f4052480681aa14d29bf6ce6e",
            "value": " 2063/2063 [01:08&lt;00:00, 16.67 examples/s]"
          }
        },
        "be836204a2db42d5955a0d3e52a5fcde": {
          "model_module": "@jupyter-widgets/base",
          "model_name": "LayoutModel",
          "model_module_version": "1.2.0",
          "state": {
            "_model_module": "@jupyter-widgets/base",
            "_model_module_version": "1.2.0",
            "_model_name": "LayoutModel",
            "_view_count": null,
            "_view_module": "@jupyter-widgets/base",
            "_view_module_version": "1.2.0",
            "_view_name": "LayoutView",
            "align_content": null,
            "align_items": null,
            "align_self": null,
            "border": null,
            "bottom": null,
            "display": null,
            "flex": null,
            "flex_flow": null,
            "grid_area": null,
            "grid_auto_columns": null,
            "grid_auto_flow": null,
            "grid_auto_rows": null,
            "grid_column": null,
            "grid_gap": null,
            "grid_row": null,
            "grid_template_areas": null,
            "grid_template_columns": null,
            "grid_template_rows": null,
            "height": null,
            "justify_content": null,
            "justify_items": null,
            "left": null,
            "margin": null,
            "max_height": null,
            "max_width": null,
            "min_height": null,
            "min_width": null,
            "object_fit": null,
            "object_position": null,
            "order": null,
            "overflow": null,
            "overflow_x": null,
            "overflow_y": null,
            "padding": null,
            "right": null,
            "top": null,
            "visibility": "hidden",
            "width": null
          }
        },
        "a9ee14c17784485094cb01eeb459ad8c": {
          "model_module": "@jupyter-widgets/base",
          "model_name": "LayoutModel",
          "model_module_version": "1.2.0",
          "state": {
            "_model_module": "@jupyter-widgets/base",
            "_model_module_version": "1.2.0",
            "_model_name": "LayoutModel",
            "_view_count": null,
            "_view_module": "@jupyter-widgets/base",
            "_view_module_version": "1.2.0",
            "_view_name": "LayoutView",
            "align_content": null,
            "align_items": null,
            "align_self": null,
            "border": null,
            "bottom": null,
            "display": null,
            "flex": null,
            "flex_flow": null,
            "grid_area": null,
            "grid_auto_columns": null,
            "grid_auto_flow": null,
            "grid_auto_rows": null,
            "grid_column": null,
            "grid_gap": null,
            "grid_row": null,
            "grid_template_areas": null,
            "grid_template_columns": null,
            "grid_template_rows": null,
            "height": null,
            "justify_content": null,
            "justify_items": null,
            "left": null,
            "margin": null,
            "max_height": null,
            "max_width": null,
            "min_height": null,
            "min_width": null,
            "object_fit": null,
            "object_position": null,
            "order": null,
            "overflow": null,
            "overflow_x": null,
            "overflow_y": null,
            "padding": null,
            "right": null,
            "top": null,
            "visibility": null,
            "width": null
          }
        },
        "b612bf126e1144079e15d80f82f75d41": {
          "model_module": "@jupyter-widgets/controls",
          "model_name": "DescriptionStyleModel",
          "model_module_version": "1.5.0",
          "state": {
            "_model_module": "@jupyter-widgets/controls",
            "_model_module_version": "1.5.0",
            "_model_name": "DescriptionStyleModel",
            "_view_count": null,
            "_view_module": "@jupyter-widgets/base",
            "_view_module_version": "1.2.0",
            "_view_name": "StyleView",
            "description_width": ""
          }
        },
        "4d58d49cfd644631b01e361f663f58ad": {
          "model_module": "@jupyter-widgets/base",
          "model_name": "LayoutModel",
          "model_module_version": "1.2.0",
          "state": {
            "_model_module": "@jupyter-widgets/base",
            "_model_module_version": "1.2.0",
            "_model_name": "LayoutModel",
            "_view_count": null,
            "_view_module": "@jupyter-widgets/base",
            "_view_module_version": "1.2.0",
            "_view_name": "LayoutView",
            "align_content": null,
            "align_items": null,
            "align_self": null,
            "border": null,
            "bottom": null,
            "display": null,
            "flex": null,
            "flex_flow": null,
            "grid_area": null,
            "grid_auto_columns": null,
            "grid_auto_flow": null,
            "grid_auto_rows": null,
            "grid_column": null,
            "grid_gap": null,
            "grid_row": null,
            "grid_template_areas": null,
            "grid_template_columns": null,
            "grid_template_rows": null,
            "height": null,
            "justify_content": null,
            "justify_items": null,
            "left": null,
            "margin": null,
            "max_height": null,
            "max_width": null,
            "min_height": null,
            "min_width": null,
            "object_fit": null,
            "object_position": null,
            "order": null,
            "overflow": null,
            "overflow_x": null,
            "overflow_y": null,
            "padding": null,
            "right": null,
            "top": null,
            "visibility": null,
            "width": null
          }
        },
        "6e0a05be655a4794952e68b5ca0ae6e3": {
          "model_module": "@jupyter-widgets/controls",
          "model_name": "ProgressStyleModel",
          "model_module_version": "1.5.0",
          "state": {
            "_model_module": "@jupyter-widgets/controls",
            "_model_module_version": "1.5.0",
            "_model_name": "ProgressStyleModel",
            "_view_count": null,
            "_view_module": "@jupyter-widgets/base",
            "_view_module_version": "1.2.0",
            "_view_name": "StyleView",
            "bar_color": null,
            "description_width": ""
          }
        },
        "340a36a0709d445a9a52b362ff1734e3": {
          "model_module": "@jupyter-widgets/base",
          "model_name": "LayoutModel",
          "model_module_version": "1.2.0",
          "state": {
            "_model_module": "@jupyter-widgets/base",
            "_model_module_version": "1.2.0",
            "_model_name": "LayoutModel",
            "_view_count": null,
            "_view_module": "@jupyter-widgets/base",
            "_view_module_version": "1.2.0",
            "_view_name": "LayoutView",
            "align_content": null,
            "align_items": null,
            "align_self": null,
            "border": null,
            "bottom": null,
            "display": null,
            "flex": null,
            "flex_flow": null,
            "grid_area": null,
            "grid_auto_columns": null,
            "grid_auto_flow": null,
            "grid_auto_rows": null,
            "grid_column": null,
            "grid_gap": null,
            "grid_row": null,
            "grid_template_areas": null,
            "grid_template_columns": null,
            "grid_template_rows": null,
            "height": null,
            "justify_content": null,
            "justify_items": null,
            "left": null,
            "margin": null,
            "max_height": null,
            "max_width": null,
            "min_height": null,
            "min_width": null,
            "object_fit": null,
            "object_position": null,
            "order": null,
            "overflow": null,
            "overflow_x": null,
            "overflow_y": null,
            "padding": null,
            "right": null,
            "top": null,
            "visibility": null,
            "width": null
          }
        },
        "ea7f5e5f4052480681aa14d29bf6ce6e": {
          "model_module": "@jupyter-widgets/controls",
          "model_name": "DescriptionStyleModel",
          "model_module_version": "1.5.0",
          "state": {
            "_model_module": "@jupyter-widgets/controls",
            "_model_module_version": "1.5.0",
            "_model_name": "DescriptionStyleModel",
            "_view_count": null,
            "_view_module": "@jupyter-widgets/base",
            "_view_module_version": "1.2.0",
            "_view_name": "StyleView",
            "description_width": ""
          }
        },
        "e78b6bf36c6c4745b0d04a450af72197": {
          "model_module": "@jupyter-widgets/controls",
          "model_name": "HBoxModel",
          "model_module_version": "1.5.0",
          "state": {
            "_dom_classes": [],
            "_model_module": "@jupyter-widgets/controls",
            "_model_module_version": "1.5.0",
            "_model_name": "HBoxModel",
            "_view_count": null,
            "_view_module": "@jupyter-widgets/controls",
            "_view_module_version": "1.5.0",
            "_view_name": "HBoxView",
            "box_style": "",
            "children": [
              "IPY_MODEL_82bb521e6a374db1910b46679ddc11b3",
              "IPY_MODEL_ce168953e24f4e339c2f93a01fa6a3f5",
              "IPY_MODEL_4afc30941dbe4f26844c45972d89af36"
            ],
            "layout": "IPY_MODEL_3839739fe15d4e87bbd05642761d1ae0"
          }
        },
        "82bb521e6a374db1910b46679ddc11b3": {
          "model_module": "@jupyter-widgets/controls",
          "model_name": "HTMLModel",
          "model_module_version": "1.5.0",
          "state": {
            "_dom_classes": [],
            "_model_module": "@jupyter-widgets/controls",
            "_model_module_version": "1.5.0",
            "_model_name": "HTMLModel",
            "_view_count": null,
            "_view_module": "@jupyter-widgets/controls",
            "_view_module_version": "1.5.0",
            "_view_name": "HTMLView",
            "description": "",
            "description_tooltip": null,
            "layout": "IPY_MODEL_dc5a6790ba4f407b8e51ea6ef71e397e",
            "placeholder": "​",
            "style": "IPY_MODEL_72a0a5c493b449adaf4a29a89ccd23d6",
            "value": "Map (num_proc=4): 100%"
          }
        },
        "ce168953e24f4e339c2f93a01fa6a3f5": {
          "model_module": "@jupyter-widgets/controls",
          "model_name": "FloatProgressModel",
          "model_module_version": "1.5.0",
          "state": {
            "_dom_classes": [],
            "_model_module": "@jupyter-widgets/controls",
            "_model_module_version": "1.5.0",
            "_model_name": "FloatProgressModel",
            "_view_count": null,
            "_view_module": "@jupyter-widgets/controls",
            "_view_module_version": "1.5.0",
            "_view_name": "ProgressView",
            "bar_style": "",
            "description": "",
            "description_tooltip": null,
            "layout": "IPY_MODEL_8d576b4e63bc4da49b8298d1ac84addc",
            "max": 258,
            "min": 0,
            "orientation": "horizontal",
            "style": "IPY_MODEL_827cc496b9c742aab59539bbd4547bb9",
            "value": 258
          }
        },
        "4afc30941dbe4f26844c45972d89af36": {
          "model_module": "@jupyter-widgets/controls",
          "model_name": "HTMLModel",
          "model_module_version": "1.5.0",
          "state": {
            "_dom_classes": [],
            "_model_module": "@jupyter-widgets/controls",
            "_model_module_version": "1.5.0",
            "_model_name": "HTMLModel",
            "_view_count": null,
            "_view_module": "@jupyter-widgets/controls",
            "_view_module_version": "1.5.0",
            "_view_name": "HTMLView",
            "description": "",
            "description_tooltip": null,
            "layout": "IPY_MODEL_12b5577b93e541a587f2f2eb2a9a64f7",
            "placeholder": "​",
            "style": "IPY_MODEL_924cba9d394e4b0a9bccffad33f14156",
            "value": " 258/258 [00:07&lt;00:00, 48.14 examples/s]"
          }
        },
        "3839739fe15d4e87bbd05642761d1ae0": {
          "model_module": "@jupyter-widgets/base",
          "model_name": "LayoutModel",
          "model_module_version": "1.2.0",
          "state": {
            "_model_module": "@jupyter-widgets/base",
            "_model_module_version": "1.2.0",
            "_model_name": "LayoutModel",
            "_view_count": null,
            "_view_module": "@jupyter-widgets/base",
            "_view_module_version": "1.2.0",
            "_view_name": "LayoutView",
            "align_content": null,
            "align_items": null,
            "align_self": null,
            "border": null,
            "bottom": null,
            "display": null,
            "flex": null,
            "flex_flow": null,
            "grid_area": null,
            "grid_auto_columns": null,
            "grid_auto_flow": null,
            "grid_auto_rows": null,
            "grid_column": null,
            "grid_gap": null,
            "grid_row": null,
            "grid_template_areas": null,
            "grid_template_columns": null,
            "grid_template_rows": null,
            "height": null,
            "justify_content": null,
            "justify_items": null,
            "left": null,
            "margin": null,
            "max_height": null,
            "max_width": null,
            "min_height": null,
            "min_width": null,
            "object_fit": null,
            "object_position": null,
            "order": null,
            "overflow": null,
            "overflow_x": null,
            "overflow_y": null,
            "padding": null,
            "right": null,
            "top": null,
            "visibility": "hidden",
            "width": null
          }
        },
        "dc5a6790ba4f407b8e51ea6ef71e397e": {
          "model_module": "@jupyter-widgets/base",
          "model_name": "LayoutModel",
          "model_module_version": "1.2.0",
          "state": {
            "_model_module": "@jupyter-widgets/base",
            "_model_module_version": "1.2.0",
            "_model_name": "LayoutModel",
            "_view_count": null,
            "_view_module": "@jupyter-widgets/base",
            "_view_module_version": "1.2.0",
            "_view_name": "LayoutView",
            "align_content": null,
            "align_items": null,
            "align_self": null,
            "border": null,
            "bottom": null,
            "display": null,
            "flex": null,
            "flex_flow": null,
            "grid_area": null,
            "grid_auto_columns": null,
            "grid_auto_flow": null,
            "grid_auto_rows": null,
            "grid_column": null,
            "grid_gap": null,
            "grid_row": null,
            "grid_template_areas": null,
            "grid_template_columns": null,
            "grid_template_rows": null,
            "height": null,
            "justify_content": null,
            "justify_items": null,
            "left": null,
            "margin": null,
            "max_height": null,
            "max_width": null,
            "min_height": null,
            "min_width": null,
            "object_fit": null,
            "object_position": null,
            "order": null,
            "overflow": null,
            "overflow_x": null,
            "overflow_y": null,
            "padding": null,
            "right": null,
            "top": null,
            "visibility": null,
            "width": null
          }
        },
        "72a0a5c493b449adaf4a29a89ccd23d6": {
          "model_module": "@jupyter-widgets/controls",
          "model_name": "DescriptionStyleModel",
          "model_module_version": "1.5.0",
          "state": {
            "_model_module": "@jupyter-widgets/controls",
            "_model_module_version": "1.5.0",
            "_model_name": "DescriptionStyleModel",
            "_view_count": null,
            "_view_module": "@jupyter-widgets/base",
            "_view_module_version": "1.2.0",
            "_view_name": "StyleView",
            "description_width": ""
          }
        },
        "8d576b4e63bc4da49b8298d1ac84addc": {
          "model_module": "@jupyter-widgets/base",
          "model_name": "LayoutModel",
          "model_module_version": "1.2.0",
          "state": {
            "_model_module": "@jupyter-widgets/base",
            "_model_module_version": "1.2.0",
            "_model_name": "LayoutModel",
            "_view_count": null,
            "_view_module": "@jupyter-widgets/base",
            "_view_module_version": "1.2.0",
            "_view_name": "LayoutView",
            "align_content": null,
            "align_items": null,
            "align_self": null,
            "border": null,
            "bottom": null,
            "display": null,
            "flex": null,
            "flex_flow": null,
            "grid_area": null,
            "grid_auto_columns": null,
            "grid_auto_flow": null,
            "grid_auto_rows": null,
            "grid_column": null,
            "grid_gap": null,
            "grid_row": null,
            "grid_template_areas": null,
            "grid_template_columns": null,
            "grid_template_rows": null,
            "height": null,
            "justify_content": null,
            "justify_items": null,
            "left": null,
            "margin": null,
            "max_height": null,
            "max_width": null,
            "min_height": null,
            "min_width": null,
            "object_fit": null,
            "object_position": null,
            "order": null,
            "overflow": null,
            "overflow_x": null,
            "overflow_y": null,
            "padding": null,
            "right": null,
            "top": null,
            "visibility": null,
            "width": null
          }
        },
        "827cc496b9c742aab59539bbd4547bb9": {
          "model_module": "@jupyter-widgets/controls",
          "model_name": "ProgressStyleModel",
          "model_module_version": "1.5.0",
          "state": {
            "_model_module": "@jupyter-widgets/controls",
            "_model_module_version": "1.5.0",
            "_model_name": "ProgressStyleModel",
            "_view_count": null,
            "_view_module": "@jupyter-widgets/base",
            "_view_module_version": "1.2.0",
            "_view_name": "StyleView",
            "bar_color": null,
            "description_width": ""
          }
        },
        "12b5577b93e541a587f2f2eb2a9a64f7": {
          "model_module": "@jupyter-widgets/base",
          "model_name": "LayoutModel",
          "model_module_version": "1.2.0",
          "state": {
            "_model_module": "@jupyter-widgets/base",
            "_model_module_version": "1.2.0",
            "_model_name": "LayoutModel",
            "_view_count": null,
            "_view_module": "@jupyter-widgets/base",
            "_view_module_version": "1.2.0",
            "_view_name": "LayoutView",
            "align_content": null,
            "align_items": null,
            "align_self": null,
            "border": null,
            "bottom": null,
            "display": null,
            "flex": null,
            "flex_flow": null,
            "grid_area": null,
            "grid_auto_columns": null,
            "grid_auto_flow": null,
            "grid_auto_rows": null,
            "grid_column": null,
            "grid_gap": null,
            "grid_row": null,
            "grid_template_areas": null,
            "grid_template_columns": null,
            "grid_template_rows": null,
            "height": null,
            "justify_content": null,
            "justify_items": null,
            "left": null,
            "margin": null,
            "max_height": null,
            "max_width": null,
            "min_height": null,
            "min_width": null,
            "object_fit": null,
            "object_position": null,
            "order": null,
            "overflow": null,
            "overflow_x": null,
            "overflow_y": null,
            "padding": null,
            "right": null,
            "top": null,
            "visibility": null,
            "width": null
          }
        },
        "924cba9d394e4b0a9bccffad33f14156": {
          "model_module": "@jupyter-widgets/controls",
          "model_name": "DescriptionStyleModel",
          "model_module_version": "1.5.0",
          "state": {
            "_model_module": "@jupyter-widgets/controls",
            "_model_module_version": "1.5.0",
            "_model_name": "DescriptionStyleModel",
            "_view_count": null,
            "_view_module": "@jupyter-widgets/base",
            "_view_module_version": "1.2.0",
            "_view_name": "StyleView",
            "description_width": ""
          }
        }
      }
    }
  },
  "nbformat": 4,
  "nbformat_minor": 0
}